{
 "cells": [
  {
   "cell_type": "code",
   "metadata": {
    "tags": [],
    "cell_id": "00000-fcf521d9-501c-453a-af5c-d6500fe66fc2",
    "deepnote_to_be_reexecuted": false,
    "source_hash": "87d1a2cf",
    "execution_start": 1641545878178,
    "execution_millis": 4449,
    "deepnote_cell_type": "code"
   },
   "source": "import pandas as pd\nimport seaborn as sns\nimport matplotlib.pyplot as plt\nimport datetime\nimport numpy as np\nfrom sklearn.preprocessing import LabelBinarizer, StandardScaler\nfrom sklearn.model_selection import train_test_split\nfrom sklearn.metrics import mean_absolute_error\nfrom statsmodels.stats.outliers_influence import variance_inflation_factor\nfrom statsmodels.tools.tools import add_constant",
   "execution_count": 1,
   "outputs": []
  },
  {
   "cell_type": "markdown",
   "source": "https://www.kaggle.com/ravijeetkr/customer-life-time-value-prediction",
   "metadata": {
    "tags": [],
    "cell_id": "00001-42e99d2b-afb2-4f35-87ea-98646661e135",
    "deepnote_cell_type": "markdown"
   }
  },
  {
   "cell_type": "code",
   "metadata": {
    "tags": [],
    "cell_id": "00001-9085412b-d32a-40e4-b6b6-7558a29121ae",
    "deepnote_to_be_reexecuted": false,
    "source_hash": "1281fd05",
    "execution_start": 1641545882630,
    "execution_millis": 62,
    "deepnote_cell_type": "code"
   },
   "source": "df = pd.read_csv('cltv_data.csv')",
   "execution_count": 2,
   "outputs": []
  },
  {
   "cell_type": "code",
   "metadata": {
    "tags": [],
    "cell_id": "00002-dbdfd0ff-304b-48d4-8e20-fd2089b1ad48",
    "deepnote_to_be_reexecuted": false,
    "source_hash": "de1e323c",
    "execution_start": 1641545882708,
    "execution_millis": 27,
    "deepnote_cell_type": "code"
   },
   "source": "df.info()",
   "execution_count": 3,
   "outputs": [
    {
     "name": "stdout",
     "text": "<class 'pandas.core.frame.DataFrame'>\nRangeIndex: 9134 entries, 0 to 9133\nData columns (total 24 columns):\n #   Column                         Non-Null Count  Dtype  \n---  ------                         --------------  -----  \n 0   Customer                       9134 non-null   object \n 1   State                          9134 non-null   object \n 2   Customer Lifetime Value        9134 non-null   float64\n 3   Response                       9134 non-null   object \n 4   Coverage                       9134 non-null   object \n 5   Education                      9134 non-null   object \n 6   Effective To Date              9134 non-null   object \n 7   EmploymentStatus               9134 non-null   object \n 8   Gender                         9134 non-null   object \n 9   Income                         9134 non-null   int64  \n 10  Location Code                  9134 non-null   object \n 11  Marital Status                 9134 non-null   object \n 12  Monthly Premium Auto           9134 non-null   int64  \n 13  Months Since Last Claim        9134 non-null   int64  \n 14  Months Since Policy Inception  9134 non-null   int64  \n 15  Number of Open Complaints      9134 non-null   int64  \n 16  Number of Policies             9134 non-null   int64  \n 17  Policy Type                    9134 non-null   object \n 18  Policy                         9134 non-null   object \n 19  Renew Offer Type               9134 non-null   object \n 20  Sales Channel                  9134 non-null   object \n 21  Total Claim Amount             9134 non-null   float64\n 22  Vehicle Class                  9134 non-null   object \n 23  Vehicle Size                   9134 non-null   object \ndtypes: float64(2), int64(6), object(16)\nmemory usage: 1.7+ MB\n",
     "output_type": "stream",
     "data": {}
    }
   ]
  },
  {
   "cell_type": "code",
   "metadata": {
    "tags": [],
    "cell_id": "00003-0bcf53b3-4a59-43dd-8352-2b5958fe9d23",
    "deepnote_to_be_reexecuted": false,
    "source_hash": "c085b6ba",
    "execution_start": 1641545882750,
    "execution_millis": 234,
    "deepnote_cell_type": "code"
   },
   "source": "df.head()",
   "execution_count": 4,
   "outputs": [
    {
     "output_type": "execute_result",
     "execution_count": 4,
     "data": {
      "application/vnd.deepnote.dataframe.v3+json": {
       "column_count": 24,
       "row_count": 5,
       "columns": [
        {
         "name": "Customer",
         "dtype": "object",
         "stats": {
          "unique_count": 5,
          "nan_count": 0,
          "categories": [
           {
            "name": "BU79786",
            "count": 1
           },
           {
            "name": "QZ44356",
            "count": 1
           },
           {
            "name": "3 others",
            "count": 3
           }
          ]
         }
        },
        {
         "name": "State",
         "dtype": "object",
         "stats": {
          "unique_count": 4,
          "nan_count": 0,
          "categories": [
           {
            "name": "Washington",
            "count": 2
           },
           {
            "name": "Arizona",
            "count": 1
           },
           {
            "name": "2 others",
            "count": 2
           }
          ]
         }
        },
        {
         "name": "Customer Lifetime Value",
         "dtype": "float64",
         "stats": {
          "unique_count": 5,
          "nan_count": 0,
          "min": "2763.519279",
          "max": "12887.43165",
          "histogram": [
           {
            "bin_start": 2763.519279,
            "bin_end": 3775.9105161,
            "count": 2
           },
           {
            "bin_start": 3775.9105161,
            "bin_end": 4788.3017532,
            "count": 0
           },
           {
            "bin_start": 4788.3017532,
            "bin_end": 5800.6929903,
            "count": 0
           },
           {
            "bin_start": 5800.6929903,
            "bin_end": 6813.084227400001,
            "count": 0
           },
           {
            "bin_start": 6813.084227400001,
            "bin_end": 7825.4754645,
            "count": 2
           },
           {
            "bin_start": 7825.4754645,
            "bin_end": 8837.8667016,
            "count": 0
           },
           {
            "bin_start": 8837.8667016,
            "bin_end": 9850.2579387,
            "count": 0
           },
           {
            "bin_start": 9850.2579387,
            "bin_end": 10862.649175800001,
            "count": 0
           },
           {
            "bin_start": 10862.649175800001,
            "bin_end": 11875.0404129,
            "count": 0
           },
           {
            "bin_start": 11875.0404129,
            "bin_end": 12887.43165,
            "count": 1
           }
          ]
         }
        },
        {
         "name": "Response",
         "dtype": "object",
         "stats": {
          "unique_count": 1,
          "nan_count": 0,
          "categories": [
           {
            "name": "No",
            "count": 5
           }
          ]
         }
        },
        {
         "name": "Coverage",
         "dtype": "object",
         "stats": {
          "unique_count": 3,
          "nan_count": 0,
          "categories": [
           {
            "name": "Basic",
            "count": 3
           },
           {
            "name": "Extended",
            "count": 1
           },
           {
            "name": "Premium",
            "count": 1
           }
          ]
         }
        },
        {
         "name": "Education",
         "dtype": "object",
         "stats": {
          "unique_count": 1,
          "nan_count": 0,
          "categories": [
           {
            "name": "Bachelor",
            "count": 5
           }
          ]
         }
        },
        {
         "name": "Effective To Date",
         "dtype": "object",
         "stats": {
          "unique_count": 5,
          "nan_count": 0,
          "categories": [
           {
            "name": "2/24/11",
            "count": 1
           },
           {
            "name": "1/31/11",
            "count": 1
           },
           {
            "name": "3 others",
            "count": 3
           }
          ]
         }
        },
        {
         "name": "EmploymentStatus",
         "dtype": "object",
         "stats": {
          "unique_count": 2,
          "nan_count": 0,
          "categories": [
           {
            "name": "Employed",
            "count": 3
           },
           {
            "name": "Unemployed",
            "count": 2
           }
          ]
         }
        },
        {
         "name": "Gender",
         "dtype": "object",
         "stats": {
          "unique_count": 2,
          "nan_count": 0,
          "categories": [
           {
            "name": "F",
            "count": 3
           },
           {
            "name": "M",
            "count": 2
           }
          ]
         }
        },
        {
         "name": "Income",
         "dtype": "int64",
         "stats": {
          "unique_count": 4,
          "nan_count": 0,
          "min": "0",
          "max": "56274",
          "histogram": [
           {
            "bin_start": 0,
            "bin_end": 5627.4,
            "count": 2
           },
           {
            "bin_start": 5627.4,
            "bin_end": 11254.8,
            "count": 0
           },
           {
            "bin_start": 11254.8,
            "bin_end": 16882.199999999997,
            "count": 0
           },
           {
            "bin_start": 16882.199999999997,
            "bin_end": 22509.6,
            "count": 0
           },
           {
            "bin_start": 22509.6,
            "bin_end": 28137,
            "count": 0
           },
           {
            "bin_start": 28137,
            "bin_end": 33764.399999999994,
            "count": 0
           },
           {
            "bin_start": 33764.399999999994,
            "bin_end": 39391.799999999996,
            "count": 0
           },
           {
            "bin_start": 39391.799999999996,
            "bin_end": 45019.2,
            "count": 1
           },
           {
            "bin_start": 45019.2,
            "bin_end": 50646.6,
            "count": 1
           },
           {
            "bin_start": 50646.6,
            "bin_end": 56274,
            "count": 1
           }
          ]
         }
        },
        {
         "name": "Location Code",
         "dtype": "object",
         "stats": {
          "unique_count": 2,
          "nan_count": 0,
          "categories": [
           {
            "name": "Suburban",
            "count": 4
           },
           {
            "name": "Rural",
            "count": 1
           }
          ]
         }
        },
        {
         "name": "Marital Status",
         "dtype": "object",
         "stats": {
          "unique_count": 2,
          "nan_count": 0,
          "categories": [
           {
            "name": "Married",
            "count": 3
           },
           {
            "name": "Single",
            "count": 2
           }
          ]
         }
        },
        {
         "name": "Monthly Premium Auto",
         "dtype": "int64",
         "stats": {
          "unique_count": 5,
          "nan_count": 0,
          "min": "69",
          "max": "108",
          "histogram": [
           {
            "bin_start": 69,
            "bin_end": 72.9,
            "count": 1
           },
           {
            "bin_start": 72.9,
            "bin_end": 76.8,
            "count": 1
           },
           {
            "bin_start": 76.8,
            "bin_end": 80.7,
            "count": 0
           },
           {
            "bin_start": 80.7,
            "bin_end": 84.6,
            "count": 0
           },
           {
            "bin_start": 84.6,
            "bin_end": 88.5,
            "count": 0
           },
           {
            "bin_start": 88.5,
            "bin_end": 92.4,
            "count": 0
           },
           {
            "bin_start": 92.4,
            "bin_end": 96.3,
            "count": 1
           },
           {
            "bin_start": 96.3,
            "bin_end": 100.2,
            "count": 0
           },
           {
            "bin_start": 100.2,
            "bin_end": 104.1,
            "count": 0
           },
           {
            "bin_start": 104.1,
            "bin_end": 108,
            "count": 2
           }
          ]
         }
        },
        {
         "name": "Months Since Last Claim",
         "dtype": "int64",
         "stats": {
          "unique_count": 4,
          "nan_count": 0,
          "min": "12",
          "max": "32",
          "histogram": [
           {
            "bin_start": 12,
            "bin_end": 14,
            "count": 2
           },
           {
            "bin_start": 14,
            "bin_end": 16,
            "count": 0
           },
           {
            "bin_start": 16,
            "bin_end": 18,
            "count": 0
           },
           {
            "bin_start": 18,
            "bin_end": 20,
            "count": 2
           },
           {
            "bin_start": 20,
            "bin_end": 22,
            "count": 0
           },
           {
            "bin_start": 22,
            "bin_end": 24,
            "count": 0
           },
           {
            "bin_start": 24,
            "bin_end": 26,
            "count": 0
           },
           {
            "bin_start": 26,
            "bin_end": 28,
            "count": 0
           },
           {
            "bin_start": 28,
            "bin_end": 30,
            "count": 0
           },
           {
            "bin_start": 30,
            "bin_end": 32,
            "count": 1
           }
          ]
         }
        },
        {
         "name": "Months Since Policy Inception",
         "dtype": "int64",
         "stats": {
          "unique_count": 5,
          "nan_count": 0,
          "min": "5",
          "max": "65",
          "histogram": [
           {
            "bin_start": 5,
            "bin_end": 11,
            "count": 1
           },
           {
            "bin_start": 11,
            "bin_end": 17,
            "count": 0
           },
           {
            "bin_start": 17,
            "bin_end": 23,
            "count": 0
           },
           {
            "bin_start": 23,
            "bin_end": 29,
            "count": 0
           },
           {
            "bin_start": 29,
            "bin_end": 35,
            "count": 0
           },
           {
            "bin_start": 35,
            "bin_end": 41,
            "count": 1
           },
           {
            "bin_start": 41,
            "bin_end": 47,
            "count": 2
           },
           {
            "bin_start": 47,
            "bin_end": 53,
            "count": 0
           },
           {
            "bin_start": 53,
            "bin_end": 59,
            "count": 0
           },
           {
            "bin_start": 59,
            "bin_end": 65,
            "count": 1
           }
          ]
         }
        },
        {
         "name": "Number of Open Complaints",
         "dtype": "int64",
         "stats": {
          "unique_count": 1,
          "nan_count": 0,
          "min": "0",
          "max": "0",
          "histogram": [
           {
            "bin_start": -0.5,
            "bin_end": -0.4,
            "count": 0
           },
           {
            "bin_start": -0.4,
            "bin_end": -0.3,
            "count": 0
           },
           {
            "bin_start": -0.3,
            "bin_end": -0.19999999999999996,
            "count": 0
           },
           {
            "bin_start": -0.19999999999999996,
            "bin_end": -0.09999999999999998,
            "count": 0
           },
           {
            "bin_start": -0.09999999999999998,
            "bin_end": 0,
            "count": 0
           },
           {
            "bin_start": 0,
            "bin_end": 0.10000000000000009,
            "count": 5
           },
           {
            "bin_start": 0.10000000000000009,
            "bin_end": 0.20000000000000007,
            "count": 0
           },
           {
            "bin_start": 0.20000000000000007,
            "bin_end": 0.30000000000000004,
            "count": 0
           },
           {
            "bin_start": 0.30000000000000004,
            "bin_end": 0.4,
            "count": 0
           },
           {
            "bin_start": 0.4,
            "bin_end": 0.5,
            "count": 0
           }
          ]
         }
        },
        {
         "name": "Number of Policies",
         "dtype": "int64",
         "stats": {
          "unique_count": 4,
          "nan_count": 0,
          "min": "1",
          "max": "8",
          "histogram": [
           {
            "bin_start": 1,
            "bin_end": 1.7,
            "count": 2
           },
           {
            "bin_start": 1.7,
            "bin_end": 2.4,
            "count": 1
           },
           {
            "bin_start": 2.4,
            "bin_end": 3.0999999999999996,
            "count": 0
           },
           {
            "bin_start": 3.0999999999999996,
            "bin_end": 3.8,
            "count": 0
           },
           {
            "bin_start": 3.8,
            "bin_end": 4.5,
            "count": 0
           },
           {
            "bin_start": 4.5,
            "bin_end": 5.199999999999999,
            "count": 0
           },
           {
            "bin_start": 5.199999999999999,
            "bin_end": 5.8999999999999995,
            "count": 0
           },
           {
            "bin_start": 5.8999999999999995,
            "bin_end": 6.6,
            "count": 0
           },
           {
            "bin_start": 6.6,
            "bin_end": 7.3,
            "count": 1
           },
           {
            "bin_start": 7.3,
            "bin_end": 8,
            "count": 1
           }
          ]
         }
        },
        {
         "name": "Policy Type",
         "dtype": "object",
         "stats": {
          "unique_count": 2,
          "nan_count": 0,
          "categories": [
           {
            "name": "Personal Auto",
            "count": 3
           },
           {
            "name": "Corporate Auto",
            "count": 2
           }
          ]
         }
        },
        {
         "name": "Policy",
         "dtype": "object",
         "stats": {
          "unique_count": 4,
          "nan_count": 0,
          "categories": [
           {
            "name": "Personal L3",
            "count": 2
           },
           {
            "name": "Corporate L3",
            "count": 1
           },
           {
            "name": "2 others",
            "count": 2
           }
          ]
         }
        },
        {
         "name": "Renew Offer Type",
         "dtype": "object",
         "stats": {
          "unique_count": 2,
          "nan_count": 0,
          "categories": [
           {
            "name": "Offer1",
            "count": 4
           },
           {
            "name": "Offer3",
            "count": 1
           }
          ]
         }
        },
        {
         "name": "Sales Channel",
         "dtype": "object",
         "stats": {
          "unique_count": 2,
          "nan_count": 0,
          "categories": [
           {
            "name": "Agent",
            "count": 4
           },
           {
            "name": "Call Center",
            "count": 1
           }
          ]
         }
        },
        {
         "name": "Total Claim Amount",
         "dtype": "float64",
         "stats": {
          "unique_count": 5,
          "nan_count": 0,
          "min": "138.130879",
          "max": "1131.464935",
          "histogram": [
           {
            "bin_start": 138.130879,
            "bin_end": 237.46428459999998,
            "count": 1
           },
           {
            "bin_start": 237.46428459999998,
            "bin_end": 336.7976902,
            "count": 0
           },
           {
            "bin_start": 336.7976902,
            "bin_end": 436.13109579999997,
            "count": 1
           },
           {
            "bin_start": 436.13109579999997,
            "bin_end": 535.4645014,
            "count": 1
           },
           {
            "bin_start": 535.4645014,
            "bin_end": 634.7979069999999,
            "count": 1
           },
           {
            "bin_start": 634.7979069999999,
            "bin_end": 734.1313126,
            "count": 0
           },
           {
            "bin_start": 734.1313126,
            "bin_end": 833.4647181999999,
            "count": 0
           },
           {
            "bin_start": 833.4647181999999,
            "bin_end": 932.7981238,
            "count": 0
           },
           {
            "bin_start": 932.7981238,
            "bin_end": 1032.1315293999999,
            "count": 0
           },
           {
            "bin_start": 1032.1315293999999,
            "bin_end": 1131.464935,
            "count": 1
           }
          ]
         }
        },
        {
         "name": "Vehicle Class",
         "dtype": "object",
         "stats": {
          "unique_count": 3,
          "nan_count": 0,
          "categories": [
           {
            "name": "Two-Door Car",
            "count": 2
           },
           {
            "name": "Four-Door Car",
            "count": 2
           },
           {
            "name": "SUV",
            "count": 1
           }
          ]
         }
        },
        {
         "name": "Vehicle Size",
         "dtype": "object",
         "stats": {
          "unique_count": 1,
          "nan_count": 0,
          "categories": [
           {
            "name": "Medsize",
            "count": 5
           }
          ]
         }
        },
        {
         "name": "_deepnote_index_column",
         "dtype": "int64"
        }
       ],
       "rows": [
        {
         "Customer": "BU79786",
         "State": "Washington",
         "Customer Lifetime Value": 2763.519279,
         "Response": "No",
         "Coverage": "Basic",
         "Education": "Bachelor",
         "Effective To Date": "2/24/11",
         "EmploymentStatus": "Employed",
         "Gender": "F",
         "Income": 56274,
         "Location Code": "Suburban",
         "Marital Status": "Married",
         "Monthly Premium Auto": 69,
         "Months Since Last Claim": 32,
         "Months Since Policy Inception": 5,
         "Number of Open Complaints": 0,
         "Number of Policies": 1,
         "Policy Type": "Corporate Auto",
         "Policy": "Corporate L3",
         "Renew Offer Type": "Offer1",
         "Sales Channel": "Agent",
         "Total Claim Amount": 384.811147,
         "Vehicle Class": "Two-Door Car",
         "Vehicle Size": "Medsize",
         "_deepnote_index_column": 0
        },
        {
         "Customer": "QZ44356",
         "State": "Arizona",
         "Customer Lifetime Value": 6979.535903,
         "Response": "No",
         "Coverage": "Extended",
         "Education": "Bachelor",
         "Effective To Date": "1/31/11",
         "EmploymentStatus": "Unemployed",
         "Gender": "F",
         "Income": 0,
         "Location Code": "Suburban",
         "Marital Status": "Single",
         "Monthly Premium Auto": 94,
         "Months Since Last Claim": 13,
         "Months Since Policy Inception": 42,
         "Number of Open Complaints": 0,
         "Number of Policies": 8,
         "Policy Type": "Personal Auto",
         "Policy": "Personal L3",
         "Renew Offer Type": "Offer3",
         "Sales Channel": "Agent",
         "Total Claim Amount": 1131.464935,
         "Vehicle Class": "Four-Door Car",
         "Vehicle Size": "Medsize",
         "_deepnote_index_column": 1
        },
        {
         "Customer": "AI49188",
         "State": "Nevada",
         "Customer Lifetime Value": 12887.43165,
         "Response": "No",
         "Coverage": "Premium",
         "Education": "Bachelor",
         "Effective To Date": "2/19/11",
         "EmploymentStatus": "Employed",
         "Gender": "F",
         "Income": 48767,
         "Location Code": "Suburban",
         "Marital Status": "Married",
         "Monthly Premium Auto": 108,
         "Months Since Last Claim": 18,
         "Months Since Policy Inception": 38,
         "Number of Open Complaints": 0,
         "Number of Policies": 2,
         "Policy Type": "Personal Auto",
         "Policy": "Personal L3",
         "Renew Offer Type": "Offer1",
         "Sales Channel": "Agent",
         "Total Claim Amount": 566.472247,
         "Vehicle Class": "Two-Door Car",
         "Vehicle Size": "Medsize",
         "_deepnote_index_column": 2
        },
        {
         "Customer": "WW63253",
         "State": "California",
         "Customer Lifetime Value": 7645.861827,
         "Response": "No",
         "Coverage": "Basic",
         "Education": "Bachelor",
         "Effective To Date": "1/20/11",
         "EmploymentStatus": "Unemployed",
         "Gender": "M",
         "Income": 0,
         "Location Code": "Suburban",
         "Marital Status": "Married",
         "Monthly Premium Auto": 106,
         "Months Since Last Claim": 18,
         "Months Since Policy Inception": 65,
         "Number of Open Complaints": 0,
         "Number of Policies": 7,
         "Policy Type": "Corporate Auto",
         "Policy": "Corporate L2",
         "Renew Offer Type": "Offer1",
         "Sales Channel": "Call Center",
         "Total Claim Amount": 529.881344,
         "Vehicle Class": "SUV",
         "Vehicle Size": "Medsize",
         "_deepnote_index_column": 3
        },
        {
         "Customer": "HB64268",
         "State": "Washington",
         "Customer Lifetime Value": 2813.692575,
         "Response": "No",
         "Coverage": "Basic",
         "Education": "Bachelor",
         "Effective To Date": "2/3/11",
         "EmploymentStatus": "Employed",
         "Gender": "M",
         "Income": 43836,
         "Location Code": "Rural",
         "Marital Status": "Single",
         "Monthly Premium Auto": 73,
         "Months Since Last Claim": 12,
         "Months Since Policy Inception": 44,
         "Number of Open Complaints": 0,
         "Number of Policies": 1,
         "Policy Type": "Personal Auto",
         "Policy": "Personal L1",
         "Renew Offer Type": "Offer1",
         "Sales Channel": "Agent",
         "Total Claim Amount": 138.130879,
         "Vehicle Class": "Four-Door Car",
         "Vehicle Size": "Medsize",
         "_deepnote_index_column": 4
        }
       ]
      },
      "text/plain": "  Customer       State  Customer Lifetime Value Response  Coverage Education  \\\n0  BU79786  Washington              2763.519279       No     Basic  Bachelor   \n1  QZ44356     Arizona              6979.535903       No  Extended  Bachelor   \n2  AI49188      Nevada             12887.431650       No   Premium  Bachelor   \n3  WW63253  California              7645.861827       No     Basic  Bachelor   \n4  HB64268  Washington              2813.692575       No     Basic  Bachelor   \n\n  Effective To Date EmploymentStatus Gender  Income  ...  \\\n0           2/24/11         Employed      F   56274  ...   \n1           1/31/11       Unemployed      F       0  ...   \n2           2/19/11         Employed      F   48767  ...   \n3           1/20/11       Unemployed      M       0  ...   \n4            2/3/11         Employed      M   43836  ...   \n\n  Months Since Policy Inception Number of Open Complaints  Number of Policies  \\\n0                             5                         0                   1   \n1                            42                         0                   8   \n2                            38                         0                   2   \n3                            65                         0                   7   \n4                            44                         0                   1   \n\n      Policy Type        Policy  Renew Offer Type  Sales Channel  \\\n0  Corporate Auto  Corporate L3            Offer1          Agent   \n1   Personal Auto   Personal L3            Offer3          Agent   \n2   Personal Auto   Personal L3            Offer1          Agent   \n3  Corporate Auto  Corporate L2            Offer1    Call Center   \n4   Personal Auto   Personal L1            Offer1          Agent   \n\n  Total Claim Amount  Vehicle Class Vehicle Size  \n0         384.811147   Two-Door Car      Medsize  \n1        1131.464935  Four-Door Car      Medsize  \n2         566.472247   Two-Door Car      Medsize  \n3         529.881344            SUV      Medsize  \n4         138.130879  Four-Door Car      Medsize  \n\n[5 rows x 24 columns]",
      "text/html": "<div>\n<style scoped>\n    .dataframe tbody tr th:only-of-type {\n        vertical-align: middle;\n    }\n\n    .dataframe tbody tr th {\n        vertical-align: top;\n    }\n\n    .dataframe thead th {\n        text-align: right;\n    }\n</style>\n<table border=\"1\" class=\"dataframe\">\n  <thead>\n    <tr style=\"text-align: right;\">\n      <th></th>\n      <th>Customer</th>\n      <th>State</th>\n      <th>Customer Lifetime Value</th>\n      <th>Response</th>\n      <th>Coverage</th>\n      <th>Education</th>\n      <th>Effective To Date</th>\n      <th>EmploymentStatus</th>\n      <th>Gender</th>\n      <th>Income</th>\n      <th>...</th>\n      <th>Months Since Policy Inception</th>\n      <th>Number of Open Complaints</th>\n      <th>Number of Policies</th>\n      <th>Policy Type</th>\n      <th>Policy</th>\n      <th>Renew Offer Type</th>\n      <th>Sales Channel</th>\n      <th>Total Claim Amount</th>\n      <th>Vehicle Class</th>\n      <th>Vehicle Size</th>\n    </tr>\n  </thead>\n  <tbody>\n    <tr>\n      <th>0</th>\n      <td>BU79786</td>\n      <td>Washington</td>\n      <td>2763.519279</td>\n      <td>No</td>\n      <td>Basic</td>\n      <td>Bachelor</td>\n      <td>2/24/11</td>\n      <td>Employed</td>\n      <td>F</td>\n      <td>56274</td>\n      <td>...</td>\n      <td>5</td>\n      <td>0</td>\n      <td>1</td>\n      <td>Corporate Auto</td>\n      <td>Corporate L3</td>\n      <td>Offer1</td>\n      <td>Agent</td>\n      <td>384.811147</td>\n      <td>Two-Door Car</td>\n      <td>Medsize</td>\n    </tr>\n    <tr>\n      <th>1</th>\n      <td>QZ44356</td>\n      <td>Arizona</td>\n      <td>6979.535903</td>\n      <td>No</td>\n      <td>Extended</td>\n      <td>Bachelor</td>\n      <td>1/31/11</td>\n      <td>Unemployed</td>\n      <td>F</td>\n      <td>0</td>\n      <td>...</td>\n      <td>42</td>\n      <td>0</td>\n      <td>8</td>\n      <td>Personal Auto</td>\n      <td>Personal L3</td>\n      <td>Offer3</td>\n      <td>Agent</td>\n      <td>1131.464935</td>\n      <td>Four-Door Car</td>\n      <td>Medsize</td>\n    </tr>\n    <tr>\n      <th>2</th>\n      <td>AI49188</td>\n      <td>Nevada</td>\n      <td>12887.431650</td>\n      <td>No</td>\n      <td>Premium</td>\n      <td>Bachelor</td>\n      <td>2/19/11</td>\n      <td>Employed</td>\n      <td>F</td>\n      <td>48767</td>\n      <td>...</td>\n      <td>38</td>\n      <td>0</td>\n      <td>2</td>\n      <td>Personal Auto</td>\n      <td>Personal L3</td>\n      <td>Offer1</td>\n      <td>Agent</td>\n      <td>566.472247</td>\n      <td>Two-Door Car</td>\n      <td>Medsize</td>\n    </tr>\n    <tr>\n      <th>3</th>\n      <td>WW63253</td>\n      <td>California</td>\n      <td>7645.861827</td>\n      <td>No</td>\n      <td>Basic</td>\n      <td>Bachelor</td>\n      <td>1/20/11</td>\n      <td>Unemployed</td>\n      <td>M</td>\n      <td>0</td>\n      <td>...</td>\n      <td>65</td>\n      <td>0</td>\n      <td>7</td>\n      <td>Corporate Auto</td>\n      <td>Corporate L2</td>\n      <td>Offer1</td>\n      <td>Call Center</td>\n      <td>529.881344</td>\n      <td>SUV</td>\n      <td>Medsize</td>\n    </tr>\n    <tr>\n      <th>4</th>\n      <td>HB64268</td>\n      <td>Washington</td>\n      <td>2813.692575</td>\n      <td>No</td>\n      <td>Basic</td>\n      <td>Bachelor</td>\n      <td>2/3/11</td>\n      <td>Employed</td>\n      <td>M</td>\n      <td>43836</td>\n      <td>...</td>\n      <td>44</td>\n      <td>0</td>\n      <td>1</td>\n      <td>Personal Auto</td>\n      <td>Personal L1</td>\n      <td>Offer1</td>\n      <td>Agent</td>\n      <td>138.130879</td>\n      <td>Four-Door Car</td>\n      <td>Medsize</td>\n    </tr>\n  </tbody>\n</table>\n<p>5 rows × 24 columns</p>\n</div>"
     },
     "metadata": {}
    }
   ]
  },
  {
   "cell_type": "code",
   "metadata": {
    "tags": [],
    "cell_id": "00004-67078e4c-58ab-481e-8bd3-44655b4bec39",
    "deepnote_to_be_reexecuted": false,
    "source_hash": "f88152d9",
    "execution_start": 1641545883004,
    "execution_millis": 188,
    "deepnote_cell_type": "code"
   },
   "source": "df.describe()",
   "execution_count": 5,
   "outputs": [
    {
     "output_type": "execute_result",
     "execution_count": 5,
     "data": {
      "application/vnd.deepnote.dataframe.v3+json": {
       "column_count": 8,
       "row_count": 8,
       "columns": [
        {
         "name": "Customer Lifetime Value",
         "dtype": "float64",
         "stats": {
          "unique_count": 8,
          "nan_count": 0,
          "min": "1898.007675",
          "max": "83325.38119",
          "histogram": [
           {
            "bin_start": 1898.007675,
            "bin_end": 10040.7450265,
            "count": 7
           },
           {
            "bin_start": 10040.7450265,
            "bin_end": 18183.482378,
            "count": 0
           },
           {
            "bin_start": 18183.482378,
            "bin_end": 26326.2197295,
            "count": 0
           },
           {
            "bin_start": 26326.2197295,
            "bin_end": 34468.957081,
            "count": 0
           },
           {
            "bin_start": 34468.957081,
            "bin_end": 42611.6944325,
            "count": 0
           },
           {
            "bin_start": 42611.6944325,
            "bin_end": 50754.431784,
            "count": 0
           },
           {
            "bin_start": 50754.431784,
            "bin_end": 58897.1691355,
            "count": 0
           },
           {
            "bin_start": 58897.1691355,
            "bin_end": 67039.906487,
            "count": 0
           },
           {
            "bin_start": 67039.906487,
            "bin_end": 75182.6438385,
            "count": 0
           },
           {
            "bin_start": 75182.6438385,
            "bin_end": 83325.38119,
            "count": 1
           }
          ]
         }
        },
        {
         "name": "Income",
         "dtype": "float64",
         "stats": {
          "unique_count": 7,
          "nan_count": 0,
          "min": "0.0",
          "max": "99981.0",
          "histogram": [
           {
            "bin_start": 0,
            "bin_end": 9998.1,
            "count": 3
           },
           {
            "bin_start": 9998.1,
            "bin_end": 19996.2,
            "count": 0
           },
           {
            "bin_start": 19996.2,
            "bin_end": 29994.300000000003,
            "count": 0
           },
           {
            "bin_start": 29994.300000000003,
            "bin_end": 39992.4,
            "count": 3
           },
           {
            "bin_start": 39992.4,
            "bin_end": 49990.5,
            "count": 0
           },
           {
            "bin_start": 49990.5,
            "bin_end": 59988.600000000006,
            "count": 0
           },
           {
            "bin_start": 59988.600000000006,
            "bin_end": 69986.7,
            "count": 1
           },
           {
            "bin_start": 69986.7,
            "bin_end": 79984.8,
            "count": 0
           },
           {
            "bin_start": 79984.8,
            "bin_end": 89982.90000000001,
            "count": 0
           },
           {
            "bin_start": 89982.90000000001,
            "bin_end": 99981,
            "count": 1
           }
          ]
         }
        },
        {
         "name": "Monthly Premium Auto",
         "dtype": "float64",
         "stats": {
          "unique_count": 8,
          "nan_count": 0,
          "min": "34.40796737178653",
          "max": "9134.0",
          "histogram": [
           {
            "bin_start": 34.40796737178653,
            "bin_end": 944.3671706346079,
            "count": 7
           },
           {
            "bin_start": 944.3671706346079,
            "bin_end": 1854.3263738974292,
            "count": 0
           },
           {
            "bin_start": 1854.3263738974292,
            "bin_end": 2764.2855771602503,
            "count": 0
           },
           {
            "bin_start": 2764.2855771602503,
            "bin_end": 3674.244780423072,
            "count": 0
           },
           {
            "bin_start": 3674.244780423072,
            "bin_end": 4584.203983685894,
            "count": 0
           },
           {
            "bin_start": 4584.203983685894,
            "bin_end": 5494.163186948715,
            "count": 0
           },
           {
            "bin_start": 5494.163186948715,
            "bin_end": 6404.122390211536,
            "count": 0
           },
           {
            "bin_start": 6404.122390211536,
            "bin_end": 7314.081593474358,
            "count": 0
           },
           {
            "bin_start": 7314.081593474358,
            "bin_end": 8224.04079673718,
            "count": 0
           },
           {
            "bin_start": 8224.04079673718,
            "bin_end": 9134,
            "count": 1
           }
          ]
         }
        },
        {
         "name": "Months Since Last Claim",
         "dtype": "float64",
         "stats": {
          "unique_count": 8,
          "nan_count": 0,
          "min": "0.0",
          "max": "9134.0",
          "histogram": [
           {
            "bin_start": 0,
            "bin_end": 913.4,
            "count": 7
           },
           {
            "bin_start": 913.4,
            "bin_end": 1826.8,
            "count": 0
           },
           {
            "bin_start": 1826.8,
            "bin_end": 2740.2,
            "count": 0
           },
           {
            "bin_start": 2740.2,
            "bin_end": 3653.6,
            "count": 0
           },
           {
            "bin_start": 3653.6,
            "bin_end": 4567,
            "count": 0
           },
           {
            "bin_start": 4567,
            "bin_end": 5480.4,
            "count": 0
           },
           {
            "bin_start": 5480.4,
            "bin_end": 6393.8,
            "count": 0
           },
           {
            "bin_start": 6393.8,
            "bin_end": 7307.2,
            "count": 0
           },
           {
            "bin_start": 7307.2,
            "bin_end": 8220.6,
            "count": 0
           },
           {
            "bin_start": 8220.6,
            "bin_end": 9134,
            "count": 1
           }
          ]
         }
        },
        {
         "name": "Months Since Policy Inception",
         "dtype": "float64",
         "stats": {
          "unique_count": 8,
          "nan_count": 0,
          "min": "0.0",
          "max": "9134.0",
          "histogram": [
           {
            "bin_start": 0,
            "bin_end": 913.4,
            "count": 7
           },
           {
            "bin_start": 913.4,
            "bin_end": 1826.8,
            "count": 0
           },
           {
            "bin_start": 1826.8,
            "bin_end": 2740.2,
            "count": 0
           },
           {
            "bin_start": 2740.2,
            "bin_end": 3653.6,
            "count": 0
           },
           {
            "bin_start": 3653.6,
            "bin_end": 4567,
            "count": 0
           },
           {
            "bin_start": 4567,
            "bin_end": 5480.4,
            "count": 0
           },
           {
            "bin_start": 5480.4,
            "bin_end": 6393.8,
            "count": 0
           },
           {
            "bin_start": 6393.8,
            "bin_end": 7307.2,
            "count": 0
           },
           {
            "bin_start": 7307.2,
            "bin_end": 8220.6,
            "count": 0
           },
           {
            "bin_start": 8220.6,
            "bin_end": 9134,
            "count": 1
           }
          ]
         }
        },
        {
         "name": "Number of Open Complaints",
         "dtype": "float64",
         "stats": {
          "unique_count": 5,
          "nan_count": 0,
          "min": "0.0",
          "max": "9134.0",
          "histogram": [
           {
            "bin_start": 0,
            "bin_end": 913.4,
            "count": 7
           },
           {
            "bin_start": 913.4,
            "bin_end": 1826.8,
            "count": 0
           },
           {
            "bin_start": 1826.8,
            "bin_end": 2740.2,
            "count": 0
           },
           {
            "bin_start": 2740.2,
            "bin_end": 3653.6,
            "count": 0
           },
           {
            "bin_start": 3653.6,
            "bin_end": 4567,
            "count": 0
           },
           {
            "bin_start": 4567,
            "bin_end": 5480.4,
            "count": 0
           },
           {
            "bin_start": 5480.4,
            "bin_end": 6393.8,
            "count": 0
           },
           {
            "bin_start": 6393.8,
            "bin_end": 7307.2,
            "count": 0
           },
           {
            "bin_start": 7307.2,
            "bin_end": 8220.6,
            "count": 0
           },
           {
            "bin_start": 8220.6,
            "bin_end": 9134,
            "count": 1
           }
          ]
         }
        },
        {
         "name": "Number of Policies",
         "dtype": "float64",
         "stats": {
          "unique_count": 7,
          "nan_count": 0,
          "min": "1.0",
          "max": "9134.0",
          "histogram": [
           {
            "bin_start": 1,
            "bin_end": 914.3,
            "count": 7
           },
           {
            "bin_start": 914.3,
            "bin_end": 1827.6,
            "count": 0
           },
           {
            "bin_start": 1827.6,
            "bin_end": 2740.8999999999996,
            "count": 0
           },
           {
            "bin_start": 2740.8999999999996,
            "bin_end": 3654.2,
            "count": 0
           },
           {
            "bin_start": 3654.2,
            "bin_end": 4567.5,
            "count": 0
           },
           {
            "bin_start": 4567.5,
            "bin_end": 5480.799999999999,
            "count": 0
           },
           {
            "bin_start": 5480.799999999999,
            "bin_end": 6394.099999999999,
            "count": 0
           },
           {
            "bin_start": 6394.099999999999,
            "bin_end": 7307.4,
            "count": 0
           },
           {
            "bin_start": 7307.4,
            "bin_end": 8220.699999999999,
            "count": 0
           },
           {
            "bin_start": 8220.699999999999,
            "bin_end": 9134,
            "count": 1
           }
          ]
         }
        },
        {
         "name": "Total Claim Amount",
         "dtype": "float64",
         "stats": {
          "unique_count": 8,
          "nan_count": 0,
          "min": "0.099007",
          "max": "9134.0",
          "histogram": [
           {
            "bin_start": 0.099007,
            "bin_end": 913.4891063,
            "count": 6
           },
           {
            "bin_start": 913.4891063,
            "bin_end": 1826.8792056,
            "count": 0
           },
           {
            "bin_start": 1826.8792056,
            "bin_end": 2740.2693049,
            "count": 0
           },
           {
            "bin_start": 2740.2693049,
            "bin_end": 3653.6594041999997,
            "count": 1
           },
           {
            "bin_start": 3653.6594041999997,
            "bin_end": 4567.049503499999,
            "count": 0
           },
           {
            "bin_start": 4567.049503499999,
            "bin_end": 5480.4396028,
            "count": 0
           },
           {
            "bin_start": 5480.4396028,
            "bin_end": 6393.8297021,
            "count": 0
           },
           {
            "bin_start": 6393.8297021,
            "bin_end": 7307.2198014,
            "count": 0
           },
           {
            "bin_start": 7307.2198014,
            "bin_end": 8220.609900700001,
            "count": 0
           },
           {
            "bin_start": 8220.609900700001,
            "bin_end": 9134,
            "count": 1
           }
          ]
         }
        },
        {
         "name": "_deepnote_index_column",
         "dtype": "object"
        }
       ],
       "rows": [
        {
         "Customer Lifetime Value": 9134,
         "Income": 9134,
         "Monthly Premium Auto": 9134,
         "Months Since Last Claim": 9134,
         "Months Since Policy Inception": 9134,
         "Number of Open Complaints": 9134,
         "Number of Policies": 9134,
         "Total Claim Amount": 9134,
         "_deepnote_index_column": "count"
        },
        {
         "Customer Lifetime Value": 8004.940474987081,
         "Income": 37657.38000875848,
         "Monthly Premium Auto": 93.21929056273265,
         "Months Since Last Claim": 15.097000218962119,
         "Months Since Policy Inception": 48.064593825268226,
         "Number of Open Complaints": 0.38438800087584846,
         "Number of Policies": 2.9661703525290126,
         "Total Claim Amount": 434.0887943128969,
         "_deepnote_index_column": "mean"
        },
        {
         "Customer Lifetime Value": 6870.9676083569375,
         "Income": 30379.9047338463,
         "Monthly Premium Auto": 34.40796737178653,
         "Months Since Last Claim": 10.073256571394225,
         "Months Since Policy Inception": 27.90599078426519,
         "Number of Open Complaints": 0.910383531613565,
         "Number of Policies": 2.3901818097011365,
         "Total Claim Amount": 290.5000918031134,
         "_deepnote_index_column": "std"
        },
        {
         "Customer Lifetime Value": 1898.007675,
         "Income": 0,
         "Monthly Premium Auto": 61,
         "Months Since Last Claim": 0,
         "Months Since Policy Inception": 0,
         "Number of Open Complaints": 0,
         "Number of Policies": 1,
         "Total Claim Amount": 0.099007,
         "_deepnote_index_column": "min"
        },
        {
         "Customer Lifetime Value": 3994.25179425,
         "Income": 0,
         "Monthly Premium Auto": 68,
         "Months Since Last Claim": 6,
         "Months Since Policy Inception": 24,
         "Number of Open Complaints": 0,
         "Number of Policies": 1,
         "Total Claim Amount": 272.2582445,
         "_deepnote_index_column": "25%"
        },
        {
         "Customer Lifetime Value": 5780.182197,
         "Income": 33889.5,
         "Monthly Premium Auto": 83,
         "Months Since Last Claim": 14,
         "Months Since Policy Inception": 48,
         "Number of Open Complaints": 0,
         "Number of Policies": 2,
         "Total Claim Amount": 383.94543350000004,
         "_deepnote_index_column": "50%"
        },
        {
         "Customer Lifetime Value": 8962.16704125,
         "Income": 62320,
         "Monthly Premium Auto": 109,
         "Months Since Last Claim": 23,
         "Months Since Policy Inception": 71,
         "Number of Open Complaints": 0,
         "Number of Policies": 4,
         "Total Claim Amount": 547.5148387500001,
         "_deepnote_index_column": "75%"
        },
        {
         "Customer Lifetime Value": 83325.38119,
         "Income": 99981,
         "Monthly Premium Auto": 298,
         "Months Since Last Claim": 35,
         "Months Since Policy Inception": 99,
         "Number of Open Complaints": 5,
         "Number of Policies": 9,
         "Total Claim Amount": 2893.239678,
         "_deepnote_index_column": "max"
        }
       ]
      },
      "text/plain": "       Customer Lifetime Value        Income  Monthly Premium Auto  \\\ncount              9134.000000   9134.000000           9134.000000   \nmean               8004.940475  37657.380009             93.219291   \nstd                6870.967608  30379.904734             34.407967   \nmin                1898.007675      0.000000             61.000000   \n25%                3994.251794      0.000000             68.000000   \n50%                5780.182197  33889.500000             83.000000   \n75%                8962.167041  62320.000000            109.000000   \nmax               83325.381190  99981.000000            298.000000   \n\n       Months Since Last Claim  Months Since Policy Inception  \\\ncount              9134.000000                    9134.000000   \nmean                 15.097000                      48.064594   \nstd                  10.073257                      27.905991   \nmin                   0.000000                       0.000000   \n25%                   6.000000                      24.000000   \n50%                  14.000000                      48.000000   \n75%                  23.000000                      71.000000   \nmax                  35.000000                      99.000000   \n\n       Number of Open Complaints  Number of Policies  Total Claim Amount  \ncount                9134.000000         9134.000000         9134.000000  \nmean                    0.384388            2.966170          434.088794  \nstd                     0.910384            2.390182          290.500092  \nmin                     0.000000            1.000000            0.099007  \n25%                     0.000000            1.000000          272.258244  \n50%                     0.000000            2.000000          383.945434  \n75%                     0.000000            4.000000          547.514839  \nmax                     5.000000            9.000000         2893.239678  ",
      "text/html": "<div>\n<style scoped>\n    .dataframe tbody tr th:only-of-type {\n        vertical-align: middle;\n    }\n\n    .dataframe tbody tr th {\n        vertical-align: top;\n    }\n\n    .dataframe thead th {\n        text-align: right;\n    }\n</style>\n<table border=\"1\" class=\"dataframe\">\n  <thead>\n    <tr style=\"text-align: right;\">\n      <th></th>\n      <th>Customer Lifetime Value</th>\n      <th>Income</th>\n      <th>Monthly Premium Auto</th>\n      <th>Months Since Last Claim</th>\n      <th>Months Since Policy Inception</th>\n      <th>Number of Open Complaints</th>\n      <th>Number of Policies</th>\n      <th>Total Claim Amount</th>\n    </tr>\n  </thead>\n  <tbody>\n    <tr>\n      <th>count</th>\n      <td>9134.000000</td>\n      <td>9134.000000</td>\n      <td>9134.000000</td>\n      <td>9134.000000</td>\n      <td>9134.000000</td>\n      <td>9134.000000</td>\n      <td>9134.000000</td>\n      <td>9134.000000</td>\n    </tr>\n    <tr>\n      <th>mean</th>\n      <td>8004.940475</td>\n      <td>37657.380009</td>\n      <td>93.219291</td>\n      <td>15.097000</td>\n      <td>48.064594</td>\n      <td>0.384388</td>\n      <td>2.966170</td>\n      <td>434.088794</td>\n    </tr>\n    <tr>\n      <th>std</th>\n      <td>6870.967608</td>\n      <td>30379.904734</td>\n      <td>34.407967</td>\n      <td>10.073257</td>\n      <td>27.905991</td>\n      <td>0.910384</td>\n      <td>2.390182</td>\n      <td>290.500092</td>\n    </tr>\n    <tr>\n      <th>min</th>\n      <td>1898.007675</td>\n      <td>0.000000</td>\n      <td>61.000000</td>\n      <td>0.000000</td>\n      <td>0.000000</td>\n      <td>0.000000</td>\n      <td>1.000000</td>\n      <td>0.099007</td>\n    </tr>\n    <tr>\n      <th>25%</th>\n      <td>3994.251794</td>\n      <td>0.000000</td>\n      <td>68.000000</td>\n      <td>6.000000</td>\n      <td>24.000000</td>\n      <td>0.000000</td>\n      <td>1.000000</td>\n      <td>272.258244</td>\n    </tr>\n    <tr>\n      <th>50%</th>\n      <td>5780.182197</td>\n      <td>33889.500000</td>\n      <td>83.000000</td>\n      <td>14.000000</td>\n      <td>48.000000</td>\n      <td>0.000000</td>\n      <td>2.000000</td>\n      <td>383.945434</td>\n    </tr>\n    <tr>\n      <th>75%</th>\n      <td>8962.167041</td>\n      <td>62320.000000</td>\n      <td>109.000000</td>\n      <td>23.000000</td>\n      <td>71.000000</td>\n      <td>0.000000</td>\n      <td>4.000000</td>\n      <td>547.514839</td>\n    </tr>\n    <tr>\n      <th>max</th>\n      <td>83325.381190</td>\n      <td>99981.000000</td>\n      <td>298.000000</td>\n      <td>35.000000</td>\n      <td>99.000000</td>\n      <td>5.000000</td>\n      <td>9.000000</td>\n      <td>2893.239678</td>\n    </tr>\n  </tbody>\n</table>\n</div>"
     },
     "metadata": {}
    }
   ]
  },
  {
   "cell_type": "code",
   "metadata": {
    "tags": [],
    "cell_id": "00008-323cf614-211b-4f51-8640-74154898c2c9",
    "deepnote_to_be_reexecuted": false,
    "source_hash": "ac30784",
    "execution_start": 1641545883188,
    "execution_millis": 58,
    "deepnote_cell_type": "code"
   },
   "source": "df['Effective To Date'] = pd.to_datetime(df['Effective To Date'])\ndf['effective_to_month'] = df['Effective To Date'].dt.month\ndf['effective_to_year'] = df['Effective To Date'].dt.year",
   "execution_count": 6,
   "outputs": []
  },
  {
   "cell_type": "code",
   "metadata": {
    "tags": [],
    "cell_id": "00009-a18ca1df-a8e7-4a3a-a7f3-3a19f17259eb",
    "deepnote_to_be_reexecuted": false,
    "source_hash": "7904c94d",
    "execution_start": 1641545883254,
    "execution_millis": 117,
    "deepnote_cell_type": "code"
   },
   "source": "## Making date features categorical\n\ndf['effective_to_month'] = df['effective_to_month'].astype('string')\ndf['effective_to_year'] = df['effective_to_year'].astype('string')",
   "execution_count": 7,
   "outputs": []
  },
  {
   "cell_type": "code",
   "metadata": {
    "tags": [],
    "cell_id": "00006-41a36606-09b3-40ab-bff7-ce2407f70132",
    "deepnote_to_be_reexecuted": false,
    "source_hash": "1b4e3787",
    "execution_start": 1641545883371,
    "execution_millis": 1,
    "deepnote_cell_type": "code"
   },
   "source": "categorical = df[['State', 'Response', 'Coverage', 'Education', 'EmploymentStatus', 'Gender', 'Marital Status', 'Location Code', 'Policy', 'Policy Type', 'Renew Offer Type', 'Sales Channel', 'Vehicle Class', 'Vehicle Size', 'effective_to_month', 'effective_to_year']].copy()",
   "execution_count": 8,
   "outputs": []
  },
  {
   "cell_type": "code",
   "metadata": {
    "tags": [],
    "cell_id": "00009-42feeb24-2cd6-497d-8402-781f81f9edcc",
    "deepnote_to_be_reexecuted": false,
    "source_hash": "cefb844",
    "execution_start": 1641545883372,
    "execution_millis": 204,
    "deepnote_cell_type": "code"
   },
   "source": "categorical.head()",
   "execution_count": 9,
   "outputs": [
    {
     "output_type": "execute_result",
     "execution_count": 9,
     "data": {
      "application/vnd.deepnote.dataframe.v3+json": {
       "column_count": 16,
       "row_count": 5,
       "columns": [
        {
         "name": "State",
         "dtype": "object",
         "stats": {
          "unique_count": 4,
          "nan_count": 0,
          "categories": [
           {
            "name": "Washington",
            "count": 2
           },
           {
            "name": "Arizona",
            "count": 1
           },
           {
            "name": "2 others",
            "count": 2
           }
          ]
         }
        },
        {
         "name": "Response",
         "dtype": "object",
         "stats": {
          "unique_count": 1,
          "nan_count": 0,
          "categories": [
           {
            "name": "No",
            "count": 5
           }
          ]
         }
        },
        {
         "name": "Coverage",
         "dtype": "object",
         "stats": {
          "unique_count": 3,
          "nan_count": 0,
          "categories": [
           {
            "name": "Basic",
            "count": 3
           },
           {
            "name": "Extended",
            "count": 1
           },
           {
            "name": "Premium",
            "count": 1
           }
          ]
         }
        },
        {
         "name": "Education",
         "dtype": "object",
         "stats": {
          "unique_count": 1,
          "nan_count": 0,
          "categories": [
           {
            "name": "Bachelor",
            "count": 5
           }
          ]
         }
        },
        {
         "name": "EmploymentStatus",
         "dtype": "object",
         "stats": {
          "unique_count": 2,
          "nan_count": 0,
          "categories": [
           {
            "name": "Employed",
            "count": 3
           },
           {
            "name": "Unemployed",
            "count": 2
           }
          ]
         }
        },
        {
         "name": "Gender",
         "dtype": "object",
         "stats": {
          "unique_count": 2,
          "nan_count": 0,
          "categories": [
           {
            "name": "F",
            "count": 3
           },
           {
            "name": "M",
            "count": 2
           }
          ]
         }
        },
        {
         "name": "Marital Status",
         "dtype": "object",
         "stats": {
          "unique_count": 2,
          "nan_count": 0,
          "categories": [
           {
            "name": "Married",
            "count": 3
           },
           {
            "name": "Single",
            "count": 2
           }
          ]
         }
        },
        {
         "name": "Location Code",
         "dtype": "object",
         "stats": {
          "unique_count": 2,
          "nan_count": 0,
          "categories": [
           {
            "name": "Suburban",
            "count": 4
           },
           {
            "name": "Rural",
            "count": 1
           }
          ]
         }
        },
        {
         "name": "Policy",
         "dtype": "object",
         "stats": {
          "unique_count": 4,
          "nan_count": 0,
          "categories": [
           {
            "name": "Personal L3",
            "count": 2
           },
           {
            "name": "Corporate L3",
            "count": 1
           },
           {
            "name": "2 others",
            "count": 2
           }
          ]
         }
        },
        {
         "name": "Policy Type",
         "dtype": "object",
         "stats": {
          "unique_count": 2,
          "nan_count": 0,
          "categories": [
           {
            "name": "Personal Auto",
            "count": 3
           },
           {
            "name": "Corporate Auto",
            "count": 2
           }
          ]
         }
        },
        {
         "name": "Renew Offer Type",
         "dtype": "object",
         "stats": {
          "unique_count": 2,
          "nan_count": 0,
          "categories": [
           {
            "name": "Offer1",
            "count": 4
           },
           {
            "name": "Offer3",
            "count": 1
           }
          ]
         }
        },
        {
         "name": "Sales Channel",
         "dtype": "object",
         "stats": {
          "unique_count": 2,
          "nan_count": 0,
          "categories": [
           {
            "name": "Agent",
            "count": 4
           },
           {
            "name": "Call Center",
            "count": 1
           }
          ]
         }
        },
        {
         "name": "Vehicle Class",
         "dtype": "object",
         "stats": {
          "unique_count": 3,
          "nan_count": 0,
          "categories": [
           {
            "name": "Two-Door Car",
            "count": 2
           },
           {
            "name": "Four-Door Car",
            "count": 2
           },
           {
            "name": "SUV",
            "count": 1
           }
          ]
         }
        },
        {
         "name": "Vehicle Size",
         "dtype": "object",
         "stats": {
          "unique_count": 1,
          "nan_count": 0,
          "categories": [
           {
            "name": "Medsize",
            "count": 5
           }
          ]
         }
        },
        {
         "name": "effective_to_month",
         "dtype": "string",
         "stats": {
          "unique_count": 2,
          "nan_count": 0,
          "categories": [
           {
            "name": "2",
            "count": 3
           },
           {
            "name": "1",
            "count": 2
           }
          ]
         }
        },
        {
         "name": "effective_to_year",
         "dtype": "string",
         "stats": {
          "unique_count": 1,
          "nan_count": 0,
          "categories": [
           {
            "name": "2011",
            "count": 5
           }
          ]
         }
        },
        {
         "name": "_deepnote_index_column",
         "dtype": "int64"
        }
       ],
       "rows": [
        {
         "State": "Washington",
         "Response": "No",
         "Coverage": "Basic",
         "Education": "Bachelor",
         "EmploymentStatus": "Employed",
         "Gender": "F",
         "Marital Status": "Married",
         "Location Code": "Suburban",
         "Policy": "Corporate L3",
         "Policy Type": "Corporate Auto",
         "Renew Offer Type": "Offer1",
         "Sales Channel": "Agent",
         "Vehicle Class": "Two-Door Car",
         "Vehicle Size": "Medsize",
         "effective_to_month": "2",
         "effective_to_year": "2011",
         "_deepnote_index_column": 0
        },
        {
         "State": "Arizona",
         "Response": "No",
         "Coverage": "Extended",
         "Education": "Bachelor",
         "EmploymentStatus": "Unemployed",
         "Gender": "F",
         "Marital Status": "Single",
         "Location Code": "Suburban",
         "Policy": "Personal L3",
         "Policy Type": "Personal Auto",
         "Renew Offer Type": "Offer3",
         "Sales Channel": "Agent",
         "Vehicle Class": "Four-Door Car",
         "Vehicle Size": "Medsize",
         "effective_to_month": "1",
         "effective_to_year": "2011",
         "_deepnote_index_column": 1
        },
        {
         "State": "Nevada",
         "Response": "No",
         "Coverage": "Premium",
         "Education": "Bachelor",
         "EmploymentStatus": "Employed",
         "Gender": "F",
         "Marital Status": "Married",
         "Location Code": "Suburban",
         "Policy": "Personal L3",
         "Policy Type": "Personal Auto",
         "Renew Offer Type": "Offer1",
         "Sales Channel": "Agent",
         "Vehicle Class": "Two-Door Car",
         "Vehicle Size": "Medsize",
         "effective_to_month": "2",
         "effective_to_year": "2011",
         "_deepnote_index_column": 2
        },
        {
         "State": "California",
         "Response": "No",
         "Coverage": "Basic",
         "Education": "Bachelor",
         "EmploymentStatus": "Unemployed",
         "Gender": "M",
         "Marital Status": "Married",
         "Location Code": "Suburban",
         "Policy": "Corporate L2",
         "Policy Type": "Corporate Auto",
         "Renew Offer Type": "Offer1",
         "Sales Channel": "Call Center",
         "Vehicle Class": "SUV",
         "Vehicle Size": "Medsize",
         "effective_to_month": "1",
         "effective_to_year": "2011",
         "_deepnote_index_column": 3
        },
        {
         "State": "Washington",
         "Response": "No",
         "Coverage": "Basic",
         "Education": "Bachelor",
         "EmploymentStatus": "Employed",
         "Gender": "M",
         "Marital Status": "Single",
         "Location Code": "Rural",
         "Policy": "Personal L1",
         "Policy Type": "Personal Auto",
         "Renew Offer Type": "Offer1",
         "Sales Channel": "Agent",
         "Vehicle Class": "Four-Door Car",
         "Vehicle Size": "Medsize",
         "effective_to_month": "2",
         "effective_to_year": "2011",
         "_deepnote_index_column": 4
        }
       ]
      },
      "text/plain": "        State Response  Coverage Education EmploymentStatus Gender  \\\n0  Washington       No     Basic  Bachelor         Employed      F   \n1     Arizona       No  Extended  Bachelor       Unemployed      F   \n2      Nevada       No   Premium  Bachelor         Employed      F   \n3  California       No     Basic  Bachelor       Unemployed      M   \n4  Washington       No     Basic  Bachelor         Employed      M   \n\n  Marital Status Location Code        Policy     Policy Type Renew Offer Type  \\\n0        Married      Suburban  Corporate L3  Corporate Auto           Offer1   \n1         Single      Suburban   Personal L3   Personal Auto           Offer3   \n2        Married      Suburban   Personal L3   Personal Auto           Offer1   \n3        Married      Suburban  Corporate L2  Corporate Auto           Offer1   \n4         Single         Rural   Personal L1   Personal Auto           Offer1   \n\n  Sales Channel  Vehicle Class Vehicle Size effective_to_month  \\\n0         Agent   Two-Door Car      Medsize                  2   \n1         Agent  Four-Door Car      Medsize                  1   \n2         Agent   Two-Door Car      Medsize                  2   \n3   Call Center            SUV      Medsize                  1   \n4         Agent  Four-Door Car      Medsize                  2   \n\n  effective_to_year  \n0              2011  \n1              2011  \n2              2011  \n3              2011  \n4              2011  ",
      "text/html": "<div>\n<style scoped>\n    .dataframe tbody tr th:only-of-type {\n        vertical-align: middle;\n    }\n\n    .dataframe tbody tr th {\n        vertical-align: top;\n    }\n\n    .dataframe thead th {\n        text-align: right;\n    }\n</style>\n<table border=\"1\" class=\"dataframe\">\n  <thead>\n    <tr style=\"text-align: right;\">\n      <th></th>\n      <th>State</th>\n      <th>Response</th>\n      <th>Coverage</th>\n      <th>Education</th>\n      <th>EmploymentStatus</th>\n      <th>Gender</th>\n      <th>Marital Status</th>\n      <th>Location Code</th>\n      <th>Policy</th>\n      <th>Policy Type</th>\n      <th>Renew Offer Type</th>\n      <th>Sales Channel</th>\n      <th>Vehicle Class</th>\n      <th>Vehicle Size</th>\n      <th>effective_to_month</th>\n      <th>effective_to_year</th>\n    </tr>\n  </thead>\n  <tbody>\n    <tr>\n      <th>0</th>\n      <td>Washington</td>\n      <td>No</td>\n      <td>Basic</td>\n      <td>Bachelor</td>\n      <td>Employed</td>\n      <td>F</td>\n      <td>Married</td>\n      <td>Suburban</td>\n      <td>Corporate L3</td>\n      <td>Corporate Auto</td>\n      <td>Offer1</td>\n      <td>Agent</td>\n      <td>Two-Door Car</td>\n      <td>Medsize</td>\n      <td>2</td>\n      <td>2011</td>\n    </tr>\n    <tr>\n      <th>1</th>\n      <td>Arizona</td>\n      <td>No</td>\n      <td>Extended</td>\n      <td>Bachelor</td>\n      <td>Unemployed</td>\n      <td>F</td>\n      <td>Single</td>\n      <td>Suburban</td>\n      <td>Personal L3</td>\n      <td>Personal Auto</td>\n      <td>Offer3</td>\n      <td>Agent</td>\n      <td>Four-Door Car</td>\n      <td>Medsize</td>\n      <td>1</td>\n      <td>2011</td>\n    </tr>\n    <tr>\n      <th>2</th>\n      <td>Nevada</td>\n      <td>No</td>\n      <td>Premium</td>\n      <td>Bachelor</td>\n      <td>Employed</td>\n      <td>F</td>\n      <td>Married</td>\n      <td>Suburban</td>\n      <td>Personal L3</td>\n      <td>Personal Auto</td>\n      <td>Offer1</td>\n      <td>Agent</td>\n      <td>Two-Door Car</td>\n      <td>Medsize</td>\n      <td>2</td>\n      <td>2011</td>\n    </tr>\n    <tr>\n      <th>3</th>\n      <td>California</td>\n      <td>No</td>\n      <td>Basic</td>\n      <td>Bachelor</td>\n      <td>Unemployed</td>\n      <td>M</td>\n      <td>Married</td>\n      <td>Suburban</td>\n      <td>Corporate L2</td>\n      <td>Corporate Auto</td>\n      <td>Offer1</td>\n      <td>Call Center</td>\n      <td>SUV</td>\n      <td>Medsize</td>\n      <td>1</td>\n      <td>2011</td>\n    </tr>\n    <tr>\n      <th>4</th>\n      <td>Washington</td>\n      <td>No</td>\n      <td>Basic</td>\n      <td>Bachelor</td>\n      <td>Employed</td>\n      <td>M</td>\n      <td>Single</td>\n      <td>Rural</td>\n      <td>Personal L1</td>\n      <td>Personal Auto</td>\n      <td>Offer1</td>\n      <td>Agent</td>\n      <td>Four-Door Car</td>\n      <td>Medsize</td>\n      <td>2</td>\n      <td>2011</td>\n    </tr>\n  </tbody>\n</table>\n</div>"
     },
     "metadata": {}
    }
   ]
  },
  {
   "cell_type": "code",
   "metadata": {
    "tags": [],
    "cell_id": "00008-e52214e4-f9b4-4635-ad0b-dcfdf706c215",
    "deepnote_to_be_reexecuted": false,
    "source_hash": "1e65e768",
    "execution_start": 1641545883581,
    "execution_millis": 6577,
    "deepnote_output_heights": [
     264,
     482,
     482,
     482,
     482,
     482,
     482,
     482,
     482,
     482,
     482,
     482,
     482,
     482,
     483,
     21.1875,
     483
    ],
    "deepnote_cell_type": "code"
   },
   "source": "for i, col in enumerate(categorical.columns):  \n    plt.figure(figsize=(12,8))\n    plt.figure(i)\n    sns.countplot(x=col, data=categorical)",
   "execution_count": 10,
   "outputs": [
    {
     "data": {
      "text/plain": "<Figure size 432x288 with 1 Axes>",
      "image/png": "[encoded data removed]"
     },
     "metadata": {
      "needs_background": "light",
      "image/png": {
       "width": 395,
       "height": 262
      }
     },
     "output_type": "display_data"
    },
    {
     "data": {
      "text/plain": "<Figure size 864x576 with 1 Axes>",
      "image/png": "[encoded data removed]"
     },
     "metadata": {
      "needs_background": "light",
      "image/png": {
       "width": 730,
       "height": 480
      }
     },
     "output_type": "display_data"
    },
    {
     "data": {
      "text/plain": "<Figure size 864x576 with 1 Axes>",
      "image/png": "[encoded data removed]"
     },
     "metadata": {
      "needs_background": "light",
      "image/png": {
       "width": 730,
       "height": 480
      }
     },
     "output_type": "display_data"
    },
    {
     "data": {
      "text/plain": "<Figure size 864x576 with 1 Axes>",
      "image/png": "[encoded data removed]"
     },
     "metadata": {
      "needs_background": "light",
      "image/png": {
       "width": 730,
       "height": 480
      }
     },
     "output_type": "display_data"
    },
    {
     "data": {
      "text/plain": "<Figure size 864x576 with 1 Axes>",
      "image/png": "[encoded data removed]"
     },
     "metadata": {
      "needs_background": "light",
      "image/png": {
       "width": 730,
       "height": 480
      }
     },
     "output_type": "display_data"
    },
    {
     "data": {
      "text/plain": "<Figure size 864x576 with 1 Axes>",
      "image/png": "[encoded data removed]"
     },
     "metadata": {
      "needs_background": "light",
      "image/png": {
       "width": 730,
       "height": 480
      }
     },
     "output_type": "display_data"
    },
    {
     "data": {
      "text/plain": "<Figure size 864x576 with 1 Axes>",
      "image/png": "[encoded data removed]"
     },
     "metadata": {
      "needs_background": "light",
      "image/png": {
       "width": 730,
       "height": 480
      }
     },
     "output_type": "display_data"
    },
    {
     "data": {
      "text/plain": "<Figure size 864x576 with 1 Axes>",
      "image/png": "[encoded data removed]"
     },
     "metadata": {
      "needs_background": "light",
      "image/png": {
       "width": 730,
       "height": 480
      }
     },
     "output_type": "display_data"
    },
    {
     "data": {
      "text/plain": "<Figure size 864x576 with 1 Axes>",
      "image/png": "[encoded data removed]"
     },
     "metadata": {
      "needs_background": "light",
      "image/png": {
       "width": 730,
       "height": 480
      }
     },
     "output_type": "display_data"
    },
    {
     "data": {
      "text/plain": "<Figure size 864x576 with 1 Axes>",
      "image/png": "[encoded data removed]"
     },
     "metadata": {
      "needs_background": "light",
      "image/png": {
       "width": 730,
       "height": 480
      }
     },
     "output_type": "display_data"
    },
    {
     "data": {
      "text/plain": "<Figure size 864x576 with 1 Axes>",
      "image/png": "[encoded data removed]"
     },
     "metadata": {
      "needs_background": "light",
      "image/png": {
       "width": 730,
       "height": 480
      }
     },
     "output_type": "display_data"
    },
    {
     "data": {
      "text/plain": "<Figure size 864x576 with 1 Axes>",
      "image/png": "[encoded data removed]"
     },
     "metadata": {
      "needs_background": "light",
      "image/png": {
       "width": 730,
       "height": 480
      }
     },
     "output_type": "display_data"
    },
    {
     "data": {
      "text/plain": "<Figure size 864x576 with 1 Axes>",
      "image/png": "[encoded data removed]"
     },
     "metadata": {
      "needs_background": "light",
      "image/png": {
       "width": 730,
       "height": 480
      }
     },
     "output_type": "display_data"
    },
    {
     "data": {
      "text/plain": "<Figure size 864x576 with 1 Axes>",
      "image/png": "[encoded data removed]"
     },
     "metadata": {
      "needs_background": "light",
      "image/png": {
       "width": 730,
       "height": 480
      }
     },
     "output_type": "display_data"
    },
    {
     "data": {
      "text/plain": "<Figure size 864x576 with 1 Axes>",
      "image/png": "[encoded data removed]"
     },
     "metadata": {
      "needs_background": "light",
      "image/png": {
       "width": 730,
       "height": 481
      }
     },
     "output_type": "display_data"
    },
    {
     "data": {
      "text/plain": "<Figure size 864x576 with 0 Axes>"
     },
     "metadata": {},
     "output_type": "display_data"
    },
    {
     "data": {
      "text/plain": "<Figure size 864x576 with 1 Axes>",
      "image/png": "[encoded data removed]"
     },
     "metadata": {
      "needs_background": "light",
      "image/png": {
       "width": 730,
       "height": 481
      }
     },
     "output_type": "display_data"
    }
   ]
  },
  {
   "cell_type": "markdown",
   "source": "## Handling Skewness",
   "metadata": {
    "tags": [],
    "is_collapsed": false,
    "cell_id": "00011-15394b02-3f36-41ca-8f29-551c9af047d3",
    "deepnote_cell_type": "text-cell-h2"
   }
  },
  {
   "cell_type": "code",
   "metadata": {
    "tags": [],
    "cell_id": "00012-f10f1a29-200f-4dcf-92b2-a60f0d72871c",
    "deepnote_to_be_reexecuted": false,
    "source_hash": "f615c12",
    "execution_start": 1641545890160,
    "execution_millis": 860,
    "deepnote_output_heights": [
     null,
     21.1875,
     264
    ],
    "deepnote_cell_type": "code"
   },
   "source": "from scipy import stats\nfrom scipy.stats import norm,skew\n\nsns.distplot(df['Customer Lifetime Value'],fit=norm)",
   "execution_count": 11,
   "outputs": [
    {
     "name": "stderr",
     "text": "/shared-libs/python3.7/py/lib/python3.7/site-packages/seaborn/distributions.py:2619: FutureWarning: `distplot` is a deprecated function and will be removed in a future version. Please adapt your code to use either `displot` (a figure-level function with similar flexibility) or `histplot` (an axes-level function for histograms).\n  warnings.warn(msg, FutureWarning)\n",
     "output_type": "stream",
     "data": {}
    },
    {
     "output_type": "execute_result",
     "execution_count": 11,
     "data": {
      "text/plain": "<AxesSubplot:xlabel='Customer Lifetime Value', ylabel='Density'>"
     },
     "metadata": {}
    },
    {
     "data": {
      "text/plain": "<Figure size 432x288 with 1 Axes>",
      "image/png": "[encoded data removed]"
     },
     "metadata": {
      "needs_background": "light",
      "image/png": {
       "width": 411,
       "height": 262
      }
     },
     "output_type": "display_data"
    }
   ]
  },
  {
   "cell_type": "code",
   "metadata": {
    "tags": [],
    "cell_id": "00013-b3355c3c-872e-49f4-a581-35aef02b26ae",
    "deepnote_to_be_reexecuted": false,
    "source_hash": "81c485f",
    "execution_start": 1641545891022,
    "execution_millis": 19,
    "deepnote_cell_type": "code"
   },
   "source": "(mu,sigma) = norm.fit(df['Customer Lifetime Value'])\nprint('mu = {:.2f} and sigma = {:.2f}'.format(mu,sigma))\nprint('skewness before transformation:',df['Customer Lifetime Value'].skew())",
   "execution_count": 12,
   "outputs": [
    {
     "name": "stdout",
     "text": "mu = 8004.94 and sigma = 6870.59\nskewness before transformation: 3.0322802599299847\n",
     "output_type": "stream",
     "data": {}
    }
   ]
  },
  {
   "cell_type": "code",
   "metadata": {
    "tags": [],
    "cell_id": "00014-4f1b76f2-81e1-4953-9221-be758f283fc2",
    "deepnote_to_be_reexecuted": false,
    "source_hash": "a2fc91e",
    "execution_start": 1641545891049,
    "execution_millis": 756,
    "deepnote_output_heights": [
     null,
     264
    ],
    "deepnote_cell_type": "code"
   },
   "source": "df['Customer Lifetime Value'] = np.log1p(df['Customer Lifetime Value'])\nsns.distplot(df['Customer Lifetime Value'],fit=norm)\n\n(mu,sigma) = norm.fit(df['Customer Lifetime Value'])\nprint('mu = {:.2f} and sigma = {:.2f}'.format(mu,sigma))",
   "execution_count": 13,
   "outputs": [
    {
     "name": "stderr",
     "text": "/shared-libs/python3.7/py/lib/python3.7/site-packages/seaborn/distributions.py:2619: FutureWarning: `distplot` is a deprecated function and will be removed in a future version. Please adapt your code to use either `displot` (a figure-level function with similar flexibility) or `histplot` (an axes-level function for histograms).\n  warnings.warn(msg, FutureWarning)\nmu = 8.75 and sigma = 0.65\n",
     "output_type": "stream",
     "data": {}
    },
    {
     "data": {
      "text/plain": "<Figure size 432x288 with 1 Axes>",
      "image/png": "[encoded data removed]"
     },
     "metadata": {
      "needs_background": "light",
      "image/png": {
       "width": 386,
       "height": 262
      }
     },
     "output_type": "display_data"
    }
   ]
  },
  {
   "cell_type": "code",
   "metadata": {
    "tags": [],
    "cell_id": "00015-5af5a0af-e868-414e-a092-fcd40457178c",
    "deepnote_to_be_reexecuted": false,
    "source_hash": "ef9ceb56",
    "execution_start": 1641545891811,
    "execution_millis": 15,
    "deepnote_cell_type": "code"
   },
   "source": "print('mu = {:.2f} and sigma = {:.2f}'.format(mu,sigma))\nprint('skewness before transformation:',df['Customer Lifetime Value'].skew())",
   "execution_count": 14,
   "outputs": [
    {
     "name": "stdout",
     "text": "mu = 8.75 and sigma = 0.65\nskewness before transformation: 0.5761717967456804\n",
     "output_type": "stream",
     "data": {}
    }
   ]
  },
  {
   "cell_type": "markdown",
   "source": "## Predictor Matrix",
   "metadata": {
    "tags": [],
    "is_collapsed": false,
    "cell_id": "00016-fc2ee319-31d2-4b06-a633-d8baa6096559",
    "deepnote_cell_type": "text-cell-h2"
   }
  },
  {
   "cell_type": "code",
   "metadata": {
    "tags": [],
    "cell_id": "00011-d8e6dcb4-9f6b-479e-8147-d9e93feb56e2",
    "deepnote_to_be_reexecuted": false,
    "source_hash": "e1cd4aae",
    "execution_start": 1641545891835,
    "execution_millis": 18,
    "deepnote_cell_type": "code"
   },
   "source": "## Create Pred Matrix and Normalize\n\ny = df.pop('Customer Lifetime Value')\n\nX = df.copy()\nX = X.drop('Effective To Date', axis=1)\nX = X.drop('Customer', axis=1)",
   "execution_count": 15,
   "outputs": []
  },
  {
   "cell_type": "code",
   "metadata": {
    "tags": [],
    "cell_id": "00012-e370adda-3550-4892-b1cd-24996c4c2d97",
    "deepnote_to_be_reexecuted": false,
    "source_hash": "e52f4e4c",
    "execution_start": 1641545891859,
    "execution_millis": 79,
    "deepnote_cell_type": "code"
   },
   "source": "X.info()",
   "execution_count": 16,
   "outputs": [
    {
     "name": "stdout",
     "text": "<class 'pandas.core.frame.DataFrame'>\nRangeIndex: 9134 entries, 0 to 9133\nData columns (total 23 columns):\n #   Column                         Non-Null Count  Dtype  \n---  ------                         --------------  -----  \n 0   State                          9134 non-null   object \n 1   Response                       9134 non-null   object \n 2   Coverage                       9134 non-null   object \n 3   Education                      9134 non-null   object \n 4   EmploymentStatus               9134 non-null   object \n 5   Gender                         9134 non-null   object \n 6   Income                         9134 non-null   int64  \n 7   Location Code                  9134 non-null   object \n 8   Marital Status                 9134 non-null   object \n 9   Monthly Premium Auto           9134 non-null   int64  \n 10  Months Since Last Claim        9134 non-null   int64  \n 11  Months Since Policy Inception  9134 non-null   int64  \n 12  Number of Open Complaints      9134 non-null   int64  \n 13  Number of Policies             9134 non-null   int64  \n 14  Policy Type                    9134 non-null   object \n 15  Policy                         9134 non-null   object \n 16  Renew Offer Type               9134 non-null   object \n 17  Sales Channel                  9134 non-null   object \n 18  Total Claim Amount             9134 non-null   float64\n 19  Vehicle Class                  9134 non-null   object \n 20  Vehicle Size                   9134 non-null   object \n 21  effective_to_month             9134 non-null   string \n 22  effective_to_year              9134 non-null   string \ndtypes: float64(1), int64(6), object(14), string(2)\nmemory usage: 1.6+ MB\n",
     "output_type": "stream",
     "data": {}
    }
   ]
  },
  {
   "cell_type": "code",
   "metadata": {
    "tags": [],
    "cell_id": "00013-89a9531e-3449-4f29-9330-9d45b3a7ec9f",
    "deepnote_to_be_reexecuted": false,
    "source_hash": "12f34938",
    "execution_start": 1641545891942,
    "execution_millis": 12,
    "deepnote_cell_type": "code"
   },
   "source": "X = X.drop('Monthly Premium Auto', axis=1)",
   "execution_count": 17,
   "outputs": []
  },
  {
   "cell_type": "code",
   "metadata": {
    "tags": [],
    "cell_id": "00014-ce74292f-77ed-4ba6-9849-92057b4ffef3",
    "deepnote_to_be_reexecuted": false,
    "source_hash": "e52f4e4c",
    "execution_start": 1641545891960,
    "execution_millis": 54,
    "deepnote_cell_type": "code"
   },
   "source": "X.info()",
   "execution_count": 18,
   "outputs": [
    {
     "name": "stdout",
     "text": "<class 'pandas.core.frame.DataFrame'>\nRangeIndex: 9134 entries, 0 to 9133\nData columns (total 22 columns):\n #   Column                         Non-Null Count  Dtype  \n---  ------                         --------------  -----  \n 0   State                          9134 non-null   object \n 1   Response                       9134 non-null   object \n 2   Coverage                       9134 non-null   object \n 3   Education                      9134 non-null   object \n 4   EmploymentStatus               9134 non-null   object \n 5   Gender                         9134 non-null   object \n 6   Income                         9134 non-null   int64  \n 7   Location Code                  9134 non-null   object \n 8   Marital Status                 9134 non-null   object \n 9   Months Since Last Claim        9134 non-null   int64  \n 10  Months Since Policy Inception  9134 non-null   int64  \n 11  Number of Open Complaints      9134 non-null   int64  \n 12  Number of Policies             9134 non-null   int64  \n 13  Policy Type                    9134 non-null   object \n 14  Policy                         9134 non-null   object \n 15  Renew Offer Type               9134 non-null   object \n 16  Sales Channel                  9134 non-null   object \n 17  Total Claim Amount             9134 non-null   float64\n 18  Vehicle Class                  9134 non-null   object \n 19  Vehicle Size                   9134 non-null   object \n 20  effective_to_month             9134 non-null   string \n 21  effective_to_year              9134 non-null   string \ndtypes: float64(1), int64(5), object(14), string(2)\nmemory usage: 1.5+ MB\n",
     "output_type": "stream",
     "data": {}
    }
   ]
  },
  {
   "cell_type": "code",
   "metadata": {
    "tags": [],
    "cell_id": "00013-20051698-37ef-4a45-ad29-6dbb9d1da24c",
    "deepnote_to_be_reexecuted": false,
    "source_hash": "182e8ef5",
    "execution_start": 1641545892021,
    "execution_millis": 68,
    "deepnote_cell_type": "code"
   },
   "source": "X = pd.get_dummies(X)",
   "execution_count": 19,
   "outputs": []
  },
  {
   "cell_type": "code",
   "metadata": {
    "tags": [],
    "cell_id": "00013-f1257354-15d0-4953-902a-649095486a04",
    "deepnote_to_be_reexecuted": false,
    "source_hash": "d62d2e70",
    "execution_start": 1641545892095,
    "execution_millis": 30,
    "deepnote_cell_type": "code"
   },
   "source": "X_train, X_test, y_train, y_test = train_test_split(X, y, test_size=0.2, random_state=1)",
   "execution_count": 20,
   "outputs": []
  },
  {
   "cell_type": "code",
   "metadata": {
    "tags": [],
    "cell_id": "00015-515a63db-cda4-4e12-a4cd-508f6ad36a02",
    "deepnote_to_be_reexecuted": false,
    "source_hash": "cc841c4e",
    "execution_start": 1641545892131,
    "execution_millis": 264,
    "deepnote_cell_type": "code"
   },
   "source": "scaler = StandardScaler()\nX_train = scaler.fit_transform(X_train)\nX_test = scaler.transform(X_test)",
   "execution_count": 21,
   "outputs": []
  },
  {
   "cell_type": "markdown",
   "source": "## Colliniarity Check",
   "metadata": {
    "tags": [],
    "is_collapsed": false,
    "cell_id": "00016-8b0b17c8-5c99-413f-8a3d-ee1625bbc2c0",
    "deepnote_cell_type": "text-cell-h2"
   }
  },
  {
   "cell_type": "code",
   "metadata": {
    "tags": [],
    "cell_id": "00018-38061d13-f019-46c0-ba76-d7d438b6d687",
    "deepnote_to_be_reexecuted": false,
    "source_hash": "39c1799c",
    "execution_start": 1641545892434,
    "execution_millis": 425,
    "deepnote_cell_type": "code"
   },
   "source": "X['effective_to_month'] = X['effective_to_month'].astype(int)\nX['effective_to_year'] = X['effective_to_year'].astype(int)",
   "execution_count": 22,
   "outputs": []
  },
  {
   "cell_type": "code",
   "metadata": {
    "tags": [],
    "cell_id": "00018-92d8e295-7605-4fda-ba11-dc389e7fc3aa",
    "deepnote_to_be_reexecuted": false,
    "source_hash": "7a93a74f",
    "execution_start": 1641545892864,
    "execution_millis": 56,
    "deepnote_cell_type": "code"
   },
   "source": "X_vif = add_constant(X)",
   "execution_count": 23,
   "outputs": []
  },
  {
   "cell_type": "code",
   "metadata": {
    "tags": [],
    "cell_id": "00019-a2f53529-96b1-45d9-b14e-dccc4bfe5e9a",
    "deepnote_to_be_reexecuted": false,
    "source_hash": "e8193858",
    "execution_start": 1641545892925,
    "execution_millis": 7424,
    "deepnote_output_heights": [
     null,
     232.25
    ],
    "output_cleared": false,
    "deepnote_cell_type": "code"
   },
   "source": "vif = pd.Series([variance_inflation_factor(X_vif.values, i) for i in range(X_vif.shape[1])], index=X_vif.columns)",
   "execution_count": 24,
   "outputs": [
    {
     "name": "stderr",
     "text": "/root/venv/lib/python3.7/site-packages/statsmodels/regression/linear_model.py:1738: RuntimeWarning: divide by zero encountered in double_scalars\n  return 1 - self.ssr/self.centered_tss\n/root/venv/lib/python3.7/site-packages/statsmodels/stats/outliers_influence.py:195: RuntimeWarning: divide by zero encountered in double_scalars\n  vif = 1. / (1. - r_squared_i)\n",
     "output_type": "stream",
     "data": {}
    }
   ]
  },
  {
   "cell_type": "code",
   "metadata": {
    "tags": [],
    "cell_id": "00021-c900c02f-ce65-479c-be79-1a31db84a4ae",
    "deepnote_to_be_reexecuted": false,
    "source_hash": "f6d893bb",
    "execution_start": 1641545900374,
    "execution_millis": 7,
    "deepnote_cell_type": "code"
   },
   "source": "def print_full(x):\n    pd.set_option('display.max_rows', len(x))\n    print(x)\n    pd.reset_option('display.max_rows')",
   "execution_count": 25,
   "outputs": []
  },
  {
   "cell_type": "code",
   "metadata": {
    "tags": [],
    "cell_id": "00021-7a7b6678-927b-44b4-a531-482e5d952d81",
    "deepnote_to_be_reexecuted": false,
    "source_hash": "8cbe0a5e",
    "execution_start": 1641545900403,
    "execution_millis": 685139046,
    "deepnote_output_heights": [
     232.25
    ],
    "deepnote_cell_type": "code"
   },
   "source": "print_full(vif)",
   "execution_count": 26,
   "outputs": [
    {
     "name": "stdout",
     "text": "Income                            3.182668\nMonths Since Last Claim           1.010230\nMonths Since Policy Inception     1.021980\nNumber of Open Complaints         1.009120\nNumber of Policies                1.019271\nTotal Claim Amount                4.137478\neffective_to_month                1.006442\neffective_to_year                 0.000000\nState_Arizona                          inf\nState_California                       inf\nState_Nevada                           inf\nState_Oregon                           inf\nState_Washington                       inf\nResponse_No                            inf\nResponse_Yes                           inf\nCoverage_Basic                         inf\nCoverage_Extended                      inf\nCoverage_Premium                       inf\nEducation_Bachelor                     inf\nEducation_College                      inf\nEducation_Doctor                       inf\nEducation_High School or Below         inf\nEducation_Master                       inf\nEmploymentStatus_Disabled              inf\nEmploymentStatus_Employed              inf\nEmploymentStatus_Medical Leave         inf\nEmploymentStatus_Retired               inf\nEmploymentStatus_Unemployed            inf\nGender_F                               inf\nGender_M                               inf\nLocation Code_Rural                    inf\nLocation Code_Suburban                 inf\nLocation Code_Urban                    inf\nMarital Status_Divorced                inf\nMarital Status_Married                 inf\nMarital Status_Single                  inf\nPolicy Type_Corporate Auto             inf\nPolicy Type_Personal Auto              inf\nPolicy Type_Special Auto               inf\nPolicy_Corporate L1                    inf\nPolicy_Corporate L2                    inf\nPolicy_Corporate L3                    inf\nPolicy_Personal L1                     inf\nPolicy_Personal L2                     inf\nPolicy_Personal L3                     inf\nPolicy_Special L1                      inf\nPolicy_Special L2                      inf\nPolicy_Special L3                      inf\nRenew Offer Type_Offer1                inf\nRenew Offer Type_Offer2                inf\nRenew Offer Type_Offer3                inf\nRenew Offer Type_Offer4                inf\nSales Channel_Agent                    inf\nSales Channel_Branch                   inf\nSales Channel_Call Center              inf\nSales Channel_Web                      inf\nVehicle Class_Four-Door Car            inf\nVehicle Class_Luxury Car               inf\nVehicle Class_Luxury SUV               inf\nVehicle Class_SUV                      inf\nVehicle Class_Sports Car               inf\nVehicle Class_Two-Door Car             inf\nVehicle Size_Large                     inf\nVehicle Size_Medsize                   inf\nVehicle Size_Small                     inf\ndtype: float64\n",
     "output_type": "stream",
     "data": {}
    }
   ]
  },
  {
   "cell_type": "markdown",
   "source": "## Normalizing Data",
   "metadata": {
    "tags": [],
    "is_collapsed": false,
    "cell_id": "00025-eba02602-aa83-48a9-be93-ace3dae2bea7",
    "deepnote_cell_type": "text-cell-h2"
   }
  },
  {
   "cell_type": "code",
   "metadata": {
    "tags": [],
    "cell_id": "00026-81b466ad-2283-4cff-9a3c-7887970474fa",
    "deepnote_to_be_reexecuted": false,
    "source_hash": "4be044c5",
    "execution_start": 1641545900449,
    "execution_millis": 685139008,
    "deepnote_cell_type": "code"
   },
   "source": "from sklearn.preprocessing import MinMaxScaler\n\nscaler = MinMaxScaler()",
   "execution_count": 27,
   "outputs": []
  },
  {
   "cell_type": "code",
   "metadata": {
    "tags": [],
    "cell_id": "00027-82c069b5-2437-478d-9abf-194a7fdfdab7",
    "deepnote_to_be_reexecuted": false,
    "source_hash": "f4d7347a",
    "execution_start": 1641545900506,
    "execution_millis": 685138994,
    "deepnote_output_heights": [
     251.4375
    ],
    "deepnote_cell_type": "code"
   },
   "source": "X_train = scaler.fit_transform(X_train)\nX_test = scaler.transform(X_test)",
   "execution_count": 28,
   "outputs": []
  },
  {
   "cell_type": "markdown",
   "source": "## Models",
   "metadata": {
    "tags": [],
    "is_collapsed": false,
    "cell_id": "00016-8fb8290d-d20c-4311-8d14-a13ca8758013",
    "deepnote_cell_type": "text-cell-h2"
   }
  },
  {
   "cell_type": "markdown",
   "source": "### Model 1 - Linear Regression",
   "metadata": {
    "tags": [],
    "is_collapsed": false,
    "cell_id": "00017-cc088526-e9aa-4455-a1fb-7c843bf3b027",
    "deepnote_cell_type": "text-cell-h3"
   }
  },
  {
   "cell_type": "code",
   "metadata": {
    "tags": [],
    "cell_id": "00016-419099f9-6ab7-42e8-9ae5-4818d8b230f8",
    "deepnote_to_be_reexecuted": false,
    "source_hash": "54c56013",
    "execution_start": 1641545900506,
    "execution_millis": 368,
    "deepnote_output_heights": [
     21.1875
    ],
    "deepnote_cell_type": "code"
   },
   "source": "from sklearn.linear_model import LinearRegression\nfrom sklearn.model_selection import cross_val_score\n\nreg = LinearRegression().fit(X_train, y_train)\nr2 = reg.score(X_test, y_test)\n\ncv_scores = cross_val_score(reg, X_test, y_test, cv=5)\nprint(\"Your r2 Test Score is: \", r2)\nprint(\"Your CV Scores are: \", cv_scores)\nprint(\"Your Mean CV Score is: \", np.mean(cv_scores))",
   "execution_count": 29,
   "outputs": [
    {
     "name": "stdout",
     "text": "Your r2 Test Score is:  0.2556225132535189\nYour CV Scores are:  [0.17256766 0.28157678 0.15999127 0.27916797 0.26899552]\nYour Mean CV Score is:  0.23245984125402827\n",
     "output_type": "stream",
     "data": {}
    }
   ]
  },
  {
   "cell_type": "code",
   "metadata": {
    "tags": [],
    "cell_id": "00020-2c251a0c-352b-4deb-adbb-c00ce0949a43",
    "deepnote_to_be_reexecuted": false,
    "source_hash": "dec41d2e",
    "execution_start": 1641545900880,
    "execution_millis": 22,
    "deepnote_output_heights": [
     21.1875
    ],
    "deepnote_cell_type": "code"
   },
   "source": "reg.predict(X_test[21].reshape(1, -1))",
   "execution_count": 30,
   "outputs": [
    {
     "output_type": "execute_result",
     "execution_count": 30,
     "data": {
      "text/plain": "array([9.3125])"
     },
     "metadata": {}
    }
   ]
  },
  {
   "cell_type": "code",
   "metadata": {
    "tags": [],
    "cell_id": "00021-f90c0284-5b7f-4e5e-b948-4812858dbb34",
    "deepnote_to_be_reexecuted": false,
    "source_hash": "16d28fa",
    "execution_start": 1641545900911,
    "execution_millis": 60,
    "deepnote_cell_type": "code"
   },
   "source": "Xstd = scaler.fit_transform(X)\ndf['cltv_ground_truth'] = y",
   "execution_count": 31,
   "outputs": []
  },
  {
   "cell_type": "code",
   "metadata": {
    "tags": [],
    "cell_id": "00021-4f1cdcab-65a2-46a8-b6bd-692df0d29e96",
    "deepnote_to_be_reexecuted": false,
    "source_hash": "ecd09d9a",
    "execution_start": 1641545900977,
    "execution_millis": 66,
    "deepnote_cell_type": "code"
   },
   "source": "reg_full = LinearRegression().fit(Xstd, y)\nreg_preds = reg_full.predict(Xstd)",
   "execution_count": 32,
   "outputs": []
  },
  {
   "cell_type": "code",
   "metadata": {
    "tags": [],
    "cell_id": "00022-788d9d4b-f98e-4c7c-b84a-2df319d145d3",
    "deepnote_to_be_reexecuted": false,
    "source_hash": "4d86f29",
    "execution_start": 1641545901056,
    "execution_millis": 74,
    "deepnote_cell_type": "code"
   },
   "source": "y_pred = reg.predict(X_test)\n\nols_mae = mean_absolute_error(y_test, y_pred)\nprint(ols_mae)",
   "execution_count": 33,
   "outputs": [
    {
     "name": "stdout",
     "text": "0.4345503435130889\n",
     "output_type": "stream",
     "data": {}
    }
   ]
  },
  {
   "cell_type": "markdown",
   "source": "### Model 2 - ElasticNet + GridSearch",
   "metadata": {
    "tags": [],
    "is_collapsed": false,
    "cell_id": "00022-386e4b4c-394e-4656-a759-70f76998edf9",
    "deepnote_cell_type": "text-cell-h3"
   }
  },
  {
   "cell_type": "code",
   "metadata": {
    "tags": [],
    "cell_id": "00023-c2fdbe8c-2d8b-4967-b99e-868f32d0df81",
    "deepnote_to_be_reexecuted": false,
    "source_hash": "cf801d52",
    "execution_start": 1641545901129,
    "execution_millis": 1,
    "deepnote_cell_type": "code"
   },
   "source": "# Move import up top\n\nfrom sklearn.model_selection import GridSearchCV\nfrom sklearn.linear_model import Ridge, Lasso, ElasticNet, RidgeCV, LassoCV, ElasticNetCV",
   "execution_count": 34,
   "outputs": []
  },
  {
   "cell_type": "code",
   "metadata": {
    "tags": [],
    "cell_id": "00024-be01a7d1-554e-4d09-9a03-e86106d4ee85",
    "deepnote_to_be_reexecuted": false,
    "source_hash": "be582f1f",
    "execution_start": 1641545901172,
    "execution_millis": 355,
    "deepnote_cell_type": "code"
   },
   "source": "model_enet = ElasticNet(alpha=0.1, l1_ratio=0.9)\n\nmodel_enet.fit(X_train, y_train)\ncv_score = cross_val_score(model_enet, X_train, y_train, cv=5)\nmean_cv = np.mean(cross_val_score(model_enet, X_train, y_train, cv=5))\ntraining_score = model_enet.score(X_train, y_train)\ntest_score = model_enet.score(X_test, y_test)\n\nprint(\"Training Score: \", training_score)\nprint(\"Cross validation scores: \", cv_score)\nprint(\"Your Mean CV Score: \", mean_cv)\nprint(\"Test Score: \", test_score)",
   "execution_count": 35,
   "outputs": [
    {
     "name": "stdout",
     "text": "Training Score:  0.0\nCross validation scores:  [-5.35723728e-04 -1.57781988e-03 -2.05769692e-04 -2.19798446e-09\n -7.09989889e-06]\nYour Mean CV Score:  -0.00046528307848570094\nTest Score:  -0.0008550870413079892\n",
     "output_type": "stream",
     "data": {}
    }
   ]
  },
  {
   "cell_type": "code",
   "metadata": {
    "tags": [],
    "cell_id": "00025-99e54a8e-7243-4d84-afdf-e8018cfdd66d",
    "deepnote_to_be_reexecuted": false,
    "source_hash": "15d7866b",
    "execution_start": 1641545901538,
    "execution_millis": 32,
    "deepnote_output_heights": [
     21.1875
    ],
    "deepnote_cell_type": "code"
   },
   "source": "model_enet.get_params().keys()",
   "execution_count": 36,
   "outputs": [
    {
     "output_type": "execute_result",
     "execution_count": 36,
     "data": {
      "text/plain": "dict_keys(['alpha', 'copy_X', 'fit_intercept', 'l1_ratio', 'max_iter', 'normalize', 'positive', 'precompute', 'random_state', 'selection', 'tol', 'warm_start'])"
     },
     "metadata": {}
    }
   ]
  },
  {
   "cell_type": "code",
   "metadata": {
    "tags": [],
    "cell_id": "00022-154b5fec-6faa-432e-bb3f-24c8776ee485",
    "deepnote_to_be_reexecuted": false,
    "source_hash": "aa78e936",
    "execution_start": 1641545901587,
    "execution_millis": 13,
    "deepnote_cell_type": "code"
   },
   "source": "# fill the dictionary of parameters\ngs_params = {'l1_ratio': np.linspace(0, 1, 50), 'alpha': np.linspace(0, 1, 50)}\n\ngridsearch = GridSearchCV(model_enet, gs_params, n_jobs=2, cv=5, verbose=2)",
   "execution_count": 37,
   "outputs": []
  },
  {
   "cell_type": "code",
   "metadata": {
    "tags": [],
    "cell_id": "00024-30d1506d-dd8b-469a-9d03-5ae5524c81b2",
    "deepnote_to_be_reexecuted": false,
    "source_hash": "1b336fca",
    "execution_start": 1641545901611,
    "execution_millis": 13,
    "deepnote_output_heights": [
     null,
     270.625
    ],
    "deepnote_cell_type": "code"
   },
   "source": "# Run gridsearch\n\n#gridsearch.fit(X_train, y_train)",
   "execution_count": 38,
   "outputs": []
  },
  {
   "cell_type": "code",
   "metadata": {
    "tags": [],
    "cell_id": "00028-3dad65c2-fcfb-4d5d-b7e8-933b54fc2a95",
    "deepnote_to_be_reexecuted": false,
    "source_hash": "7675c93e",
    "execution_start": 1641545901636,
    "execution_millis": 685139745,
    "deepnote_cell_type": "code"
   },
   "source": "#print(\"The best parameters are %s with a score of %0.2f\" % (gridsearch.best_params_, gridsearch.best_score_))",
   "execution_count": 39,
   "outputs": []
  },
  {
   "cell_type": "code",
   "metadata": {
    "tags": [],
    "cell_id": "00029-e680b2d0-4927-44c3-8df9-62a9f303416d",
    "deepnote_to_be_reexecuted": false,
    "source_hash": "6a74f05e",
    "execution_start": 1641545901688,
    "execution_millis": 427,
    "deepnote_cell_type": "code"
   },
   "source": "model_enet2 = ElasticNet(alpha=1.0, l1_ratio=1.0)\n\nmodel_enet2.fit(X_train, y_train)\ncv_score = cross_val_score(model_enet2, X_train, y_train, cv=5)\nmean_cv = np.mean(cross_val_score(model_enet2, X_train, y_train, cv=5))\ntraining_score = model_enet2.score(X_train, y_train)\ntest_score = model_enet2.score(X_test, y_test)\n\nprint(\"Training Score: \", training_score)\nprint(\"Cross validation scores: \", cv_score)\nprint(\"Your Mean CV Score: \", mean_cv)\nprint(\"Test Score: \", test_score)",
   "execution_count": 40,
   "outputs": [
    {
     "name": "stdout",
     "text": "Training Score:  0.0\nCross validation scores:  [-5.35723728e-04 -1.57781988e-03 -2.05769692e-04 -2.19798446e-09\n -7.09989889e-06]\nYour Mean CV Score:  -0.00046528307848570094\nTest Score:  -0.0008550870413079892\n",
     "output_type": "stream",
     "data": {}
    }
   ]
  },
  {
   "cell_type": "code",
   "metadata": {
    "tags": [],
    "cell_id": "00030-8f30dc51-b2af-4a3a-a2e5-42e579251bc4",
    "deepnote_to_be_reexecuted": false,
    "source_hash": "f4a43611",
    "execution_start": 1641545902063,
    "execution_millis": 53,
    "deepnote_cell_type": "code"
   },
   "source": "y_pred = model_enet2.predict(X_test)\n\nmodel_enet_mae = mean_absolute_error(y_test, y_pred)\nprint(model_enet_mae)",
   "execution_count": 41,
   "outputs": [
    {
     "name": "stdout",
     "text": "0.5192142178821906\n",
     "output_type": "stream",
     "data": {}
    }
   ]
  },
  {
   "cell_type": "markdown",
   "source": "## Model 3 - Bayesian Ridge Regression",
   "metadata": {
    "tags": [],
    "is_collapsed": false,
    "cell_id": "00030-1768bb8f-046f-4f6f-8317-a0f1a7aba0a9",
    "deepnote_cell_type": "text-cell-h2"
   }
  },
  {
   "cell_type": "code",
   "metadata": {
    "tags": [],
    "cell_id": "00031-27fbaaf9-0d08-4892-9f27-6fe47a2f3502",
    "deepnote_to_be_reexecuted": false,
    "source_hash": "94dcb477",
    "execution_start": 1641545902118,
    "execution_millis": 14,
    "deepnote_cell_type": "code"
   },
   "source": "from sklearn import linear_model\n\nbayreg = linear_model.BayesianRidge()",
   "execution_count": 42,
   "outputs": []
  },
  {
   "cell_type": "code",
   "metadata": {
    "tags": [],
    "cell_id": "00032-b1c08c63-22de-4f33-8fa4-a5f4598e9b84",
    "deepnote_to_be_reexecuted": false,
    "source_hash": "7ae39f0b",
    "execution_start": 1641545902152,
    "execution_millis": 1450,
    "deepnote_cell_type": "code"
   },
   "source": "bayreg.fit(X_train, y_train)\ncv_score = cross_val_score(bayreg, X_train, y_train, cv=5)\nmean_cv = np.mean(cross_val_score(bayreg, X_train, y_train, cv=5))\ntraining_score = bayreg.score(X_train, y_train)\ntest_score = bayreg.score(X_test, y_test)\n\nprint(\"Training Score: \", training_score)\nprint(\"Cross validation scores: \", cv_score)\nprint(\"Your Mean CV Score: \", mean_cv)\nprint(\"Test Score: \", test_score)",
   "execution_count": 43,
   "outputs": [
    {
     "name": "stdout",
     "text": "Training Score:  0.25661063194381073\nCross validation scores:  [0.20854273 0.26685244 0.23414098 0.28628114 0.23513304]\nYour Mean CV Score:  0.24619006588013043\nTest Score:  0.25441613229687143\n",
     "output_type": "stream",
     "data": {}
    }
   ]
  },
  {
   "cell_type": "code",
   "metadata": {
    "tags": [],
    "cell_id": "00033-ea26382b-0c66-43fb-bd59-06f05e8acc7b",
    "deepnote_to_be_reexecuted": false,
    "source_hash": "d1580779",
    "execution_start": 1641545903616,
    "execution_millis": 45,
    "deepnote_output_heights": [
     21.1875
    ],
    "deepnote_cell_type": "code"
   },
   "source": "bayreg.get_params().keys()",
   "execution_count": 44,
   "outputs": [
    {
     "output_type": "execute_result",
     "execution_count": 44,
     "data": {
      "text/plain": "dict_keys(['alpha_1', 'alpha_2', 'alpha_init', 'compute_score', 'copy_X', 'fit_intercept', 'lambda_1', 'lambda_2', 'lambda_init', 'n_iter', 'normalize', 'tol', 'verbose'])"
     },
     "metadata": {}
    }
   ]
  },
  {
   "cell_type": "code",
   "metadata": {
    "tags": [],
    "cell_id": "00034-552f74e7-5f6c-473c-923f-c33b86e8bd8b",
    "deepnote_to_be_reexecuted": false,
    "source_hash": "c76b8508",
    "execution_start": 1641545903681,
    "execution_millis": 30,
    "deepnote_cell_type": "code"
   },
   "source": "# fill the dictionary of parameters\ngs_params = {'alpha_1': np.linspace(0, 1, 20), 'alpha_2': np.linspace(0, 1, 20), 'lambda_1': np.linspace(0, 1, 20), 'lambda_2': np.linspace(0, 1, 20)}\n\ngridsearch = GridSearchCV(bayreg, gs_params, n_jobs=-1, cv=5, verbose=2)",
   "execution_count": 45,
   "outputs": []
  },
  {
   "cell_type": "code",
   "metadata": {
    "tags": [],
    "cell_id": "00035-d84cd5d3-ff83-42f8-ad12-444a29300a0b",
    "deepnote_to_be_reexecuted": false,
    "source_hash": "89317615",
    "execution_start": 1641545903715,
    "execution_millis": 33,
    "deepnote_output_heights": [
     null,
     270.625
    ],
    "deepnote_cell_type": "code"
   },
   "source": "#gridsearch.fit(X_train, y_train)",
   "execution_count": 46,
   "outputs": []
  },
  {
   "cell_type": "markdown",
   "source": "https://scikit-learn.org/stable/modules/linear_model.html#orthogonal-matching-pursuit-omp",
   "metadata": {
    "tags": [],
    "cell_id": "00036-805a7b8e-cac6-45f2-a353-fe49bbaaf13f",
    "deepnote_cell_type": "markdown"
   }
  },
  {
   "cell_type": "code",
   "metadata": {
    "tags": [],
    "cell_id": "00037-545a622f-436d-4cf2-9e36-1756e45cbe2f",
    "deepnote_to_be_reexecuted": false,
    "source_hash": "70787c49",
    "execution_start": 1641545903807,
    "execution_millis": 685140533,
    "deepnote_output_heights": [
     21.1875
    ],
    "deepnote_cell_type": "code"
   },
   "source": "y_pred = bayreg.predict(X_test)\n\nbayreg_mae = mean_absolute_error(y_test, y_pred)",
   "execution_count": 47,
   "outputs": []
  },
  {
   "cell_type": "code",
   "metadata": {
    "tags": [],
    "cell_id": "00038-bf180545-968b-4c53-960d-ad17038fe60f",
    "deepnote_to_be_reexecuted": false,
    "source_hash": "a306b2b4",
    "execution_start": 1641545903848,
    "execution_millis": 685140487,
    "deepnote_cell_type": "code"
   },
   "source": "print(bayreg_mae)",
   "execution_count": 48,
   "outputs": [
    {
     "name": "stdout",
     "text": "0.4362423408341359\n",
     "output_type": "stream",
     "data": {}
    }
   ]
  },
  {
   "cell_type": "markdown",
   "source": "## Model 4 - Passive Aggressive Regressor",
   "metadata": {
    "tags": [],
    "is_collapsed": false,
    "cell_id": "00037-ea3d0dbd-0bf7-4ef2-9369-13e442740b5f",
    "deepnote_cell_type": "text-cell-h2"
   }
  },
  {
   "cell_type": "code",
   "metadata": {
    "tags": [],
    "cell_id": "00038-466e8ffc-abb4-4b90-bcb9-7bd2eda284aa",
    "deepnote_to_be_reexecuted": false,
    "source_hash": "eb3d14ed",
    "execution_start": 1641545903849,
    "execution_millis": 685140483,
    "deepnote_cell_type": "code"
   },
   "source": "from sklearn.linear_model import PassiveAggressiveRegressor",
   "execution_count": 49,
   "outputs": []
  },
  {
   "cell_type": "code",
   "metadata": {
    "tags": [],
    "cell_id": "00039-e5e4c74a-2b75-4d72-9087-3e6b16b6fe55",
    "deepnote_to_be_reexecuted": false,
    "source_hash": "3b74fdfe",
    "execution_start": 1641545903892,
    "execution_millis": 44,
    "deepnote_output_heights": [
     21.1875
    ],
    "deepnote_cell_type": "code"
   },
   "source": "pass_regr = PassiveAggressiveRegressor(max_iter=1000, random_state=0, tol=1e-7, C=1.0)\npass_regr.fit(X_train, y_train)\n",
   "execution_count": 50,
   "outputs": [
    {
     "output_type": "execute_result",
     "execution_count": 50,
     "data": {
      "text/plain": "PassiveAggressiveRegressor(random_state=0, tol=1e-07)"
     },
     "metadata": {}
    }
   ]
  },
  {
   "cell_type": "code",
   "metadata": {
    "tags": [],
    "cell_id": "00040-cb2a0c01-f4e3-4f9a-bd56-d037681f1bb0",
    "deepnote_to_be_reexecuted": false,
    "source_hash": "e840a321",
    "execution_start": 1641545903942,
    "execution_millis": 18,
    "deepnote_cell_type": "code"
   },
   "source": "print(pass_regr.coef_)",
   "execution_count": 51,
   "outputs": [
    {
     "name": "stdout",
     "text": "[ 0.0339331  -0.06153744 -0.14233789 -0.0254519   0.27181848  0.25362278\n  0.04802778  0.          0.25957646  0.64333046  0.35857168  0.30645816\n  0.28206418  0.80130893  1.04869202  0.55144714  0.57435747  0.72419635\n  0.27063354  0.28103513  0.32230317  0.62628604  0.34974307  0.30745903\n  0.43465237  0.4384724   0.12359288  0.54582426  1.03804655  0.8119544\n  0.52075089  0.57771096  0.75153909  0.63792079  0.52036165  0.69171852\n  0.58884924  0.64013199  0.62101973  0.29101693  0.07635076  0.22148155\n  0.3725907   0.07913517  0.18840611  0.17419524  0.16909237  0.27773212\n  0.6046888   0.38243255  0.5511745   0.3117051   0.09648938  0.72420901\n  0.49828428  0.53101828 -0.28854454  0.68098945  1.00451827  0.51994081\n  0.34937912 -0.41628217  0.70929793  0.52469208  0.61601095]\n",
     "output_type": "stream",
     "data": {}
    }
   ]
  },
  {
   "cell_type": "code",
   "metadata": {
    "tags": [],
    "cell_id": "00043-3b736bc9-1a07-4459-bae3-009f3313cee7",
    "deepnote_to_be_reexecuted": false,
    "source_hash": "23e1e932",
    "execution_start": 1641545903968,
    "execution_millis": 980,
    "deepnote_cell_type": "code"
   },
   "source": "cv_score = cross_val_score(pass_regr, X_train, y_train, cv=5)\nmean_cv = np.mean(cross_val_score(pass_regr, X_train, y_train, cv=5))\ntraining_score = pass_regr.score(X_train, y_train)\ntest_score = pass_regr.score(X_test, y_test)\n\nprint(\"Training Score: \", training_score)\nprint(\"Cross validation scores: \", cv_score)\nprint(\"Your Mean CV Score: \", mean_cv)\nprint(\"Test Score: \", test_score)",
   "execution_count": 52,
   "outputs": [
    {
     "name": "stdout",
     "text": "Training Score:  -0.2748023486220905\nCross validation scores:  [-0.95855966 -0.72840657 -0.28424303 -0.12235568 -0.63786263]\nYour Mean CV Score:  -0.5462855134323639\nTest Score:  -0.30182962892711473\n",
     "output_type": "stream",
     "data": {}
    }
   ]
  },
  {
   "cell_type": "code",
   "metadata": {
    "tags": [],
    "cell_id": "00043-4c6a24d3-4059-4f3f-b7e8-69e877273e28",
    "deepnote_to_be_reexecuted": false,
    "source_hash": "af404c1f",
    "execution_start": 1641545904952,
    "execution_millis": 21,
    "deepnote_output_heights": [
     21.1875
    ],
    "deepnote_cell_type": "code"
   },
   "source": "y_pred = pass_regr.predict(X_test)\n\npassreg_mae = mean_absolute_error(y_test, y_pred)\nprint(passreg_mae)",
   "execution_count": 53,
   "outputs": [
    {
     "name": "stdout",
     "text": "0.5992840942582809\n",
     "output_type": "stream",
     "data": {}
    }
   ]
  },
  {
   "cell_type": "markdown",
   "source": "## Model 5 - Huber Regressor",
   "metadata": {
    "tags": [],
    "is_collapsed": false,
    "cell_id": "00047-11f727c2-d3ce-4b29-b5b2-dd6cb1067ea2",
    "deepnote_cell_type": "text-cell-h2"
   }
  },
  {
   "cell_type": "code",
   "metadata": {
    "tags": [],
    "cell_id": "00048-c21f6016-1425-4412-b2be-36171c3775d1",
    "deepnote_to_be_reexecuted": false,
    "source_hash": "cc4f292",
    "execution_start": 1641545905033,
    "execution_millis": 0,
    "deepnote_cell_type": "code"
   },
   "source": "from sklearn.linear_model import HuberRegressor",
   "execution_count": 54,
   "outputs": []
  },
  {
   "cell_type": "code",
   "metadata": {
    "tags": [],
    "cell_id": "00049-45fa132d-c557-4d02-b3ba-6a94692f5c50",
    "deepnote_to_be_reexecuted": false,
    "source_hash": "b61e33c5",
    "execution_start": 1641545905033,
    "execution_millis": 42,
    "deepnote_cell_type": "code"
   },
   "source": "# Huber works very well with Outliers. This is the leading model - provide more context to Huber.",
   "execution_count": 55,
   "outputs": []
  },
  {
   "cell_type": "code",
   "metadata": {
    "tags": [],
    "cell_id": "00050-3470f542-9b9a-49b9-b8af-ec5eb2e74f71",
    "deepnote_to_be_reexecuted": false,
    "source_hash": "4fbf8d9c",
    "execution_start": 1641545905076,
    "execution_millis": 857,
    "deepnote_cell_type": "code"
   },
   "source": "huber = HuberRegressor().fit(X_train, y_train)\n\ny_pred = huber.predict(X_test)\n\nhuber_mae = mean_absolute_error(y_test, y_pred)\nprint(huber_mae)",
   "execution_count": 56,
   "outputs": [
    {
     "name": "stdout",
     "text": "0.42252324390582285\n",
     "output_type": "stream",
     "data": {}
    }
   ]
  },
  {
   "cell_type": "code",
   "metadata": {
    "tags": [],
    "cell_id": "00059-6983fba8-9e73-4703-ac0f-2201d878735c",
    "deepnote_to_be_reexecuted": false,
    "source_hash": "6695c145",
    "execution_start": 1641545905950,
    "execution_millis": 5798,
    "deepnote_cell_type": "code"
   },
   "source": "cv_score = cross_val_score(huber, X_train, y_train, cv=5)\nmean_cv = np.mean(cross_val_score(huber, X_train, y_train, cv=5))\ntraining_score = huber.score(X_train, y_train)\ntest_score = huber.score(X_test, y_test)\n\nprint(\"Training Score: \", training_score)\nprint(\"Cross validation scores: \", cv_score)\nprint(\"Your Mean CV Score: \", mean_cv)\nprint(\"Test Score: \", test_score)",
   "execution_count": 57,
   "outputs": [
    {
     "name": "stdout",
     "text": "Training Score:  0.20266153861729475\nCross validation scores:  [0.13854794 0.22874211 0.17830805 0.24179743 0.18824151]\nYour Mean CV Score:  0.19512740865098574\nTest Score:  0.20932819962610005\n",
     "output_type": "stream",
     "data": {}
    }
   ]
  },
  {
   "cell_type": "markdown",
   "source": "## Model 6 - Random Sample Consensus Regressor",
   "metadata": {
    "tags": [],
    "is_collapsed": false,
    "cell_id": "00051-43df967c-b14c-4ca0-a359-367d36b85391",
    "deepnote_cell_type": "text-cell-h2"
   }
  },
  {
   "cell_type": "code",
   "metadata": {
    "tags": [],
    "cell_id": "00052-e4d2f254-6537-4880-a972-4059490e9478",
    "deepnote_to_be_reexecuted": false,
    "source_hash": "b0d42b52",
    "execution_start": 1641545911726,
    "execution_millis": 16,
    "deepnote_cell_type": "code"
   },
   "source": "from sklearn.linear_model import RANSACRegressor",
   "execution_count": 58,
   "outputs": []
  },
  {
   "cell_type": "markdown",
   "source": "https://scikit-learn.org/stable/modules/generated/sklearn.linear_model.RANSACRegressor.html#sklearn.linear_model.RANSACRegressor",
   "metadata": {
    "tags": [],
    "cell_id": "00053-f085a775-8fcb-4098-aeb2-67c91809ac52",
    "deepnote_cell_type": "markdown"
   }
  },
  {
   "cell_type": "code",
   "metadata": {
    "tags": [],
    "cell_id": "00053-942f5c22-7faa-4733-81cf-ab2992778a35",
    "deepnote_to_be_reexecuted": false,
    "source_hash": "61cee48e",
    "execution_start": 1641545911753,
    "execution_millis": 15995,
    "deepnote_cell_type": "code"
   },
   "source": "ransac_reg = RANSACRegressor(random_state=0, max_trials=1100).fit(X_train, y_train)\n\ny_pred = ransac_reg.predict(X_test)\n\nransac_mae = mean_absolute_error(y_test, y_pred)\nprint(ransac_mae)",
   "execution_count": 59,
   "outputs": [
    {
     "name": "stdout",
     "text": "0.5164874737138411\n",
     "output_type": "stream",
     "data": {}
    }
   ]
  },
  {
   "cell_type": "markdown",
   "source": "## Model 7 - SGD Regressor",
   "metadata": {
    "tags": [],
    "is_collapsed": false,
    "cell_id": "00055-26a16005-05d4-4bde-8fdb-98f81c126cee",
    "deepnote_cell_type": "text-cell-h2"
   }
  },
  {
   "cell_type": "code",
   "metadata": {
    "tags": [],
    "cell_id": "00056-3a7038dd-5557-4834-9992-1ce5ac675e55",
    "deepnote_to_be_reexecuted": false,
    "source_hash": "636fff7d",
    "execution_start": 1641545927760,
    "execution_millis": 22,
    "deepnote_cell_type": "code"
   },
   "source": "from sklearn.linear_model import SGDRegressor",
   "execution_count": 60,
   "outputs": []
  },
  {
   "cell_type": "code",
   "metadata": {
    "tags": [],
    "cell_id": "00057-246101b7-4707-4f11-b470-0b2253752f42",
    "deepnote_to_be_reexecuted": false,
    "source_hash": "670618f8",
    "execution_start": 1641545927802,
    "execution_millis": 22456,
    "deepnote_cell_type": "code"
   },
   "source": "sgd_reg = SGDRegressor(max_iter=3000, tol=None, penalty='elasticnet', l1_ratio=1, learning_rate='invscaling').fit(X_train, y_train)\n\ny_pred = sgd_reg.predict(X_test)\n\nsgd_mae = mean_absolute_error(y_test, y_pred)\nprint(sgd_mae)",
   "execution_count": 61,
   "outputs": [
    {
     "name": "stdout",
     "text": "0.4361169507953584\n",
     "output_type": "stream",
     "data": {}
    }
   ]
  },
  {
   "cell_type": "markdown",
   "source": "## Tensorflow Regressor",
   "metadata": {
    "tags": [],
    "is_collapsed": false,
    "cell_id": "00058-838c7305-20b8-4470-a815-5e9fe7c86084",
    "deepnote_cell_type": "text-cell-h2"
   }
  },
  {
   "cell_type": "code",
   "metadata": {
    "tags": [],
    "cell_id": "00059-81e8a363-900e-4ee5-85b5-7cb0b42507c8",
    "deepnote_to_be_reexecuted": false,
    "source_hash": "cf2557ff",
    "execution_start": 1641545950257,
    "execution_millis": 5278,
    "deepnote_cell_type": "code"
   },
   "source": "import tensorflow as tf\nfrom tensorflow import keras\nfrom tensorflow.keras.layers import Input, Dense\nfrom tensorflow.keras.models import Model",
   "execution_count": 62,
   "outputs": []
  },
  {
   "cell_type": "code",
   "metadata": {
    "tags": [],
    "cell_id": "00060-1d264a85-006c-41a6-9626-7e35a3765bb5",
    "deepnote_to_be_reexecuted": false,
    "source_hash": "1f5d64ed",
    "execution_start": 1641545955544,
    "execution_millis": 22,
    "deepnote_output_heights": [
     21.1875
    ],
    "deepnote_cell_type": "code"
   },
   "source": "X_train[2].shape",
   "execution_count": 63,
   "outputs": [
    {
     "output_type": "execute_result",
     "execution_count": 63,
     "data": {
      "text/plain": "(65,)"
     },
     "metadata": {}
    }
   ]
  },
  {
   "cell_type": "code",
   "metadata": {
    "tags": [],
    "cell_id": "00060-70f4d72d-b71e-43a0-b8ed-906b8f667751",
    "deepnote_to_be_reexecuted": false,
    "source_hash": "f296355a",
    "execution_start": 1641545955574,
    "execution_millis": 158,
    "deepnote_cell_type": "code"
   },
   "source": "input_layer = Input(shape=(66,))\nx1 = Dense(500, activation='linear')(input_layer)\nx2 = Dense(500, activation='linear')(x1)\noutput = Dense(1, activation='linear')(x2)\n\nregr_tf = Model(inputs=input_layer, outputs=output)",
   "execution_count": 64,
   "outputs": []
  },
  {
   "cell_type": "code",
   "metadata": {
    "tags": [],
    "cell_id": "00062-7eaae06d-2205-4e62-84b7-1c594335b431",
    "deepnote_to_be_reexecuted": false,
    "source_hash": "b3cc3cc",
    "execution_start": 1641545955744,
    "execution_millis": 95,
    "deepnote_cell_type": "code"
   },
   "source": "# Trying different model topologies to see which achieves better results\n\ninput_layer = Input(shape=(65,))\nx1 = Dense(1000, activation='linear')(input_layer)\nx2 = Dense(1000, activation='linear')(x1)\nx3 = Dense(1000, activation='linear')(x2)\noutput = Dense(1, activation='linear')(x3)\n\nregr_tf = Model(inputs=input_layer, outputs=output)",
   "execution_count": 65,
   "outputs": []
  },
  {
   "cell_type": "code",
   "metadata": {
    "tags": [],
    "cell_id": "00063-58e8e11a-6b47-4c37-ac99-a82d29823589",
    "deepnote_to_be_reexecuted": false,
    "source_hash": "4b7447ab",
    "execution_start": 1641545955844,
    "execution_millis": 10,
    "deepnote_cell_type": "code"
   },
   "source": "# Worth trying reduce_lr_on_plateau callback as well\n\nopt = tf.keras.optimizers.Adam(learning_rate=0.0001)",
   "execution_count": 66,
   "outputs": []
  },
  {
   "cell_type": "code",
   "metadata": {
    "tags": [],
    "cell_id": "00062-4cd4547e-7cb3-48e4-92fc-6ace78cad8c2",
    "deepnote_to_be_reexecuted": false,
    "source_hash": "481f1e54",
    "execution_start": 1641545955871,
    "execution_millis": 46,
    "deepnote_cell_type": "code"
   },
   "source": "regr_tf.compile(optimizer=opt, loss='mse', metrics=[tf.keras.metrics.MeanAbsoluteError()])",
   "execution_count": 67,
   "outputs": []
  },
  {
   "cell_type": "code",
   "metadata": {
    "tags": [],
    "cell_id": "00063-106be957-9157-46a7-9c0a-18cd9fba4276",
    "deepnote_to_be_reexecuted": false,
    "source_hash": "45a0457",
    "execution_start": 1641545955924,
    "execution_millis": 10,
    "deepnote_output_heights": [
     null,
     21.1875
    ],
    "deepnote_cell_type": "code"
   },
   "source": "#regr_tf.fit(X_train, y_train, epochs=100, batch_size=10, validation_data=(X_test, y_test))",
   "execution_count": 68,
   "outputs": []
  },
  {
   "cell_type": "markdown",
   "source": "## Decision Tree Regressor",
   "metadata": {
    "tags": [],
    "is_collapsed": false,
    "cell_id": "00075-01d4c853-0b85-407d-82e5-51bf8a3e8ae3",
    "deepnote_cell_type": "text-cell-h2"
   }
  },
  {
   "cell_type": "code",
   "metadata": {
    "tags": [],
    "cell_id": "00076-b79d154a-87da-4ed5-8c17-103271193fbc",
    "deepnote_to_be_reexecuted": false,
    "source_hash": "5279e593",
    "execution_start": 1641545955942,
    "execution_millis": 125,
    "deepnote_cell_type": "code"
   },
   "source": "from sklearn import tree",
   "execution_count": 69,
   "outputs": []
  },
  {
   "cell_type": "code",
   "metadata": {
    "tags": [],
    "cell_id": "00077-6705aa04-7db5-42b6-bcb6-d7c519eefaf3",
    "deepnote_to_be_reexecuted": false,
    "source_hash": "8638b485",
    "execution_start": 1641545956074,
    "execution_millis": 101,
    "deepnote_cell_type": "code"
   },
   "source": "clf = tree.DecisionTreeRegressor(max_depth=9)\nclf = clf.fit(X_train, y_train)",
   "execution_count": 70,
   "outputs": []
  },
  {
   "cell_type": "code",
   "metadata": {
    "tags": [],
    "cell_id": "00078-bc0c1e69-2d34-4345-a958-2f31e2a42262",
    "deepnote_to_be_reexecuted": false,
    "source_hash": "a356aeea",
    "execution_start": 1641545956181,
    "execution_millis": 20,
    "deepnote_output_heights": [
     21.1875
    ],
    "deepnote_cell_type": "code"
   },
   "source": "clf.score(X_test, y_test)",
   "execution_count": 71,
   "outputs": [
    {
     "output_type": "execute_result",
     "execution_count": 71,
     "data": {
      "text/plain": "0.8800781163182761"
     },
     "metadata": {}
    }
   ]
  },
  {
   "cell_type": "code",
   "metadata": {
    "tags": [],
    "cell_id": "00079-2c3f233d-4561-4141-8e8c-61b7318f74c4",
    "deepnote_to_be_reexecuted": false,
    "source_hash": "b0d6acc1",
    "execution_start": 1641545956204,
    "execution_millis": 13,
    "deepnote_cell_type": "code"
   },
   "source": "dtree_preds = clf.predict(X_test)",
   "execution_count": 72,
   "outputs": []
  },
  {
   "cell_type": "code",
   "metadata": {
    "tags": [],
    "cell_id": "00079-74947042-6a44-45d9-a780-e6fd24c4cad2",
    "deepnote_to_be_reexecuted": false,
    "source_hash": "2ffe9586",
    "execution_start": 1641545956233,
    "execution_millis": 13,
    "deepnote_cell_type": "code"
   },
   "source": "dtree_mae = mean_absolute_error(y_test, dtree_preds)\nprint(dtree_mae)",
   "execution_count": 73,
   "outputs": [
    {
     "name": "stdout",
     "text": "0.1326570536058522\n",
     "output_type": "stream",
     "data": {}
    }
   ]
  },
  {
   "cell_type": "markdown",
   "source": "## Catboost",
   "metadata": {
    "tags": [],
    "is_collapsed": false,
    "cell_id": "00081-5085c9bc-2620-4798-9e2d-2fb9330e7aa5",
    "deepnote_cell_type": "text-cell-h2"
   }
  },
  {
   "cell_type": "code",
   "metadata": {
    "tags": [],
    "cell_id": "00082-1fabcba8-4b69-408a-9acd-6844e9859c26",
    "deepnote_to_be_reexecuted": false,
    "source_hash": "6d692205",
    "execution_start": 1641545956257,
    "execution_millis": 39,
    "deepnote_cell_type": "code"
   },
   "source": "from catboost import CatBoostRegressor\ncat_boost = CatBoostRegressor(iterations = 100,\n            learning_rate = 0.05,\n            eval_metric = \"R2\",\n            verbose = True)",
   "execution_count": 74,
   "outputs": []
  },
  {
   "cell_type": "code",
   "metadata": {
    "tags": [],
    "cell_id": "00083-66ef16c7-e36c-4204-a55e-975d782cd04f",
    "deepnote_to_be_reexecuted": false,
    "source_hash": "b0098e5",
    "execution_start": 1641545956303,
    "execution_millis": 1335,
    "deepnote_output_heights": [
     null,
     21.1875
    ],
    "deepnote_cell_type": "code"
   },
   "source": "cat_boost.fit(X_train,y_train)",
   "execution_count": 75,
   "outputs": [
    {
     "name": "stdout",
     "text": "0:\tlearn: 0.0822082\ttotal: 73.7ms\tremaining: 7.29s\n1:\tlearn: 0.1484190\ttotal: 82.2ms\tremaining: 4.03s\n2:\tlearn: 0.2099129\ttotal: 89.9ms\tremaining: 2.91s\n3:\tlearn: 0.2651757\ttotal: 106ms\tremaining: 2.55s\n4:\tlearn: 0.3183291\ttotal: 118ms\tremaining: 2.25s\n5:\tlearn: 0.3665863\ttotal: 130ms\tremaining: 2.04s\n6:\tlearn: 0.4111612\ttotal: 151ms\tremaining: 2.01s\n7:\tlearn: 0.4530988\ttotal: 168ms\tremaining: 1.93s\n8:\tlearn: 0.4899552\ttotal: 179ms\tremaining: 1.81s\n9:\tlearn: 0.5239271\ttotal: 208ms\tremaining: 1.87s\n10:\tlearn: 0.5558757\ttotal: 231ms\tremaining: 1.86s\n11:\tlearn: 0.5862084\ttotal: 251ms\tremaining: 1.84s\n12:\tlearn: 0.6127278\ttotal: 277ms\tremaining: 1.85s\n13:\tlearn: 0.6376955\ttotal: 287ms\tremaining: 1.76s\n14:\tlearn: 0.6570363\ttotal: 301ms\tremaining: 1.71s\n15:\tlearn: 0.6771775\ttotal: 315ms\tremaining: 1.65s\n16:\tlearn: 0.6958797\ttotal: 320ms\tremaining: 1.56s\n17:\tlearn: 0.7132368\ttotal: 337ms\tremaining: 1.53s\n18:\tlearn: 0.7276992\ttotal: 344ms\tremaining: 1.47s\n19:\tlearn: 0.7400074\ttotal: 360ms\tremaining: 1.44s\n20:\tlearn: 0.7519099\ttotal: 370ms\tremaining: 1.39s\n21:\tlearn: 0.7634975\ttotal: 383ms\tremaining: 1.36s\n22:\tlearn: 0.7743334\ttotal: 390ms\tremaining: 1.31s\n23:\tlearn: 0.7829937\ttotal: 405ms\tremaining: 1.28s\n24:\tlearn: 0.7918657\ttotal: 413ms\tremaining: 1.24s\n25:\tlearn: 0.7999268\ttotal: 422ms\tremaining: 1.2s\n26:\tlearn: 0.8063167\ttotal: 433ms\tremaining: 1.17s\n27:\tlearn: 0.8121949\ttotal: 443ms\tremaining: 1.14s\n28:\tlearn: 0.8182828\ttotal: 452ms\tremaining: 1.11s\n29:\tlearn: 0.8233259\ttotal: 462ms\tremaining: 1.08s\n30:\tlearn: 0.8287201\ttotal: 474ms\tremaining: 1.05s\n31:\tlearn: 0.8333076\ttotal: 483ms\tremaining: 1.03s\n32:\tlearn: 0.8373866\ttotal: 501ms\tremaining: 1.02s\n33:\tlearn: 0.8409149\ttotal: 512ms\tremaining: 995ms\n34:\tlearn: 0.8443542\ttotal: 522ms\tremaining: 969ms\n35:\tlearn: 0.8478860\ttotal: 533ms\tremaining: 948ms\n36:\tlearn: 0.8511119\ttotal: 543ms\tremaining: 924ms\n37:\tlearn: 0.8539608\ttotal: 551ms\tremaining: 899ms\n38:\tlearn: 0.8562993\ttotal: 560ms\tremaining: 876ms\n39:\tlearn: 0.8586933\ttotal: 566ms\tremaining: 848ms\n40:\tlearn: 0.8606037\ttotal: 578ms\tremaining: 832ms\n41:\tlearn: 0.8627091\ttotal: 583ms\tremaining: 805ms\n42:\tlearn: 0.8649896\ttotal: 596ms\tremaining: 790ms\n43:\tlearn: 0.8669352\ttotal: 603ms\tremaining: 767ms\n44:\tlearn: 0.8686791\ttotal: 617ms\tremaining: 754ms\n45:\tlearn: 0.8699777\ttotal: 626ms\tremaining: 735ms\n46:\tlearn: 0.8718074\ttotal: 636ms\tremaining: 717ms\n47:\tlearn: 0.8732782\ttotal: 645ms\tremaining: 699ms\n48:\tlearn: 0.8748808\ttotal: 654ms\tremaining: 681ms\n49:\tlearn: 0.8763577\ttotal: 660ms\tremaining: 660ms\n50:\tlearn: 0.8774832\ttotal: 676ms\tremaining: 649ms\n51:\tlearn: 0.8788613\ttotal: 688ms\tremaining: 635ms\n52:\tlearn: 0.8796930\ttotal: 696ms\tremaining: 617ms\n53:\tlearn: 0.8805209\ttotal: 716ms\tremaining: 610ms\n54:\tlearn: 0.8813278\ttotal: 725ms\tremaining: 593ms\n55:\tlearn: 0.8821720\ttotal: 735ms\tremaining: 578ms\n56:\tlearn: 0.8829000\ttotal: 744ms\tremaining: 561ms\n57:\tlearn: 0.8838269\ttotal: 752ms\tremaining: 544ms\n58:\tlearn: 0.8844365\ttotal: 764ms\tremaining: 531ms\n59:\tlearn: 0.8849160\ttotal: 776ms\tremaining: 517ms\n60:\tlearn: 0.8853998\ttotal: 793ms\tremaining: 507ms\n61:\tlearn: 0.8858888\ttotal: 803ms\tremaining: 492ms\n62:\tlearn: 0.8864820\ttotal: 809ms\tremaining: 475ms\n63:\tlearn: 0.8871142\ttotal: 822ms\tremaining: 462ms\n64:\tlearn: 0.8876305\ttotal: 835ms\tremaining: 450ms\n65:\tlearn: 0.8880943\ttotal: 843ms\tremaining: 434ms\n66:\tlearn: 0.8884967\ttotal: 854ms\tremaining: 421ms\n67:\tlearn: 0.8892183\ttotal: 860ms\tremaining: 405ms\n68:\tlearn: 0.8895368\ttotal: 877ms\tremaining: 394ms\n69:\tlearn: 0.8899856\ttotal: 883ms\tremaining: 378ms\n70:\tlearn: 0.8903431\ttotal: 894ms\tremaining: 365ms\n71:\tlearn: 0.8907349\ttotal: 906ms\tremaining: 352ms\n72:\tlearn: 0.8910719\ttotal: 916ms\tremaining: 339ms\n73:\tlearn: 0.8912169\ttotal: 920ms\tremaining: 323ms\n74:\tlearn: 0.8916099\ttotal: 925ms\tremaining: 308ms\n75:\tlearn: 0.8919337\ttotal: 938ms\tremaining: 296ms\n76:\tlearn: 0.8922022\ttotal: 943ms\tremaining: 282ms\n77:\tlearn: 0.8925967\ttotal: 957ms\tremaining: 270ms\n78:\tlearn: 0.8929045\ttotal: 965ms\tremaining: 257ms\n79:\tlearn: 0.8932264\ttotal: 974ms\tremaining: 244ms\n80:\tlearn: 0.8937290\ttotal: 982ms\tremaining: 230ms\n81:\tlearn: 0.8939588\ttotal: 990ms\tremaining: 217ms\n82:\tlearn: 0.8941747\ttotal: 998ms\tremaining: 204ms\n83:\tlearn: 0.8944902\ttotal: 1.01s\tremaining: 192ms\n84:\tlearn: 0.8947457\ttotal: 1.02s\tremaining: 179ms\n85:\tlearn: 0.8950468\ttotal: 1.02s\tremaining: 167ms\n86:\tlearn: 0.8952876\ttotal: 1.03s\tremaining: 154ms\n87:\tlearn: 0.8955442\ttotal: 1.04s\tremaining: 142ms\n88:\tlearn: 0.8958095\ttotal: 1.05s\tremaining: 130ms\n89:\tlearn: 0.8960451\ttotal: 1.06s\tremaining: 118ms\n90:\tlearn: 0.8962871\ttotal: 1.09s\tremaining: 108ms\n91:\tlearn: 0.8966289\ttotal: 1.1s\tremaining: 95.7ms\n92:\tlearn: 0.8968251\ttotal: 1.11s\tremaining: 83.6ms\n93:\tlearn: 0.8970388\ttotal: 1.12s\tremaining: 71.4ms\n94:\tlearn: 0.8972777\ttotal: 1.13s\tremaining: 59.6ms\n95:\tlearn: 0.8976285\ttotal: 1.14s\tremaining: 47.5ms\n96:\tlearn: 0.8978425\ttotal: 1.15s\tremaining: 35.5ms\n97:\tlearn: 0.8980047\ttotal: 1.16s\tremaining: 23.6ms\n98:\tlearn: 0.8981328\ttotal: 1.17s\tremaining: 11.8ms\n99:\tlearn: 0.8983222\ttotal: 1.17s\tremaining: 0us\n",
     "output_type": "stream",
     "data": {}
    },
    {
     "output_type": "execute_result",
     "execution_count": 75,
     "data": {
      "text/plain": "<catboost.core.CatBoostRegressor at 0x7f8e51636b90>"
     },
     "metadata": {}
    }
   ]
  },
  {
   "cell_type": "code",
   "metadata": {
    "tags": [],
    "cell_id": "00084-67eb469d-16e7-4f1e-8bcb-259b316975f9",
    "deepnote_to_be_reexecuted": false,
    "source_hash": "2979c797",
    "execution_start": 1641545957645,
    "execution_millis": 37,
    "deepnote_output_heights": [
     21.1875
    ],
    "deepnote_cell_type": "code"
   },
   "source": "cat_boost.score(X_train, y_train)",
   "execution_count": 76,
   "outputs": [
    {
     "output_type": "execute_result",
     "execution_count": 76,
     "data": {
      "text/plain": "0.8983222489491496"
     },
     "metadata": {}
    }
   ]
  },
  {
   "cell_type": "code",
   "metadata": {
    "tags": [],
    "cell_id": "00085-45fe6b31-1c5e-4bd8-9209-9ec80f2b0afd",
    "deepnote_to_be_reexecuted": false,
    "source_hash": "90571e6b",
    "execution_start": 1641545957697,
    "execution_millis": 49,
    "deepnote_output_heights": [
     21.1875
    ],
    "deepnote_cell_type": "code"
   },
   "source": "cat_boost.score(X_test, y_test)",
   "execution_count": 77,
   "outputs": [
    {
     "output_type": "execute_result",
     "execution_count": 77,
     "data": {
      "text/plain": "0.8918652087047896"
     },
     "metadata": {}
    }
   ]
  },
  {
   "cell_type": "code",
   "metadata": {
    "tags": [],
    "cell_id": "00086-c38de411-9c73-440a-abe4-d80e091c6cd9",
    "deepnote_to_be_reexecuted": false,
    "source_hash": "f424e82e",
    "execution_start": 1641545957757,
    "execution_millis": 28,
    "deepnote_cell_type": "code"
   },
   "source": "cat_boost_preds = cat_boost.predict(X_test)\n\ncat_boost_mae = mean_absolute_error(y_test, cat_boost_preds)\nprint(cat_boost_mae)",
   "execution_count": 78,
   "outputs": [
    {
     "name": "stdout",
     "text": "0.13070163018611394\n",
     "output_type": "stream",
     "data": {}
    }
   ]
  },
  {
   "cell_type": "markdown",
   "source": "## Model Analysis",
   "metadata": {
    "tags": [],
    "is_collapsed": false,
    "cell_id": "00066-d42550df-27cb-42f1-88c5-6c68cfda43df",
    "deepnote_cell_type": "text-cell-h2"
   }
  },
  {
   "cell_type": "code",
   "metadata": {
    "tags": [],
    "cell_id": "00067-d628c559-ebd5-480d-ba11-844d8be1cca9",
    "deepnote_to_be_reexecuted": false,
    "source_hash": "657b1fac",
    "execution_start": 1641545957790,
    "execution_millis": 27,
    "deepnote_cell_type": "code"
   },
   "source": "test_scores = pd.DataFrame({'ols': ols_mae,\n'elasticnet': model_enet_mae,\n'bayesian_reg': bayreg_mae,\n'pass_agg': passreg_mae,\n'huber': huber_mae,\n'ransac' : ransac_mae,\n'sgd' : sgd_mae,\n'decision_tree' : dtree_mae,\n'catboost' : cat_boost_mae},\nindex=['Mean_Absolute_Errors'])",
   "execution_count": 79,
   "outputs": []
  },
  {
   "cell_type": "code",
   "metadata": {
    "tags": [],
    "cell_id": "00068-17b27485-97be-40db-9dd9-9b3470137555",
    "deepnote_to_be_reexecuted": false,
    "source_hash": "c0908902",
    "execution_start": 1641545957826,
    "execution_millis": 216,
    "deepnote_cell_type": "code"
   },
   "source": "test_scores",
   "execution_count": 80,
   "outputs": [
    {
     "output_type": "execute_result",
     "execution_count": 80,
     "data": {
      "application/vnd.deepnote.dataframe.v3+json": {
       "column_count": 9,
       "row_count": 1,
       "columns": [
        {
         "name": "ols",
         "dtype": "float64",
         "stats": {
          "unique_count": 1,
          "nan_count": 0,
          "min": "0.4345503435130889",
          "max": "0.4345503435130889",
          "histogram": [
           {
            "bin_start": -0.06544965648691109,
            "bin_end": 0.034550343513088916,
            "count": 0
           },
           {
            "bin_start": 0.034550343513088916,
            "bin_end": 0.13455034351308892,
            "count": 0
           },
           {
            "bin_start": 0.13455034351308892,
            "bin_end": 0.23455034351308895,
            "count": 0
           },
           {
            "bin_start": 0.23455034351308895,
            "bin_end": 0.33455034351308893,
            "count": 0
           },
           {
            "bin_start": 0.33455034351308893,
            "bin_end": 0.4345503435130889,
            "count": 0
           },
           {
            "bin_start": 0.4345503435130889,
            "bin_end": 0.5345503435130889,
            "count": 1
           },
           {
            "bin_start": 0.5345503435130889,
            "bin_end": 0.634550343513089,
            "count": 0
           },
           {
            "bin_start": 0.634550343513089,
            "bin_end": 0.7345503435130889,
            "count": 0
           },
           {
            "bin_start": 0.7345503435130889,
            "bin_end": 0.834550343513089,
            "count": 0
           },
           {
            "bin_start": 0.834550343513089,
            "bin_end": 0.9345503435130889,
            "count": 0
           }
          ]
         }
        },
        {
         "name": "elasticnet",
         "dtype": "float64",
         "stats": {
          "unique_count": 1,
          "nan_count": 0,
          "min": "0.5192142178821906",
          "max": "0.5192142178821906",
          "histogram": [
           {
            "bin_start": 0.019214217882190576,
            "bin_end": 0.11921421788219058,
            "count": 0
           },
           {
            "bin_start": 0.11921421788219058,
            "bin_end": 0.2192142178821906,
            "count": 0
           },
           {
            "bin_start": 0.2192142178821906,
            "bin_end": 0.3192142178821906,
            "count": 0
           },
           {
            "bin_start": 0.3192142178821906,
            "bin_end": 0.4192142178821906,
            "count": 0
           },
           {
            "bin_start": 0.4192142178821906,
            "bin_end": 0.5192142178821906,
            "count": 0
           },
           {
            "bin_start": 0.5192142178821906,
            "bin_end": 0.6192142178821907,
            "count": 1
           },
           {
            "bin_start": 0.6192142178821907,
            "bin_end": 0.7192142178821906,
            "count": 0
           },
           {
            "bin_start": 0.7192142178821906,
            "bin_end": 0.8192142178821906,
            "count": 0
           },
           {
            "bin_start": 0.8192142178821906,
            "bin_end": 0.9192142178821906,
            "count": 0
           },
           {
            "bin_start": 0.9192142178821906,
            "bin_end": 1.0192142178821906,
            "count": 0
           }
          ]
         }
        },
        {
         "name": "bayesian_reg",
         "dtype": "float64",
         "stats": {
          "unique_count": 1,
          "nan_count": 0,
          "min": "0.4362423408341359",
          "max": "0.4362423408341359",
          "histogram": [
           {
            "bin_start": -0.06375765916586412,
            "bin_end": 0.03624234083413588,
            "count": 0
           },
           {
            "bin_start": 0.03624234083413588,
            "bin_end": 0.1362423408341359,
            "count": 0
           },
           {
            "bin_start": 0.1362423408341359,
            "bin_end": 0.23624234083413592,
            "count": 0
           },
           {
            "bin_start": 0.23624234083413592,
            "bin_end": 0.3362423408341359,
            "count": 0
           },
           {
            "bin_start": 0.3362423408341359,
            "bin_end": 0.4362423408341359,
            "count": 0
           },
           {
            "bin_start": 0.4362423408341359,
            "bin_end": 0.5362423408341359,
            "count": 1
           },
           {
            "bin_start": 0.5362423408341359,
            "bin_end": 0.636242340834136,
            "count": 0
           },
           {
            "bin_start": 0.636242340834136,
            "bin_end": 0.7362423408341359,
            "count": 0
           },
           {
            "bin_start": 0.7362423408341359,
            "bin_end": 0.836242340834136,
            "count": 0
           },
           {
            "bin_start": 0.836242340834136,
            "bin_end": 0.9362423408341358,
            "count": 0
           }
          ]
         }
        },
        {
         "name": "pass_agg",
         "dtype": "float64",
         "stats": {
          "unique_count": 1,
          "nan_count": 0,
          "min": "0.5992840942582809",
          "max": "0.5992840942582809",
          "histogram": [
           {
            "bin_start": 0.09928409425828089,
            "bin_end": 0.1992840942582809,
            "count": 0
           },
           {
            "bin_start": 0.1992840942582809,
            "bin_end": 0.2992840942582809,
            "count": 0
           },
           {
            "bin_start": 0.2992840942582809,
            "bin_end": 0.39928409425828093,
            "count": 0
           },
           {
            "bin_start": 0.39928409425828093,
            "bin_end": 0.4992840942582809,
            "count": 0
           },
           {
            "bin_start": 0.4992840942582809,
            "bin_end": 0.5992840942582809,
            "count": 0
           },
           {
            "bin_start": 0.5992840942582809,
            "bin_end": 0.699284094258281,
            "count": 1
           },
           {
            "bin_start": 0.699284094258281,
            "bin_end": 0.799284094258281,
            "count": 0
           },
           {
            "bin_start": 0.799284094258281,
            "bin_end": 0.8992840942582809,
            "count": 0
           },
           {
            "bin_start": 0.8992840942582809,
            "bin_end": 0.9992840942582809,
            "count": 0
           },
           {
            "bin_start": 0.9992840942582809,
            "bin_end": 1.0992840942582809,
            "count": 0
           }
          ]
         }
        },
        {
         "name": "huber",
         "dtype": "float64",
         "stats": {
          "unique_count": 1,
          "nan_count": 0,
          "min": "0.42252324390582285",
          "max": "0.42252324390582285",
          "histogram": [
           {
            "bin_start": -0.07747675609417715,
            "bin_end": 0.02252324390582286,
            "count": 0
           },
           {
            "bin_start": 0.02252324390582286,
            "bin_end": 0.12252324390582287,
            "count": 0
           },
           {
            "bin_start": 0.12252324390582287,
            "bin_end": 0.2225232439058229,
            "count": 0
           },
           {
            "bin_start": 0.2225232439058229,
            "bin_end": 0.3225232439058229,
            "count": 0
           },
           {
            "bin_start": 0.3225232439058229,
            "bin_end": 0.42252324390582285,
            "count": 0
           },
           {
            "bin_start": 0.42252324390582285,
            "bin_end": 0.5225232439058229,
            "count": 1
           },
           {
            "bin_start": 0.5225232439058229,
            "bin_end": 0.6225232439058229,
            "count": 0
           },
           {
            "bin_start": 0.6225232439058229,
            "bin_end": 0.7225232439058229,
            "count": 0
           },
           {
            "bin_start": 0.7225232439058229,
            "bin_end": 0.8225232439058229,
            "count": 0
           },
           {
            "bin_start": 0.8225232439058229,
            "bin_end": 0.9225232439058229,
            "count": 0
           }
          ]
         }
        },
        {
         "name": "ransac",
         "dtype": "float64",
         "stats": {
          "unique_count": 1,
          "nan_count": 0,
          "min": "0.5164874737138411",
          "max": "0.5164874737138411",
          "histogram": [
           {
            "bin_start": 0.016487473713841072,
            "bin_end": 0.11648747371384108,
            "count": 0
           },
           {
            "bin_start": 0.11648747371384108,
            "bin_end": 0.21648747371384108,
            "count": 0
           },
           {
            "bin_start": 0.21648747371384108,
            "bin_end": 0.3164874737138411,
            "count": 0
           },
           {
            "bin_start": 0.3164874737138411,
            "bin_end": 0.4164874737138411,
            "count": 0
           },
           {
            "bin_start": 0.4164874737138411,
            "bin_end": 0.5164874737138411,
            "count": 0
           },
           {
            "bin_start": 0.5164874737138411,
            "bin_end": 0.6164874737138412,
            "count": 1
           },
           {
            "bin_start": 0.6164874737138412,
            "bin_end": 0.7164874737138411,
            "count": 0
           },
           {
            "bin_start": 0.7164874737138411,
            "bin_end": 0.8164874737138411,
            "count": 0
           },
           {
            "bin_start": 0.8164874737138411,
            "bin_end": 0.9164874737138411,
            "count": 0
           },
           {
            "bin_start": 0.9164874737138411,
            "bin_end": 1.0164874737138412,
            "count": 0
           }
          ]
         }
        },
        {
         "name": "sgd",
         "dtype": "float64",
         "stats": {
          "unique_count": 1,
          "nan_count": 0,
          "min": "0.4361169507953584",
          "max": "0.4361169507953584",
          "histogram": [
           {
            "bin_start": -0.0638830492046416,
            "bin_end": 0.0361169507953584,
            "count": 0
           },
           {
            "bin_start": 0.0361169507953584,
            "bin_end": 0.1361169507953584,
            "count": 0
           },
           {
            "bin_start": 0.1361169507953584,
            "bin_end": 0.23611695079535844,
            "count": 0
           },
           {
            "bin_start": 0.23611695079535844,
            "bin_end": 0.3361169507953584,
            "count": 0
           },
           {
            "bin_start": 0.3361169507953584,
            "bin_end": 0.4361169507953584,
            "count": 0
           },
           {
            "bin_start": 0.4361169507953584,
            "bin_end": 0.5361169507953585,
            "count": 1
           },
           {
            "bin_start": 0.5361169507953585,
            "bin_end": 0.6361169507953585,
            "count": 0
           },
           {
            "bin_start": 0.6361169507953585,
            "bin_end": 0.7361169507953584,
            "count": 0
           },
           {
            "bin_start": 0.7361169507953584,
            "bin_end": 0.8361169507953584,
            "count": 0
           },
           {
            "bin_start": 0.8361169507953584,
            "bin_end": 0.9361169507953584,
            "count": 0
           }
          ]
         }
        },
        {
         "name": "decision_tree",
         "dtype": "float64",
         "stats": {
          "unique_count": 1,
          "nan_count": 0,
          "min": "0.1326570536058522",
          "max": "0.1326570536058522",
          "histogram": [
           {
            "bin_start": -0.3673429463941478,
            "bin_end": -0.2673429463941478,
            "count": 0
           },
           {
            "bin_start": -0.2673429463941478,
            "bin_end": -0.16734294639414776,
            "count": 0
           },
           {
            "bin_start": -0.16734294639414776,
            "bin_end": -0.06734294639414773,
            "count": 0
           },
           {
            "bin_start": -0.06734294639414773,
            "bin_end": 0.03265705360585225,
            "count": 0
           },
           {
            "bin_start": 0.03265705360585225,
            "bin_end": 0.13265705360585223,
            "count": 1
           },
           {
            "bin_start": 0.13265705360585223,
            "bin_end": 0.23265705360585232,
            "count": 0
           },
           {
            "bin_start": 0.23265705360585232,
            "bin_end": 0.3326570536058523,
            "count": 0
           },
           {
            "bin_start": 0.3326570536058523,
            "bin_end": 0.43265705360585227,
            "count": 0
           },
           {
            "bin_start": 0.43265705360585227,
            "bin_end": 0.5326570536058522,
            "count": 0
           },
           {
            "bin_start": 0.5326570536058522,
            "bin_end": 0.6326570536058522,
            "count": 0
           }
          ]
         }
        },
        {
         "name": "catboost",
         "dtype": "float64",
         "stats": {
          "unique_count": 1,
          "nan_count": 0,
          "min": "0.13070163018611394",
          "max": "0.13070163018611394",
          "histogram": [
           {
            "bin_start": -0.3692983698138861,
            "bin_end": -0.2692983698138861,
            "count": 0
           },
           {
            "bin_start": -0.2692983698138861,
            "bin_end": -0.16929836981388607,
            "count": 0
           },
           {
            "bin_start": -0.16929836981388607,
            "bin_end": -0.06929836981388604,
            "count": 0
           },
           {
            "bin_start": -0.06929836981388604,
            "bin_end": 0.030701630186113937,
            "count": 0
           },
           {
            "bin_start": 0.030701630186113937,
            "bin_end": 0.13070163018611392,
            "count": 0
           },
           {
            "bin_start": 0.13070163018611392,
            "bin_end": 0.230701630186114,
            "count": 1
           },
           {
            "bin_start": 0.230701630186114,
            "bin_end": 0.330701630186114,
            "count": 0
           },
           {
            "bin_start": 0.330701630186114,
            "bin_end": 0.43070163018611396,
            "count": 0
           },
           {
            "bin_start": 0.43070163018611396,
            "bin_end": 0.5307016301861139,
            "count": 0
           },
           {
            "bin_start": 0.5307016301861139,
            "bin_end": 0.6307016301861139,
            "count": 0
           }
          ]
         }
        },
        {
         "name": "_deepnote_index_column",
         "dtype": "object"
        }
       ],
       "rows": [
        {
         "ols": 0.4345503435130889,
         "elasticnet": 0.5192142178821906,
         "bayesian_reg": 0.4362423408341359,
         "pass_agg": 0.5992840942582809,
         "huber": 0.42252324390582285,
         "ransac": 0.5164874737138411,
         "sgd": 0.4361169507953584,
         "decision_tree": 0.1326570536058522,
         "catboost": 0.13070163018611394,
         "_deepnote_index_column": "Mean_Absolute_Errors"
        }
       ]
      },
      "text/plain": "                          ols  elasticnet  bayesian_reg  pass_agg     huber  \\\nMean_Absolute_Errors  0.43455    0.519214      0.436242  0.599284  0.422523   \n\n                        ransac       sgd  decision_tree  catboost  \nMean_Absolute_Errors  0.516487  0.436117       0.132657  0.130702  ",
      "text/html": "<div>\n<style scoped>\n    .dataframe tbody tr th:only-of-type {\n        vertical-align: middle;\n    }\n\n    .dataframe tbody tr th {\n        vertical-align: top;\n    }\n\n    .dataframe thead th {\n        text-align: right;\n    }\n</style>\n<table border=\"1\" class=\"dataframe\">\n  <thead>\n    <tr style=\"text-align: right;\">\n      <th></th>\n      <th>ols</th>\n      <th>elasticnet</th>\n      <th>bayesian_reg</th>\n      <th>pass_agg</th>\n      <th>huber</th>\n      <th>ransac</th>\n      <th>sgd</th>\n      <th>decision_tree</th>\n      <th>catboost</th>\n    </tr>\n  </thead>\n  <tbody>\n    <tr>\n      <th>Mean_Absolute_Errors</th>\n      <td>0.43455</td>\n      <td>0.519214</td>\n      <td>0.436242</td>\n      <td>0.599284</td>\n      <td>0.422523</td>\n      <td>0.516487</td>\n      <td>0.436117</td>\n      <td>0.132657</td>\n      <td>0.130702</td>\n    </tr>\n  </tbody>\n</table>\n</div>"
     },
     "metadata": {}
    }
   ]
  },
  {
   "cell_type": "code",
   "metadata": {
    "tags": [],
    "cell_id": "00068-3d9c8fcb-963b-4aac-93c3-916275a19e94",
    "deepnote_to_be_reexecuted": false,
    "source_hash": "8c6e94f5",
    "execution_start": 1641545958041,
    "execution_millis": 0,
    "deepnote_cell_type": "code"
   },
   "source": "test_scores = test_scores.T",
   "execution_count": 81,
   "outputs": []
  },
  {
   "cell_type": "code",
   "metadata": {
    "tags": [],
    "cell_id": "00069-66c6939b-ed8e-48d7-be9c-2cc3ea6857cf",
    "deepnote_to_be_reexecuted": false,
    "source_hash": "73ae9091",
    "execution_start": 1641545958042,
    "execution_millis": 462,
    "deepnote_output_heights": [
     287
    ],
    "deepnote_cell_type": "code"
   },
   "source": "test_scores.plot()\nplt.xticks(rotation=35)\nplt.show()",
   "execution_count": 82,
   "outputs": [
    {
     "data": {
      "text/plain": "<Figure size 432x288 with 1 Axes>",
      "image/png": "[encoded data removed]"
     },
     "metadata": {
      "needs_background": "light",
      "image/png": {
       "width": 377,
       "height": 285
      }
     },
     "output_type": "display_data"
    }
   ]
  },
  {
   "cell_type": "code",
   "metadata": {
    "tags": [],
    "cell_id": "00070-98efa6de-db6e-4b4b-b4b2-e9231f70a63d",
    "deepnote_to_be_reexecuted": false,
    "source_hash": "c5eeada0",
    "execution_start": 1641545958509,
    "execution_millis": 21,
    "deepnote_output_heights": [
     328.1875
    ],
    "deepnote_cell_type": "code"
   },
   "source": "#clf.coef_\n\nclf.feature_importances_",
   "execution_count": 83,
   "outputs": [
    {
     "output_type": "execute_result",
     "execution_count": 83,
     "data": {
      "text/plain": "array([8.05460420e-03, 6.23593354e-03, 2.26833188e-03, 8.86382931e-04,\n       7.37411050e-01, 6.41283282e-02, 4.88918872e-06, 0.00000000e+00,\n       1.26689323e-05, 9.47591527e-06, 2.98766711e-04, 3.75750249e-07,\n       1.51190226e-04, 1.52598762e-03, 2.28737749e-03, 3.75149794e-02,\n       1.40068277e-03, 8.78040750e-03, 3.88486515e-06, 2.52187479e-05,\n       3.10057113e-04, 8.18602893e-05, 2.19694798e-06, 0.00000000e+00,\n       2.60166632e-03, 1.48510464e-04, 6.65104484e-06, 6.54756253e-04,\n       4.00004864e-05, 3.60657974e-04, 2.86394893e-04, 1.38442041e-03,\n       0.00000000e+00, 5.27448957e-07, 7.99849970e-04, 1.35891283e-04,\n       3.45790471e-04, 1.17530447e-05, 0.00000000e+00, 2.80455266e-04,\n       0.00000000e+00, 4.25532019e-06, 3.23376890e-04, 6.23228822e-05,\n       4.85110738e-04, 0.00000000e+00, 0.00000000e+00, 0.00000000e+00,\n       1.63766629e-04, 2.11050919e-04, 4.18939268e-04, 3.23220073e-04,\n       1.78986295e-03, 2.38941995e-05, 3.83836031e-06, 1.32777436e-03,\n       2.07745046e-02, 1.66732867e-02, 1.89853941e-02, 2.67202710e-02,\n       1.02202859e-02, 2.23680365e-02, 2.98102271e-06, 3.59678643e-04,\n       3.06173446e-04])"
     },
     "metadata": {}
    }
   ]
  },
  {
   "cell_type": "code",
   "metadata": {
    "tags": [],
    "cell_id": "00102-c1007307-decd-4b46-8d57-82d1c8ca8c18",
    "deepnote_to_be_reexecuted": false,
    "source_hash": "e2b75288",
    "execution_start": 1641545958532,
    "execution_millis": 20,
    "deepnote_output_heights": [
     328.1875
    ],
    "deepnote_cell_type": "code"
   },
   "source": "cat_boost.feature_importances_",
   "execution_count": 84,
   "outputs": [
    {
     "output_type": "execute_result",
     "execution_count": 84,
     "data": {
      "text/plain": "array([2.44916665e-01, 9.70798993e-02, 8.13010576e-02, 1.34679774e-01,\n       7.83789265e+01, 2.03666211e+00, 0.00000000e+00, 0.00000000e+00,\n       4.62390643e-03, 9.58305190e-03, 0.00000000e+00, 0.00000000e+00,\n       2.26949367e-03, 5.73978755e-02, 2.04963839e-02, 3.13740505e+00,\n       2.69440863e-02, 1.00792550e+00, 1.03993137e-02, 6.02414632e-03,\n       3.43615357e-03, 9.79985935e-03, 0.00000000e+00, 0.00000000e+00,\n       4.80477689e-01, 0.00000000e+00, 8.74367045e-03, 2.99994800e-01,\n       3.70560580e-02, 6.84381913e-02, 1.66573180e-02, 8.70253877e-02,\n       0.00000000e+00, 0.00000000e+00, 8.12645922e-02, 1.12270112e-01,\n       5.83885263e-03, 0.00000000e+00, 0.00000000e+00, 1.06310459e-02,\n       0.00000000e+00, 0.00000000e+00, 0.00000000e+00, 1.66743368e-03,\n       0.00000000e+00, 0.00000000e+00, 0.00000000e+00, 0.00000000e+00,\n       0.00000000e+00, 6.78357955e-03, 2.22649059e-03, 4.51413604e-03,\n       1.52188040e-02, 0.00000000e+00, 0.00000000e+00, 0.00000000e+00,\n       4.69479924e+00, 1.19542334e+00, 1.59203785e+00, 2.46775135e+00,\n       5.55457947e-01, 2.98094801e+00, 0.00000000e+00, 4.90323162e-03,\n       0.00000000e+00])"
     },
     "metadata": {}
    }
   ]
  },
  {
   "cell_type": "code",
   "metadata": {
    "tags": [],
    "cell_id": "00071-d01a5245-849f-4bf9-87b1-3804d8e1787b",
    "deepnote_to_be_reexecuted": false,
    "source_hash": "30b36ead",
    "execution_start": 1641545958559,
    "execution_millis": 54,
    "deepnote_cell_type": "code"
   },
   "source": "pass_agg_feat_imp = pd.DataFrame(data=pass_regr.coef_, index=X.columns, columns=[\"feature_importance\"])",
   "execution_count": 85,
   "outputs": []
  },
  {
   "cell_type": "code",
   "metadata": {
    "tags": [],
    "cell_id": "00088-211a632c-cf20-413a-a2b5-f140215039c6",
    "deepnote_to_be_reexecuted": false,
    "source_hash": "3bc93939",
    "execution_start": 1641545958613,
    "execution_millis": 0,
    "deepnote_cell_type": "code"
   },
   "source": "clf_feat_imp = pd.DataFrame(data=clf.feature_importances_, index=X.columns, columns=[\"feature_importance\"])",
   "execution_count": 86,
   "outputs": []
  },
  {
   "cell_type": "code",
   "metadata": {
    "tags": [],
    "cell_id": "00105-9d16c7d3-4342-499b-8ffc-53d22e3cedf8",
    "deepnote_to_be_reexecuted": false,
    "source_hash": "899ae4c8",
    "execution_start": 1641545958614,
    "execution_millis": 0,
    "deepnote_cell_type": "code"
   },
   "source": "catboost_feat_imp = pd.DataFrame(data=cat_boost.feature_importances_, index=X.columns, columns=[\"feature_importance\"])",
   "execution_count": 87,
   "outputs": []
  },
  {
   "cell_type": "code",
   "metadata": {
    "tags": [],
    "cell_id": "00073-cf7b260f-212c-498a-850b-ecb1422358d0",
    "deepnote_to_be_reexecuted": false,
    "source_hash": "b476906e",
    "execution_start": 1641545958654,
    "execution_millis": 14,
    "deepnote_output_heights": [
     382.1875
    ],
    "deepnote_table_state": {
     "pageSize": 10,
     "pageIndex": 1,
     "filters": [],
     "sortBy": []
    },
    "deepnote_table_loading": false,
    "deepnote_cell_type": "code"
   },
   "source": "# Which variables move the needle on CLTV the most\n\ncatboost_feat_imp.sort_values(by=\"feature_importance\")",
   "execution_count": 88,
   "outputs": [
    {
     "output_type": "execute_result",
     "execution_count": 88,
     "data": {
      "application/vnd.deepnote.dataframe.v3+json": {
       "column_count": 1,
       "row_count": 65,
       "columns": [
        {
         "name": "feature_importance",
         "dtype": "float64",
         "stats": {
          "unique_count": 42,
          "nan_count": 0,
          "min": "0.0",
          "max": "78.3789265398416",
          "histogram": [
           {
            "bin_start": 0,
            "bin_end": 7.83789265398416,
            "count": 64
           },
           {
            "bin_start": 7.83789265398416,
            "bin_end": 15.67578530796832,
            "count": 0
           },
           {
            "bin_start": 15.67578530796832,
            "bin_end": 23.51367796195248,
            "count": 0
           },
           {
            "bin_start": 23.51367796195248,
            "bin_end": 31.35157061593664,
            "count": 0
           },
           {
            "bin_start": 31.35157061593664,
            "bin_end": 39.1894632699208,
            "count": 0
           },
           {
            "bin_start": 39.1894632699208,
            "bin_end": 47.02735592390496,
            "count": 0
           },
           {
            "bin_start": 47.02735592390496,
            "bin_end": 54.86524857788912,
            "count": 0
           },
           {
            "bin_start": 54.86524857788912,
            "bin_end": 62.70314123187328,
            "count": 0
           },
           {
            "bin_start": 62.70314123187328,
            "bin_end": 70.54103388585744,
            "count": 0
           },
           {
            "bin_start": 70.54103388585744,
            "bin_end": 78.3789265398416,
            "count": 1
           }
          ]
         }
        },
        {
         "name": "_deepnote_index_column",
         "dtype": "object"
        }
       ],
       "rows": [
        {
         "feature_importance": 0,
         "_deepnote_index_column": "Policy_Special L2"
        },
        {
         "feature_importance": 0,
         "_deepnote_index_column": "Policy_Special L3"
        },
        {
         "feature_importance": 0,
         "_deepnote_index_column": "Renew Offer Type_Offer1"
        },
        {
         "feature_importance": 0,
         "_deepnote_index_column": "Sales Channel_Branch"
        },
        {
         "feature_importance": 0,
         "_deepnote_index_column": "Sales Channel_Call Center"
        },
        {
         "feature_importance": 0,
         "_deepnote_index_column": "Sales Channel_Web"
        },
        {
         "feature_importance": 0,
         "_deepnote_index_column": "Vehicle Size_Large"
        },
        {
         "feature_importance": 0,
         "_deepnote_index_column": "Policy_Special L1"
        },
        {
         "feature_importance": 0,
         "_deepnote_index_column": "Education_Master"
        },
        {
         "feature_importance": 0,
         "_deepnote_index_column": "Vehicle Size_Small"
        }
       ]
      },
      "text/plain": "                                feature_importance\nLocation Code_Urban                       0.000000\nEmploymentStatus_Medical Leave            0.000000\nMarital Status_Divorced                   0.000000\nPolicy Type_Personal Auto                 0.000000\nPolicy Type_Special Auto                  0.000000\n...                                            ...\nVehicle Class_SUV                         2.467751\nVehicle Class_Two-Door Car                2.980948\nCoverage_Basic                            3.137405\nVehicle Class_Four-Door Car               4.694799\nNumber of Policies                       78.378927\n\n[65 rows x 1 columns]",
      "text/html": "<div>\n<style scoped>\n    .dataframe tbody tr th:only-of-type {\n        vertical-align: middle;\n    }\n\n    .dataframe tbody tr th {\n        vertical-align: top;\n    }\n\n    .dataframe thead th {\n        text-align: right;\n    }\n</style>\n<table border=\"1\" class=\"dataframe\">\n  <thead>\n    <tr style=\"text-align: right;\">\n      <th></th>\n      <th>feature_importance</th>\n    </tr>\n  </thead>\n  <tbody>\n    <tr>\n      <th>Location Code_Urban</th>\n      <td>0.000000</td>\n    </tr>\n    <tr>\n      <th>EmploymentStatus_Medical Leave</th>\n      <td>0.000000</td>\n    </tr>\n    <tr>\n      <th>Marital Status_Divorced</th>\n      <td>0.000000</td>\n    </tr>\n    <tr>\n      <th>Policy Type_Personal Auto</th>\n      <td>0.000000</td>\n    </tr>\n    <tr>\n      <th>Policy Type_Special Auto</th>\n      <td>0.000000</td>\n    </tr>\n    <tr>\n      <th>...</th>\n      <td>...</td>\n    </tr>\n    <tr>\n      <th>Vehicle Class_SUV</th>\n      <td>2.467751</td>\n    </tr>\n    <tr>\n      <th>Vehicle Class_Two-Door Car</th>\n      <td>2.980948</td>\n    </tr>\n    <tr>\n      <th>Coverage_Basic</th>\n      <td>3.137405</td>\n    </tr>\n    <tr>\n      <th>Vehicle Class_Four-Door Car</th>\n      <td>4.694799</td>\n    </tr>\n    <tr>\n      <th>Number of Policies</th>\n      <td>78.378927</td>\n    </tr>\n  </tbody>\n</table>\n<p>65 rows × 1 columns</p>\n</div>"
     },
     "metadata": {}
    }
   ]
  },
  {
   "cell_type": "markdown",
   "source": "## Best CLTV Preds",
   "metadata": {
    "tags": [],
    "is_collapsed": false,
    "cell_id": "00107-f421232d-40cd-4699-b1cf-22ce4e05cbb6",
    "deepnote_cell_type": "text-cell-h2"
   }
  },
  {
   "cell_type": "code",
   "metadata": {
    "tags": [],
    "cell_id": "00108-671a1b9a-2f97-4e80-94ec-c59c12e26f5e",
    "deepnote_to_be_reexecuted": false,
    "source_hash": "161a12d4",
    "execution_start": 1641545958684,
    "execution_millis": 773,
    "deepnote_output_heights": [
     232.25
    ],
    "deepnote_cell_type": "code"
   },
   "source": "catboost_preds_full = cat_boost.predict(Xstd)\ndf['catboost_cltv_preds'] = catboost_preds_full\ndf",
   "execution_count": 89,
   "outputs": [
    {
     "output_type": "execute_result",
     "execution_count": 89,
     "data": {
      "application/vnd.deepnote.dataframe.v3+json": {
       "column_count": 27,
       "row_count": 9134,
       "columns": [
        {
         "name": "Customer",
         "dtype": "object",
         "stats": {
          "unique_count": 9134,
          "nan_count": 0,
          "categories": [
           {
            "name": "BU79786",
            "count": 1
           },
           {
            "name": "QZ44356",
            "count": 1
           },
           {
            "name": "9132 others",
            "count": 9132
           }
          ]
         }
        },
        {
         "name": "State",
         "dtype": "object",
         "stats": {
          "unique_count": 5,
          "nan_count": 0,
          "categories": [
           {
            "name": "California",
            "count": 3150
           },
           {
            "name": "Oregon",
            "count": 2601
           },
           {
            "name": "3 others",
            "count": 3383
           }
          ]
         }
        },
        {
         "name": "Response",
         "dtype": "object",
         "stats": {
          "unique_count": 2,
          "nan_count": 0,
          "categories": [
           {
            "name": "No",
            "count": 7826
           },
           {
            "name": "Yes",
            "count": 1308
           }
          ]
         }
        },
        {
         "name": "Coverage",
         "dtype": "object",
         "stats": {
          "unique_count": 3,
          "nan_count": 0,
          "categories": [
           {
            "name": "Basic",
            "count": 5568
           },
           {
            "name": "Extended",
            "count": 2742
           },
           {
            "name": "Premium",
            "count": 824
           }
          ]
         }
        },
        {
         "name": "Education",
         "dtype": "object",
         "stats": {
          "unique_count": 5,
          "nan_count": 0,
          "categories": [
           {
            "name": "Bachelor",
            "count": 2748
           },
           {
            "name": "College",
            "count": 2681
           },
           {
            "name": "3 others",
            "count": 3705
           }
          ]
         }
        },
        {
         "name": "Effective To Date",
         "dtype": "datetime64[ns]",
         "stats": {
          "unique_count": 59,
          "nan_count": 0,
          "min": "2011-01-01 00:00:00",
          "max": "2011-02-28 00:00:00",
          "histogram": [
           {
            "bin_start": 1293840000000000000,
            "bin_end": 1294341120000000000,
            "count": 911
           },
           {
            "bin_start": 1294341120000000000,
            "bin_end": 1294842240000000000,
            "count": 933
           },
           {
            "bin_start": 1294842240000000000,
            "bin_end": 1295343360000000000,
            "count": 926
           },
           {
            "bin_start": 1295343360000000000,
            "bin_end": 1295844480000000000,
            "count": 950
           },
           {
            "bin_start": 1295844480000000000,
            "bin_end": 1296345600000000000,
            "count": 855
           },
           {
            "bin_start": 1296345600000000000,
            "bin_end": 1296846720000000000,
            "count": 948
           },
           {
            "bin_start": 1296846720000000000,
            "bin_end": 1297347840000000000,
            "count": 891
           },
           {
            "bin_start": 1297347840000000000,
            "bin_end": 1297848960000000000,
            "count": 901
           },
           {
            "bin_start": 1297848960000000000,
            "bin_end": 1298350080000000000,
            "count": 891
           },
           {
            "bin_start": 1298350080000000000,
            "bin_end": 1298851200000000000,
            "count": 928
           }
          ]
         }
        },
        {
         "name": "EmploymentStatus",
         "dtype": "object",
         "stats": {
          "unique_count": 5,
          "nan_count": 0,
          "categories": [
           {
            "name": "Employed",
            "count": 5698
           },
           {
            "name": "Unemployed",
            "count": 2317
           },
           {
            "name": "3 others",
            "count": 1119
           }
          ]
         }
        },
        {
         "name": "Gender",
         "dtype": "object",
         "stats": {
          "unique_count": 2,
          "nan_count": 0,
          "categories": [
           {
            "name": "F",
            "count": 4658
           },
           {
            "name": "M",
            "count": 4476
           }
          ]
         }
        },
        {
         "name": "Income",
         "dtype": "int64",
         "stats": {
          "unique_count": 5694,
          "nan_count": 0,
          "min": "0",
          "max": "99981",
          "histogram": [
           {
            "bin_start": 0,
            "bin_end": 9998.1,
            "count": 2317
           },
           {
            "bin_start": 9998.1,
            "bin_end": 19996.2,
            "count": 522
           },
           {
            "bin_start": 19996.2,
            "bin_end": 29994.300000000003,
            "count": 1381
           },
           {
            "bin_start": 29994.300000000003,
            "bin_end": 39992.4,
            "count": 893
           },
           {
            "bin_start": 39992.4,
            "bin_end": 49990.5,
            "count": 749
           },
           {
            "bin_start": 49990.5,
            "bin_end": 59988.600000000006,
            "count": 791
           },
           {
            "bin_start": 59988.600000000006,
            "bin_end": 69986.7,
            "count": 759
           },
           {
            "bin_start": 69986.7,
            "bin_end": 79984.8,
            "count": 698
           },
           {
            "bin_start": 79984.8,
            "bin_end": 89982.90000000001,
            "count": 545
           },
           {
            "bin_start": 89982.90000000001,
            "bin_end": 99981,
            "count": 479
           }
          ]
         }
        },
        {
         "name": "Location Code",
         "dtype": "object",
         "stats": {
          "unique_count": 3,
          "nan_count": 0,
          "categories": [
           {
            "name": "Suburban",
            "count": 5779
           },
           {
            "name": "Rural",
            "count": 1773
           },
           {
            "name": "Urban",
            "count": 1582
           }
          ]
         }
        },
        {
         "name": "Marital Status",
         "dtype": "object"
        },
        {
         "name": "Monthly Premium Auto",
         "dtype": "int64"
        },
        {
         "name": "Months Since Last Claim",
         "dtype": "int64"
        },
        {
         "name": "Months Since Policy Inception",
         "dtype": "int64"
        },
        {
         "name": "Number of Open Complaints",
         "dtype": "int64"
        },
        {
         "name": "Number of Policies",
         "dtype": "int64"
        },
        {
         "name": "Policy Type",
         "dtype": "object"
        },
        {
         "name": "Policy",
         "dtype": "object"
        },
        {
         "name": "Renew Offer Type",
         "dtype": "object"
        },
        {
         "name": "Sales Channel",
         "dtype": "object"
        },
        {
         "name": "Total Claim Amount",
         "dtype": "float64"
        },
        {
         "name": "Vehicle Class",
         "dtype": "object"
        },
        {
         "name": "Vehicle Size",
         "dtype": "object"
        },
        {
         "name": "effective_to_month",
         "dtype": "string"
        },
        {
         "name": "effective_to_year",
         "dtype": "string"
        },
        {
         "name": "cltv_ground_truth",
         "dtype": "float64"
        },
        {
         "name": "catboost_cltv_preds",
         "dtype": "float64"
        },
        {
         "name": "_deepnote_index_column",
         "dtype": "int64"
        }
       ],
       "rows": [
        {
         "Customer": "BU79786",
         "State": "Washington",
         "Response": "No",
         "Coverage": "Basic",
         "Education": "Bachelor",
         "Effective To Date": "2011-02-24T00:00:00.000000",
         "EmploymentStatus": "Employed",
         "Gender": "F",
         "Income": 56274,
         "Location Code": "Suburban",
         "Marital Status": "Married",
         "Monthly Premium Auto": 69,
         "Months Since Last Claim": 32,
         "Months Since Policy Inception": 5,
         "Number of Open Complaints": 0,
         "Number of Policies": 1,
         "Policy Type": "Corporate Auto",
         "Policy": "Corporate L3",
         "Renew Offer Type": "Offer1",
         "Sales Channel": "Agent",
         "Total Claim Amount": 384.811147,
         "Vehicle Class": "Two-Door Car",
         "Vehicle Size": "Medsize",
         "effective_to_month": "2",
         "effective_to_year": "2011",
         "cltv_ground_truth": 7.924622039528314,
         "catboost_cltv_preds": 7.948168806717096,
         "_deepnote_index_column": 0
        },
        {
         "Customer": "QZ44356",
         "State": "Arizona",
         "Response": "No",
         "Coverage": "Extended",
         "Education": "Bachelor",
         "Effective To Date": "2011-01-31T00:00:00.000000",
         "EmploymentStatus": "Unemployed",
         "Gender": "F",
         "Income": 0,
         "Location Code": "Suburban",
         "Marital Status": "Single",
         "Monthly Premium Auto": 94,
         "Months Since Last Claim": 13,
         "Months Since Policy Inception": 42,
         "Number of Open Complaints": 0,
         "Number of Policies": 8,
         "Policy Type": "Personal Auto",
         "Policy": "Personal L3",
         "Renew Offer Type": "Offer3",
         "Sales Channel": "Agent",
         "Total Claim Amount": 1131.464935,
         "Vehicle Class": "Four-Door Car",
         "Vehicle Size": "Medsize",
         "effective_to_month": "1",
         "effective_to_year": "2011",
         "cltv_ground_truth": 8.850880969743317,
         "catboost_cltv_preds": 8.842694622516882,
         "_deepnote_index_column": 1
        },
        {
         "Customer": "AI49188",
         "State": "Nevada",
         "Response": "No",
         "Coverage": "Premium",
         "Education": "Bachelor",
         "Effective To Date": "2011-02-19T00:00:00.000000",
         "EmploymentStatus": "Employed",
         "Gender": "F",
         "Income": 48767,
         "Location Code": "Suburban",
         "Marital Status": "Married",
         "Monthly Premium Auto": 108,
         "Months Since Last Claim": 18,
         "Months Since Policy Inception": 38,
         "Number of Open Complaints": 0,
         "Number of Policies": 2,
         "Policy Type": "Personal Auto",
         "Policy": "Personal L3",
         "Renew Offer Type": "Offer1",
         "Sales Channel": "Agent",
         "Total Claim Amount": 566.472247,
         "Vehicle Class": "Two-Door Car",
         "Vehicle Size": "Medsize",
         "effective_to_month": "2",
         "effective_to_year": "2011",
         "cltv_ground_truth": 9.46408541669198,
         "catboost_cltv_preds": 9.679448871049306,
         "_deepnote_index_column": 2
        },
        {
         "Customer": "WW63253",
         "State": "California",
         "Response": "No",
         "Coverage": "Basic",
         "Education": "Bachelor",
         "Effective To Date": "2011-01-20T00:00:00.000000",
         "EmploymentStatus": "Unemployed",
         "Gender": "M",
         "Income": 0,
         "Location Code": "Suburban",
         "Marital Status": "Married",
         "Monthly Premium Auto": 106,
         "Months Since Last Claim": 18,
         "Months Since Policy Inception": 65,
         "Number of Open Complaints": 0,
         "Number of Policies": 7,
         "Policy Type": "Corporate Auto",
         "Policy": "Corporate L2",
         "Renew Offer Type": "Offer1",
         "Sales Channel": "Call Center",
         "Total Claim Amount": 529.881344,
         "Vehicle Class": "SUV",
         "Vehicle Size": "Medsize",
         "effective_to_month": "1",
         "effective_to_year": "2011",
         "cltv_ground_truth": 8.942050623965066,
         "catboost_cltv_preds": 8.977388509794588,
         "_deepnote_index_column": 3
        },
        {
         "Customer": "HB64268",
         "State": "Washington",
         "Response": "No",
         "Coverage": "Basic",
         "Education": "Bachelor",
         "Effective To Date": "2011-02-03T00:00:00.000000",
         "EmploymentStatus": "Employed",
         "Gender": "M",
         "Income": 43836,
         "Location Code": "Rural",
         "Marital Status": "Single",
         "Monthly Premium Auto": 73,
         "Months Since Last Claim": 12,
         "Months Since Policy Inception": 44,
         "Number of Open Complaints": 0,
         "Number of Policies": 1,
         "Policy Type": "Personal Auto",
         "Policy": "Personal L1",
         "Renew Offer Type": "Offer1",
         "Sales Channel": "Agent",
         "Total Claim Amount": 138.130879,
         "Vehicle Class": "Four-Door Car",
         "Vehicle Size": "Medsize",
         "effective_to_month": "2",
         "effective_to_year": "2011",
         "cltv_ground_truth": 7.942608325018515,
         "catboost_cltv_preds": 7.90178377309481,
         "_deepnote_index_column": 4
        },
        {
         "Customer": "OC83172",
         "State": "Oregon",
         "Response": "Yes",
         "Coverage": "Basic",
         "Education": "Bachelor",
         "Effective To Date": "2011-01-25T00:00:00.000000",
         "EmploymentStatus": "Employed",
         "Gender": "F",
         "Income": 62902,
         "Location Code": "Rural",
         "Marital Status": "Married",
         "Monthly Premium Auto": 69,
         "Months Since Last Claim": 14,
         "Months Since Policy Inception": 94,
         "Number of Open Complaints": 0,
         "Number of Policies": 2,
         "Policy Type": "Personal Auto",
         "Policy": "Personal L3",
         "Renew Offer Type": "Offer2",
         "Sales Channel": "Web",
         "Total Claim Amount": 159.383042,
         "Vehicle Class": "Two-Door Car",
         "Vehicle Size": "Medsize",
         "effective_to_month": "1",
         "effective_to_year": "2011",
         "cltv_ground_truth": 9.018852670134983,
         "catboost_cltv_preds": 9.334303905447976,
         "_deepnote_index_column": 5
        },
        {
         "Customer": "XZ87318",
         "State": "Oregon",
         "Response": "Yes",
         "Coverage": "Basic",
         "Education": "College",
         "Effective To Date": "2011-02-24T00:00:00.000000",
         "EmploymentStatus": "Employed",
         "Gender": "F",
         "Income": 55350,
         "Location Code": "Suburban",
         "Marital Status": "Married",
         "Monthly Premium Auto": 67,
         "Months Since Last Claim": 0,
         "Months Since Policy Inception": 13,
         "Number of Open Complaints": 0,
         "Number of Policies": 9,
         "Policy Type": "Corporate Auto",
         "Policy": "Corporate L3",
         "Renew Offer Type": "Offer1",
         "Sales Channel": "Agent",
         "Total Claim Amount": 321.6,
         "Vehicle Class": "Four-Door Car",
         "Vehicle Size": "Medsize",
         "effective_to_month": "2",
         "effective_to_year": "2011",
         "cltv_ground_truth": 8.590796497218744,
         "catboost_cltv_preds": 8.586939931353228,
         "_deepnote_index_column": 6
        },
        {
         "Customer": "CF85061",
         "State": "Arizona",
         "Response": "No",
         "Coverage": "Premium",
         "Education": "Master",
         "Effective To Date": "2011-01-18T00:00:00.000000",
         "EmploymentStatus": "Unemployed",
         "Gender": "M",
         "Income": 0,
         "Location Code": "Urban",
         "Marital Status": "Single",
         "Monthly Premium Auto": 101,
         "Months Since Last Claim": 0,
         "Months Since Policy Inception": 68,
         "Number of Open Complaints": 0,
         "Number of Policies": 4,
         "Policy Type": "Corporate Auto",
         "Policy": "Corporate L3",
         "Renew Offer Type": "Offer1",
         "Sales Channel": "Agent",
         "Total Claim Amount": 363.02968,
         "Vehicle Class": "Four-Door Car",
         "Vehicle Size": "Medsize",
         "effective_to_month": "1",
         "effective_to_year": "2011",
         "cltv_ground_truth": 8.884208532241303,
         "catboost_cltv_preds": 8.889872574146718,
         "_deepnote_index_column": 7
        },
        {
         "Customer": "DY87989",
         "State": "Oregon",
         "Response": "Yes",
         "Coverage": "Basic",
         "Education": "Bachelor",
         "Effective To Date": "2011-01-26T00:00:00.000000",
         "EmploymentStatus": "Medical Leave",
         "Gender": "M",
         "Income": 14072,
         "Location Code": "Suburban",
         "Marital Status": "Divorced",
         "Monthly Premium Auto": 71,
         "Months Since Last Claim": 13,
         "Months Since Policy Inception": 3,
         "Number of Open Complaints": 0,
         "Number of Policies": 2,
         "Policy Type": "Corporate Auto",
         "Policy": "Corporate L3",
         "Renew Offer Type": "Offer1",
         "Sales Channel": "Agent",
         "Total Claim Amount": 511.2,
         "Vehicle Class": "Four-Door Car",
         "Vehicle Size": "Medsize",
         "effective_to_month": "1",
         "effective_to_year": "2011",
         "cltv_ground_truth": 10.091149160012579,
         "catboost_cltv_preds": 9.371533744311352,
         "_deepnote_index_column": 8
        },
        {
         "Customer": "BQ94931",
         "State": "Oregon",
         "Response": "No",
         "Coverage": "Extended",
         "Education": "College",
         "Effective To Date": "2011-02-17T00:00:00.000000",
         "EmploymentStatus": "Employed",
         "Gender": "F",
         "Income": 28812,
         "Location Code": "Urban",
         "Marital Status": "Married",
         "Monthly Premium Auto": 93,
         "Months Since Last Claim": 17,
         "Months Since Policy Inception": 7,
         "Number of Open Complaints": 0,
         "Number of Policies": 8,
         "Policy Type": "Special Auto",
         "Policy": "Special L2",
         "Renew Offer Type": "Offer2",
         "Sales Channel": "Branch",
         "Total Claim Amount": 425.527834,
         "Vehicle Class": "Four-Door Car",
         "Vehicle Size": "Medsize",
         "effective_to_month": "2",
         "effective_to_year": "2011",
         "cltv_ground_truth": 8.90777178786511,
         "catboost_cltv_preds": 8.854375802462377,
         "_deepnote_index_column": 9
        }
       ]
      },
      "text/plain": "     Customer       State Response  Coverage Education Effective To Date  \\\n0     BU79786  Washington       No     Basic  Bachelor        2011-02-24   \n1     QZ44356     Arizona       No  Extended  Bachelor        2011-01-31   \n2     AI49188      Nevada       No   Premium  Bachelor        2011-02-19   \n3     WW63253  California       No     Basic  Bachelor        2011-01-20   \n4     HB64268  Washington       No     Basic  Bachelor        2011-02-03   \n...       ...         ...      ...       ...       ...               ...   \n9129  LA72316  California       No     Basic  Bachelor        2011-02-10   \n9130  PK87824  California      Yes  Extended   College        2011-02-12   \n9131  TD14365  California       No  Extended  Bachelor        2011-02-06   \n9132  UP19263  California       No  Extended   College        2011-02-03   \n9133  Y167826  California       No  Extended   College        2011-02-14   \n\n     EmploymentStatus Gender  Income Location Code  ...        Policy  \\\n0            Employed      F   56274      Suburban  ...  Corporate L3   \n1          Unemployed      F       0      Suburban  ...   Personal L3   \n2            Employed      F   48767      Suburban  ...   Personal L3   \n3          Unemployed      M       0      Suburban  ...  Corporate L2   \n4            Employed      M   43836         Rural  ...   Personal L1   \n...               ...    ...     ...           ...  ...           ...   \n9129         Employed      M   71941         Urban  ...   Personal L1   \n9130         Employed      F   21604      Suburban  ...  Corporate L3   \n9131       Unemployed      M       0      Suburban  ...  Corporate L2   \n9132         Employed      M   21941      Suburban  ...   Personal L2   \n9133       Unemployed      M       0      Suburban  ...  Corporate L3   \n\n      Renew Offer Type  Sales Channel  Total Claim Amount  Vehicle Class  \\\n0               Offer1          Agent          384.811147   Two-Door Car   \n1               Offer3          Agent         1131.464935  Four-Door Car   \n2               Offer1          Agent          566.472247   Two-Door Car   \n3               Offer1    Call Center          529.881344            SUV   \n4               Offer1          Agent          138.130879  Four-Door Car   \n...                ...            ...                 ...            ...   \n9129            Offer2            Web          198.234764  Four-Door Car   \n9130            Offer1         Branch          379.200000  Four-Door Car   \n9131            Offer1         Branch          790.784983  Four-Door Car   \n9132            Offer3         Branch          691.200000  Four-Door Car   \n9133            Offer4    Call Center          369.600000   Two-Door Car   \n\n      Vehicle Size effective_to_month effective_to_year cltv_ground_truth  \\\n0          Medsize                  2              2011          7.924622   \n1          Medsize                  1              2011          8.850881   \n2          Medsize                  2              2011          9.464085   \n3          Medsize                  1              2011          8.942051   \n4          Medsize                  2              2011          7.942608   \n...            ...                ...               ...               ...   \n9129       Medsize                  2              2011         10.060790   \n9130       Medsize                  2              2011          8.038354   \n9131       Medsize                  2              2011          9.007599   \n9132         Large                  2              2011          8.926045   \n9133       Medsize                  2              2011          7.868192   \n\n     catboost_cltv_preds  \n0               7.948169  \n1               8.842695  \n2               9.679449  \n3               8.977389  \n4               7.901784  \n...                  ...  \n9129            9.246754  \n9130            8.118965  \n9131            9.341350  \n9132            8.896183  \n9133            8.022823  \n\n[9134 rows x 27 columns]",
      "text/html": "<div>\n<style scoped>\n    .dataframe tbody tr th:only-of-type {\n        vertical-align: middle;\n    }\n\n    .dataframe tbody tr th {\n        vertical-align: top;\n    }\n\n    .dataframe thead th {\n        text-align: right;\n    }\n</style>\n<table border=\"1\" class=\"dataframe\">\n  <thead>\n    <tr style=\"text-align: right;\">\n      <th></th>\n      <th>Customer</th>\n      <th>State</th>\n      <th>Response</th>\n      <th>Coverage</th>\n      <th>Education</th>\n      <th>Effective To Date</th>\n      <th>EmploymentStatus</th>\n      <th>Gender</th>\n      <th>Income</th>\n      <th>Location Code</th>\n      <th>...</th>\n      <th>Policy</th>\n      <th>Renew Offer Type</th>\n      <th>Sales Channel</th>\n      <th>Total Claim Amount</th>\n      <th>Vehicle Class</th>\n      <th>Vehicle Size</th>\n      <th>effective_to_month</th>\n      <th>effective_to_year</th>\n      <th>cltv_ground_truth</th>\n      <th>catboost_cltv_preds</th>\n    </tr>\n  </thead>\n  <tbody>\n    <tr>\n      <th>0</th>\n      <td>BU79786</td>\n      <td>Washington</td>\n      <td>No</td>\n      <td>Basic</td>\n      <td>Bachelor</td>\n      <td>2011-02-24</td>\n      <td>Employed</td>\n      <td>F</td>\n      <td>56274</td>\n      <td>Suburban</td>\n      <td>...</td>\n      <td>Corporate L3</td>\n      <td>Offer1</td>\n      <td>Agent</td>\n      <td>384.811147</td>\n      <td>Two-Door Car</td>\n      <td>Medsize</td>\n      <td>2</td>\n      <td>2011</td>\n      <td>7.924622</td>\n      <td>7.948169</td>\n    </tr>\n    <tr>\n      <th>1</th>\n      <td>QZ44356</td>\n      <td>Arizona</td>\n      <td>No</td>\n      <td>Extended</td>\n      <td>Bachelor</td>\n      <td>2011-01-31</td>\n      <td>Unemployed</td>\n      <td>F</td>\n      <td>0</td>\n      <td>Suburban</td>\n      <td>...</td>\n      <td>Personal L3</td>\n      <td>Offer3</td>\n      <td>Agent</td>\n      <td>1131.464935</td>\n      <td>Four-Door Car</td>\n      <td>Medsize</td>\n      <td>1</td>\n      <td>2011</td>\n      <td>8.850881</td>\n      <td>8.842695</td>\n    </tr>\n    <tr>\n      <th>2</th>\n      <td>AI49188</td>\n      <td>Nevada</td>\n      <td>No</td>\n      <td>Premium</td>\n      <td>Bachelor</td>\n      <td>2011-02-19</td>\n      <td>Employed</td>\n      <td>F</td>\n      <td>48767</td>\n      <td>Suburban</td>\n      <td>...</td>\n      <td>Personal L3</td>\n      <td>Offer1</td>\n      <td>Agent</td>\n      <td>566.472247</td>\n      <td>Two-Door Car</td>\n      <td>Medsize</td>\n      <td>2</td>\n      <td>2011</td>\n      <td>9.464085</td>\n      <td>9.679449</td>\n    </tr>\n    <tr>\n      <th>3</th>\n      <td>WW63253</td>\n      <td>California</td>\n      <td>No</td>\n      <td>Basic</td>\n      <td>Bachelor</td>\n      <td>2011-01-20</td>\n      <td>Unemployed</td>\n      <td>M</td>\n      <td>0</td>\n      <td>Suburban</td>\n      <td>...</td>\n      <td>Corporate L2</td>\n      <td>Offer1</td>\n      <td>Call Center</td>\n      <td>529.881344</td>\n      <td>SUV</td>\n      <td>Medsize</td>\n      <td>1</td>\n      <td>2011</td>\n      <td>8.942051</td>\n      <td>8.977389</td>\n    </tr>\n    <tr>\n      <th>4</th>\n      <td>HB64268</td>\n      <td>Washington</td>\n      <td>No</td>\n      <td>Basic</td>\n      <td>Bachelor</td>\n      <td>2011-02-03</td>\n      <td>Employed</td>\n      <td>M</td>\n      <td>43836</td>\n      <td>Rural</td>\n      <td>...</td>\n      <td>Personal L1</td>\n      <td>Offer1</td>\n      <td>Agent</td>\n      <td>138.130879</td>\n      <td>Four-Door Car</td>\n      <td>Medsize</td>\n      <td>2</td>\n      <td>2011</td>\n      <td>7.942608</td>\n      <td>7.901784</td>\n    </tr>\n    <tr>\n      <th>...</th>\n      <td>...</td>\n      <td>...</td>\n      <td>...</td>\n      <td>...</td>\n      <td>...</td>\n      <td>...</td>\n      <td>...</td>\n      <td>...</td>\n      <td>...</td>\n      <td>...</td>\n      <td>...</td>\n      <td>...</td>\n      <td>...</td>\n      <td>...</td>\n      <td>...</td>\n      <td>...</td>\n      <td>...</td>\n      <td>...</td>\n      <td>...</td>\n      <td>...</td>\n      <td>...</td>\n    </tr>\n    <tr>\n      <th>9129</th>\n      <td>LA72316</td>\n      <td>California</td>\n      <td>No</td>\n      <td>Basic</td>\n      <td>Bachelor</td>\n      <td>2011-02-10</td>\n      <td>Employed</td>\n      <td>M</td>\n      <td>71941</td>\n      <td>Urban</td>\n      <td>...</td>\n      <td>Personal L1</td>\n      <td>Offer2</td>\n      <td>Web</td>\n      <td>198.234764</td>\n      <td>Four-Door Car</td>\n      <td>Medsize</td>\n      <td>2</td>\n      <td>2011</td>\n      <td>10.060790</td>\n      <td>9.246754</td>\n    </tr>\n    <tr>\n      <th>9130</th>\n      <td>PK87824</td>\n      <td>California</td>\n      <td>Yes</td>\n      <td>Extended</td>\n      <td>College</td>\n      <td>2011-02-12</td>\n      <td>Employed</td>\n      <td>F</td>\n      <td>21604</td>\n      <td>Suburban</td>\n      <td>...</td>\n      <td>Corporate L3</td>\n      <td>Offer1</td>\n      <td>Branch</td>\n      <td>379.200000</td>\n      <td>Four-Door Car</td>\n      <td>Medsize</td>\n      <td>2</td>\n      <td>2011</td>\n      <td>8.038354</td>\n      <td>8.118965</td>\n    </tr>\n    <tr>\n      <th>9131</th>\n      <td>TD14365</td>\n      <td>California</td>\n      <td>No</td>\n      <td>Extended</td>\n      <td>Bachelor</td>\n      <td>2011-02-06</td>\n      <td>Unemployed</td>\n      <td>M</td>\n      <td>0</td>\n      <td>Suburban</td>\n      <td>...</td>\n      <td>Corporate L2</td>\n      <td>Offer1</td>\n      <td>Branch</td>\n      <td>790.784983</td>\n      <td>Four-Door Car</td>\n      <td>Medsize</td>\n      <td>2</td>\n      <td>2011</td>\n      <td>9.007599</td>\n      <td>9.341350</td>\n    </tr>\n    <tr>\n      <th>9132</th>\n      <td>UP19263</td>\n      <td>California</td>\n      <td>No</td>\n      <td>Extended</td>\n      <td>College</td>\n      <td>2011-02-03</td>\n      <td>Employed</td>\n      <td>M</td>\n      <td>21941</td>\n      <td>Suburban</td>\n      <td>...</td>\n      <td>Personal L2</td>\n      <td>Offer3</td>\n      <td>Branch</td>\n      <td>691.200000</td>\n      <td>Four-Door Car</td>\n      <td>Large</td>\n      <td>2</td>\n      <td>2011</td>\n      <td>8.926045</td>\n      <td>8.896183</td>\n    </tr>\n    <tr>\n      <th>9133</th>\n      <td>Y167826</td>\n      <td>California</td>\n      <td>No</td>\n      <td>Extended</td>\n      <td>College</td>\n      <td>2011-02-14</td>\n      <td>Unemployed</td>\n      <td>M</td>\n      <td>0</td>\n      <td>Suburban</td>\n      <td>...</td>\n      <td>Corporate L3</td>\n      <td>Offer4</td>\n      <td>Call Center</td>\n      <td>369.600000</td>\n      <td>Two-Door Car</td>\n      <td>Medsize</td>\n      <td>2</td>\n      <td>2011</td>\n      <td>7.868192</td>\n      <td>8.022823</td>\n    </tr>\n  </tbody>\n</table>\n<p>9134 rows × 27 columns</p>\n</div>"
     },
     "metadata": {}
    }
   ]
  },
  {
   "cell_type": "markdown",
   "source": "<a style='text-decoration:none;line-height:16px;display:flex;color:#5B5B62;padding:10px;justify-content:end;' href='https://deepnote.com?utm_source=created-in-deepnote-cell&projectId=8fd894ed-7cb5-4f70-9097-b20c180a3837' target=\"_blank\">\n<img alt='Created in deepnote.com' style='display:inline;max-height:16px;margin:0px;margin-right:7.5px;' src='data:image/svg+xml;base64,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' > </img>\nCreated in <span style='font-weight:600;margin-left:4px;'>Deepnote</span></a>",
   "metadata": {
    "tags": [],
    "created_in_deepnote_cell": true,
    "deepnote_cell_type": "markdown"
   }
  }
 ],
 "nbformat": 4,
 "nbformat_minor": 2,
 "metadata": {
  "orig_nbformat": 2,
  "deepnote": {
   "is_reactive": false
  },
  "deepnote_notebook_id": "ab1ee90e-bda7-4613-b8e9-e77af90673b6",
  "deepnote_execution_queue": []
 }
}