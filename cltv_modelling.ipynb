{
 "cells": [
  {
   "cell_type": "code",
   "metadata": {
    "tags": [],
    "cell_id": "00000-fcf521d9-501c-453a-af5c-d6500fe66fc2",
    "deepnote_to_be_reexecuted": false,
    "source_hash": "87d1a2cf",
    "execution_start": 1639648907085,
    "execution_millis": 6294,
    "deepnote_cell_type": "code"
   },
   "source": "import pandas as pd\nimport seaborn as sns\nimport matplotlib.pyplot as plt\nimport datetime\nimport numpy as np\nfrom sklearn.preprocessing import LabelBinarizer, StandardScaler\nfrom sklearn.model_selection import train_test_split\nfrom sklearn.metrics import mean_absolute_error\nfrom statsmodels.stats.outliers_influence import variance_inflation_factor\nfrom statsmodels.tools.tools import add_constant",
   "execution_count": 1,
   "outputs": []
  },
  {
   "cell_type": "markdown",
   "source": "https://www.kaggle.com/ravijeetkr/customer-life-time-value-prediction",
   "metadata": {
    "tags": [],
    "cell_id": "00001-42e99d2b-afb2-4f35-87ea-98646661e135",
    "deepnote_cell_type": "markdown"
   }
  },
  {
   "cell_type": "code",
   "metadata": {
    "tags": [],
    "cell_id": "00001-9085412b-d32a-40e4-b6b6-7558a29121ae",
    "deepnote_to_be_reexecuted": false,
    "source_hash": "1281fd05",
    "execution_start": 1639648913399,
    "execution_millis": 117,
    "deepnote_cell_type": "code"
   },
   "source": "df = pd.read_csv('cltv_data.csv')",
   "execution_count": 2,
   "outputs": []
  },
  {
   "cell_type": "code",
   "metadata": {
    "tags": [],
    "cell_id": "00002-dbdfd0ff-304b-48d4-8e20-fd2089b1ad48",
    "deepnote_to_be_reexecuted": false,
    "source_hash": "de1e323c",
    "execution_start": 1639648913526,
    "execution_millis": 260,
    "deepnote_cell_type": "code"
   },
   "source": "df.info()",
   "execution_count": 3,
   "outputs": [
    {
     "name": "stdout",
     "text": "<class 'pandas.core.frame.DataFrame'>\nRangeIndex: 9134 entries, 0 to 9133\nData columns (total 24 columns):\n #   Column                         Non-Null Count  Dtype  \n---  ------                         --------------  -----  \n 0   Customer                       9134 non-null   object \n 1   State                          9134 non-null   object \n 2   Customer Lifetime Value        9134 non-null   float64\n 3   Response                       9134 non-null   object \n 4   Coverage                       9134 non-null   object \n 5   Education                      9134 non-null   object \n 6   Effective To Date              9134 non-null   object \n 7   EmploymentStatus               9134 non-null   object \n 8   Gender                         9134 non-null   object \n 9   Income                         9134 non-null   int64  \n 10  Location Code                  9134 non-null   object \n 11  Marital Status                 9134 non-null   object \n 12  Monthly Premium Auto           9134 non-null   int64  \n 13  Months Since Last Claim        9134 non-null   int64  \n 14  Months Since Policy Inception  9134 non-null   int64  \n 15  Number of Open Complaints      9134 non-null   int64  \n 16  Number of Policies             9134 non-null   int64  \n 17  Policy Type                    9134 non-null   object \n 18  Policy                         9134 non-null   object \n 19  Renew Offer Type               9134 non-null   object \n 20  Sales Channel                  9134 non-null   object \n 21  Total Claim Amount             9134 non-null   float64\n 22  Vehicle Class                  9134 non-null   object \n 23  Vehicle Size                   9134 non-null   object \ndtypes: float64(2), int64(6), object(16)\nmemory usage: 1.7+ MB\n",
     "output_type": "stream",
     "data": {}
    }
   ]
  },
  {
   "cell_type": "code",
   "metadata": {
    "tags": [],
    "cell_id": "00003-0bcf53b3-4a59-43dd-8352-2b5958fe9d23",
    "deepnote_to_be_reexecuted": false,
    "source_hash": "c085b6ba",
    "execution_start": 1639648913618,
    "execution_millis": 485,
    "deepnote_cell_type": "code"
   },
   "source": "df.head()",
   "execution_count": 4,
   "outputs": [
    {
     "output_type": "execute_result",
     "execution_count": 4,
     "data": {
      "application/vnd.deepnote.dataframe.v3+json": {
       "column_count": 24,
       "row_count": 5,
       "columns": [
        {
         "name": "Customer",
         "dtype": "object",
         "stats": {
          "unique_count": 5,
          "nan_count": 0,
          "categories": [
           {
            "name": "BU79786",
            "count": 1
           },
           {
            "name": "QZ44356",
            "count": 1
           },
           {
            "name": "3 others",
            "count": 3
           }
          ]
         }
        },
        {
         "name": "State",
         "dtype": "object",
         "stats": {
          "unique_count": 4,
          "nan_count": 0,
          "categories": [
           {
            "name": "Washington",
            "count": 2
           },
           {
            "name": "Arizona",
            "count": 1
           },
           {
            "name": "2 others",
            "count": 2
           }
          ]
         }
        },
        {
         "name": "Customer Lifetime Value",
         "dtype": "float64",
         "stats": {
          "unique_count": 5,
          "nan_count": 0,
          "min": "2763.519279",
          "max": "12887.43165",
          "histogram": [
           {
            "bin_start": 2763.519279,
            "bin_end": 3775.9105161,
            "count": 2
           },
           {
            "bin_start": 3775.9105161,
            "bin_end": 4788.3017532,
            "count": 0
           },
           {
            "bin_start": 4788.3017532,
            "bin_end": 5800.6929903,
            "count": 0
           },
           {
            "bin_start": 5800.6929903,
            "bin_end": 6813.084227400001,
            "count": 0
           },
           {
            "bin_start": 6813.084227400001,
            "bin_end": 7825.4754645,
            "count": 2
           },
           {
            "bin_start": 7825.4754645,
            "bin_end": 8837.8667016,
            "count": 0
           },
           {
            "bin_start": 8837.8667016,
            "bin_end": 9850.2579387,
            "count": 0
           },
           {
            "bin_start": 9850.2579387,
            "bin_end": 10862.649175800001,
            "count": 0
           },
           {
            "bin_start": 10862.649175800001,
            "bin_end": 11875.0404129,
            "count": 0
           },
           {
            "bin_start": 11875.0404129,
            "bin_end": 12887.43165,
            "count": 1
           }
          ]
         }
        },
        {
         "name": "Response",
         "dtype": "object",
         "stats": {
          "unique_count": 1,
          "nan_count": 0,
          "categories": [
           {
            "name": "No",
            "count": 5
           }
          ]
         }
        },
        {
         "name": "Coverage",
         "dtype": "object",
         "stats": {
          "unique_count": 3,
          "nan_count": 0,
          "categories": [
           {
            "name": "Basic",
            "count": 3
           },
           {
            "name": "Extended",
            "count": 1
           },
           {
            "name": "Premium",
            "count": 1
           }
          ]
         }
        },
        {
         "name": "Education",
         "dtype": "object",
         "stats": {
          "unique_count": 1,
          "nan_count": 0,
          "categories": [
           {
            "name": "Bachelor",
            "count": 5
           }
          ]
         }
        },
        {
         "name": "Effective To Date",
         "dtype": "object",
         "stats": {
          "unique_count": 5,
          "nan_count": 0,
          "categories": [
           {
            "name": "2/24/11",
            "count": 1
           },
           {
            "name": "1/31/11",
            "count": 1
           },
           {
            "name": "3 others",
            "count": 3
           }
          ]
         }
        },
        {
         "name": "EmploymentStatus",
         "dtype": "object",
         "stats": {
          "unique_count": 2,
          "nan_count": 0,
          "categories": [
           {
            "name": "Employed",
            "count": 3
           },
           {
            "name": "Unemployed",
            "count": 2
           }
          ]
         }
        },
        {
         "name": "Gender",
         "dtype": "object",
         "stats": {
          "unique_count": 2,
          "nan_count": 0,
          "categories": [
           {
            "name": "F",
            "count": 3
           },
           {
            "name": "M",
            "count": 2
           }
          ]
         }
        },
        {
         "name": "Income",
         "dtype": "int64",
         "stats": {
          "unique_count": 4,
          "nan_count": 0,
          "min": "0",
          "max": "56274",
          "histogram": [
           {
            "bin_start": 0,
            "bin_end": 5627.4,
            "count": 2
           },
           {
            "bin_start": 5627.4,
            "bin_end": 11254.8,
            "count": 0
           },
           {
            "bin_start": 11254.8,
            "bin_end": 16882.199999999997,
            "count": 0
           },
           {
            "bin_start": 16882.199999999997,
            "bin_end": 22509.6,
            "count": 0
           },
           {
            "bin_start": 22509.6,
            "bin_end": 28137,
            "count": 0
           },
           {
            "bin_start": 28137,
            "bin_end": 33764.399999999994,
            "count": 0
           },
           {
            "bin_start": 33764.399999999994,
            "bin_end": 39391.799999999996,
            "count": 0
           },
           {
            "bin_start": 39391.799999999996,
            "bin_end": 45019.2,
            "count": 1
           },
           {
            "bin_start": 45019.2,
            "bin_end": 50646.6,
            "count": 1
           },
           {
            "bin_start": 50646.6,
            "bin_end": 56274,
            "count": 1
           }
          ]
         }
        },
        {
         "name": "Location Code",
         "dtype": "object",
         "stats": {
          "unique_count": 2,
          "nan_count": 0,
          "categories": [
           {
            "name": "Suburban",
            "count": 4
           },
           {
            "name": "Rural",
            "count": 1
           }
          ]
         }
        },
        {
         "name": "Marital Status",
         "dtype": "object",
         "stats": {
          "unique_count": 2,
          "nan_count": 0,
          "categories": [
           {
            "name": "Married",
            "count": 3
           },
           {
            "name": "Single",
            "count": 2
           }
          ]
         }
        },
        {
         "name": "Monthly Premium Auto",
         "dtype": "int64",
         "stats": {
          "unique_count": 5,
          "nan_count": 0,
          "min": "69",
          "max": "108",
          "histogram": [
           {
            "bin_start": 69,
            "bin_end": 72.9,
            "count": 1
           },
           {
            "bin_start": 72.9,
            "bin_end": 76.8,
            "count": 1
           },
           {
            "bin_start": 76.8,
            "bin_end": 80.7,
            "count": 0
           },
           {
            "bin_start": 80.7,
            "bin_end": 84.6,
            "count": 0
           },
           {
            "bin_start": 84.6,
            "bin_end": 88.5,
            "count": 0
           },
           {
            "bin_start": 88.5,
            "bin_end": 92.4,
            "count": 0
           },
           {
            "bin_start": 92.4,
            "bin_end": 96.3,
            "count": 1
           },
           {
            "bin_start": 96.3,
            "bin_end": 100.2,
            "count": 0
           },
           {
            "bin_start": 100.2,
            "bin_end": 104.1,
            "count": 0
           },
           {
            "bin_start": 104.1,
            "bin_end": 108,
            "count": 2
           }
          ]
         }
        },
        {
         "name": "Months Since Last Claim",
         "dtype": "int64",
         "stats": {
          "unique_count": 4,
          "nan_count": 0,
          "min": "12",
          "max": "32",
          "histogram": [
           {
            "bin_start": 12,
            "bin_end": 14,
            "count": 2
           },
           {
            "bin_start": 14,
            "bin_end": 16,
            "count": 0
           },
           {
            "bin_start": 16,
            "bin_end": 18,
            "count": 0
           },
           {
            "bin_start": 18,
            "bin_end": 20,
            "count": 2
           },
           {
            "bin_start": 20,
            "bin_end": 22,
            "count": 0
           },
           {
            "bin_start": 22,
            "bin_end": 24,
            "count": 0
           },
           {
            "bin_start": 24,
            "bin_end": 26,
            "count": 0
           },
           {
            "bin_start": 26,
            "bin_end": 28,
            "count": 0
           },
           {
            "bin_start": 28,
            "bin_end": 30,
            "count": 0
           },
           {
            "bin_start": 30,
            "bin_end": 32,
            "count": 1
           }
          ]
         }
        },
        {
         "name": "Months Since Policy Inception",
         "dtype": "int64",
         "stats": {
          "unique_count": 5,
          "nan_count": 0,
          "min": "5",
          "max": "65",
          "histogram": [
           {
            "bin_start": 5,
            "bin_end": 11,
            "count": 1
           },
           {
            "bin_start": 11,
            "bin_end": 17,
            "count": 0
           },
           {
            "bin_start": 17,
            "bin_end": 23,
            "count": 0
           },
           {
            "bin_start": 23,
            "bin_end": 29,
            "count": 0
           },
           {
            "bin_start": 29,
            "bin_end": 35,
            "count": 0
           },
           {
            "bin_start": 35,
            "bin_end": 41,
            "count": 1
           },
           {
            "bin_start": 41,
            "bin_end": 47,
            "count": 2
           },
           {
            "bin_start": 47,
            "bin_end": 53,
            "count": 0
           },
           {
            "bin_start": 53,
            "bin_end": 59,
            "count": 0
           },
           {
            "bin_start": 59,
            "bin_end": 65,
            "count": 1
           }
          ]
         }
        },
        {
         "name": "Number of Open Complaints",
         "dtype": "int64",
         "stats": {
          "unique_count": 1,
          "nan_count": 0,
          "min": "0",
          "max": "0",
          "histogram": [
           {
            "bin_start": -0.5,
            "bin_end": -0.4,
            "count": 0
           },
           {
            "bin_start": -0.4,
            "bin_end": -0.3,
            "count": 0
           },
           {
            "bin_start": -0.3,
            "bin_end": -0.19999999999999996,
            "count": 0
           },
           {
            "bin_start": -0.19999999999999996,
            "bin_end": -0.09999999999999998,
            "count": 0
           },
           {
            "bin_start": -0.09999999999999998,
            "bin_end": 0,
            "count": 0
           },
           {
            "bin_start": 0,
            "bin_end": 0.10000000000000009,
            "count": 5
           },
           {
            "bin_start": 0.10000000000000009,
            "bin_end": 0.20000000000000007,
            "count": 0
           },
           {
            "bin_start": 0.20000000000000007,
            "bin_end": 0.30000000000000004,
            "count": 0
           },
           {
            "bin_start": 0.30000000000000004,
            "bin_end": 0.4,
            "count": 0
           },
           {
            "bin_start": 0.4,
            "bin_end": 0.5,
            "count": 0
           }
          ]
         }
        },
        {
         "name": "Number of Policies",
         "dtype": "int64",
         "stats": {
          "unique_count": 4,
          "nan_count": 0,
          "min": "1",
          "max": "8",
          "histogram": [
           {
            "bin_start": 1,
            "bin_end": 1.7,
            "count": 2
           },
           {
            "bin_start": 1.7,
            "bin_end": 2.4,
            "count": 1
           },
           {
            "bin_start": 2.4,
            "bin_end": 3.0999999999999996,
            "count": 0
           },
           {
            "bin_start": 3.0999999999999996,
            "bin_end": 3.8,
            "count": 0
           },
           {
            "bin_start": 3.8,
            "bin_end": 4.5,
            "count": 0
           },
           {
            "bin_start": 4.5,
            "bin_end": 5.199999999999999,
            "count": 0
           },
           {
            "bin_start": 5.199999999999999,
            "bin_end": 5.8999999999999995,
            "count": 0
           },
           {
            "bin_start": 5.8999999999999995,
            "bin_end": 6.6,
            "count": 0
           },
           {
            "bin_start": 6.6,
            "bin_end": 7.3,
            "count": 1
           },
           {
            "bin_start": 7.3,
            "bin_end": 8,
            "count": 1
           }
          ]
         }
        },
        {
         "name": "Policy Type",
         "dtype": "object",
         "stats": {
          "unique_count": 2,
          "nan_count": 0,
          "categories": [
           {
            "name": "Personal Auto",
            "count": 3
           },
           {
            "name": "Corporate Auto",
            "count": 2
           }
          ]
         }
        },
        {
         "name": "Policy",
         "dtype": "object",
         "stats": {
          "unique_count": 4,
          "nan_count": 0,
          "categories": [
           {
            "name": "Personal L3",
            "count": 2
           },
           {
            "name": "Corporate L3",
            "count": 1
           },
           {
            "name": "2 others",
            "count": 2
           }
          ]
         }
        },
        {
         "name": "Renew Offer Type",
         "dtype": "object",
         "stats": {
          "unique_count": 2,
          "nan_count": 0,
          "categories": [
           {
            "name": "Offer1",
            "count": 4
           },
           {
            "name": "Offer3",
            "count": 1
           }
          ]
         }
        },
        {
         "name": "Sales Channel",
         "dtype": "object",
         "stats": {
          "unique_count": 2,
          "nan_count": 0,
          "categories": [
           {
            "name": "Agent",
            "count": 4
           },
           {
            "name": "Call Center",
            "count": 1
           }
          ]
         }
        },
        {
         "name": "Total Claim Amount",
         "dtype": "float64",
         "stats": {
          "unique_count": 5,
          "nan_count": 0,
          "min": "138.130879",
          "max": "1131.464935",
          "histogram": [
           {
            "bin_start": 138.130879,
            "bin_end": 237.46428459999998,
            "count": 1
           },
           {
            "bin_start": 237.46428459999998,
            "bin_end": 336.7976902,
            "count": 0
           },
           {
            "bin_start": 336.7976902,
            "bin_end": 436.13109579999997,
            "count": 1
           },
           {
            "bin_start": 436.13109579999997,
            "bin_end": 535.4645014,
            "count": 1
           },
           {
            "bin_start": 535.4645014,
            "bin_end": 634.7979069999999,
            "count": 1
           },
           {
            "bin_start": 634.7979069999999,
            "bin_end": 734.1313126,
            "count": 0
           },
           {
            "bin_start": 734.1313126,
            "bin_end": 833.4647181999999,
            "count": 0
           },
           {
            "bin_start": 833.4647181999999,
            "bin_end": 932.7981238,
            "count": 0
           },
           {
            "bin_start": 932.7981238,
            "bin_end": 1032.1315293999999,
            "count": 0
           },
           {
            "bin_start": 1032.1315293999999,
            "bin_end": 1131.464935,
            "count": 1
           }
          ]
         }
        },
        {
         "name": "Vehicle Class",
         "dtype": "object",
         "stats": {
          "unique_count": 3,
          "nan_count": 0,
          "categories": [
           {
            "name": "Two-Door Car",
            "count": 2
           },
           {
            "name": "Four-Door Car",
            "count": 2
           },
           {
            "name": "SUV",
            "count": 1
           }
          ]
         }
        },
        {
         "name": "Vehicle Size",
         "dtype": "object",
         "stats": {
          "unique_count": 1,
          "nan_count": 0,
          "categories": [
           {
            "name": "Medsize",
            "count": 5
           }
          ]
         }
        },
        {
         "name": "_deepnote_index_column",
         "dtype": "int64"
        }
       ],
       "rows": [
        {
         "Customer": "BU79786",
         "State": "Washington",
         "Customer Lifetime Value": 2763.519279,
         "Response": "No",
         "Coverage": "Basic",
         "Education": "Bachelor",
         "Effective To Date": "2/24/11",
         "EmploymentStatus": "Employed",
         "Gender": "F",
         "Income": 56274,
         "Location Code": "Suburban",
         "Marital Status": "Married",
         "Monthly Premium Auto": 69,
         "Months Since Last Claim": 32,
         "Months Since Policy Inception": 5,
         "Number of Open Complaints": 0,
         "Number of Policies": 1,
         "Policy Type": "Corporate Auto",
         "Policy": "Corporate L3",
         "Renew Offer Type": "Offer1",
         "Sales Channel": "Agent",
         "Total Claim Amount": 384.811147,
         "Vehicle Class": "Two-Door Car",
         "Vehicle Size": "Medsize",
         "_deepnote_index_column": 0
        },
        {
         "Customer": "QZ44356",
         "State": "Arizona",
         "Customer Lifetime Value": 6979.535903,
         "Response": "No",
         "Coverage": "Extended",
         "Education": "Bachelor",
         "Effective To Date": "1/31/11",
         "EmploymentStatus": "Unemployed",
         "Gender": "F",
         "Income": 0,
         "Location Code": "Suburban",
         "Marital Status": "Single",
         "Monthly Premium Auto": 94,
         "Months Since Last Claim": 13,
         "Months Since Policy Inception": 42,
         "Number of Open Complaints": 0,
         "Number of Policies": 8,
         "Policy Type": "Personal Auto",
         "Policy": "Personal L3",
         "Renew Offer Type": "Offer3",
         "Sales Channel": "Agent",
         "Total Claim Amount": 1131.464935,
         "Vehicle Class": "Four-Door Car",
         "Vehicle Size": "Medsize",
         "_deepnote_index_column": 1
        },
        {
         "Customer": "AI49188",
         "State": "Nevada",
         "Customer Lifetime Value": 12887.43165,
         "Response": "No",
         "Coverage": "Premium",
         "Education": "Bachelor",
         "Effective To Date": "2/19/11",
         "EmploymentStatus": "Employed",
         "Gender": "F",
         "Income": 48767,
         "Location Code": "Suburban",
         "Marital Status": "Married",
         "Monthly Premium Auto": 108,
         "Months Since Last Claim": 18,
         "Months Since Policy Inception": 38,
         "Number of Open Complaints": 0,
         "Number of Policies": 2,
         "Policy Type": "Personal Auto",
         "Policy": "Personal L3",
         "Renew Offer Type": "Offer1",
         "Sales Channel": "Agent",
         "Total Claim Amount": 566.472247,
         "Vehicle Class": "Two-Door Car",
         "Vehicle Size": "Medsize",
         "_deepnote_index_column": 2
        },
        {
         "Customer": "WW63253",
         "State": "California",
         "Customer Lifetime Value": 7645.861827,
         "Response": "No",
         "Coverage": "Basic",
         "Education": "Bachelor",
         "Effective To Date": "1/20/11",
         "EmploymentStatus": "Unemployed",
         "Gender": "M",
         "Income": 0,
         "Location Code": "Suburban",
         "Marital Status": "Married",
         "Monthly Premium Auto": 106,
         "Months Since Last Claim": 18,
         "Months Since Policy Inception": 65,
         "Number of Open Complaints": 0,
         "Number of Policies": 7,
         "Policy Type": "Corporate Auto",
         "Policy": "Corporate L2",
         "Renew Offer Type": "Offer1",
         "Sales Channel": "Call Center",
         "Total Claim Amount": 529.881344,
         "Vehicle Class": "SUV",
         "Vehicle Size": "Medsize",
         "_deepnote_index_column": 3
        },
        {
         "Customer": "HB64268",
         "State": "Washington",
         "Customer Lifetime Value": 2813.692575,
         "Response": "No",
         "Coverage": "Basic",
         "Education": "Bachelor",
         "Effective To Date": "2/3/11",
         "EmploymentStatus": "Employed",
         "Gender": "M",
         "Income": 43836,
         "Location Code": "Rural",
         "Marital Status": "Single",
         "Monthly Premium Auto": 73,
         "Months Since Last Claim": 12,
         "Months Since Policy Inception": 44,
         "Number of Open Complaints": 0,
         "Number of Policies": 1,
         "Policy Type": "Personal Auto",
         "Policy": "Personal L1",
         "Renew Offer Type": "Offer1",
         "Sales Channel": "Agent",
         "Total Claim Amount": 138.130879,
         "Vehicle Class": "Four-Door Car",
         "Vehicle Size": "Medsize",
         "_deepnote_index_column": 4
        }
       ]
      },
      "text/plain": "  Customer       State  Customer Lifetime Value Response  Coverage Education  \\\n0  BU79786  Washington              2763.519279       No     Basic  Bachelor   \n1  QZ44356     Arizona              6979.535903       No  Extended  Bachelor   \n2  AI49188      Nevada             12887.431650       No   Premium  Bachelor   \n3  WW63253  California              7645.861827       No     Basic  Bachelor   \n4  HB64268  Washington              2813.692575       No     Basic  Bachelor   \n\n  Effective To Date EmploymentStatus Gender  Income  ...  \\\n0           2/24/11         Employed      F   56274  ...   \n1           1/31/11       Unemployed      F       0  ...   \n2           2/19/11         Employed      F   48767  ...   \n3           1/20/11       Unemployed      M       0  ...   \n4            2/3/11         Employed      M   43836  ...   \n\n  Months Since Policy Inception Number of Open Complaints  Number of Policies  \\\n0                             5                         0                   1   \n1                            42                         0                   8   \n2                            38                         0                   2   \n3                            65                         0                   7   \n4                            44                         0                   1   \n\n      Policy Type        Policy  Renew Offer Type  Sales Channel  \\\n0  Corporate Auto  Corporate L3            Offer1          Agent   \n1   Personal Auto   Personal L3            Offer3          Agent   \n2   Personal Auto   Personal L3            Offer1          Agent   \n3  Corporate Auto  Corporate L2            Offer1    Call Center   \n4   Personal Auto   Personal L1            Offer1          Agent   \n\n  Total Claim Amount  Vehicle Class Vehicle Size  \n0         384.811147   Two-Door Car      Medsize  \n1        1131.464935  Four-Door Car      Medsize  \n2         566.472247   Two-Door Car      Medsize  \n3         529.881344            SUV      Medsize  \n4         138.130879  Four-Door Car      Medsize  \n\n[5 rows x 24 columns]",
      "text/html": "<div>\n<style scoped>\n    .dataframe tbody tr th:only-of-type {\n        vertical-align: middle;\n    }\n\n    .dataframe tbody tr th {\n        vertical-align: top;\n    }\n\n    .dataframe thead th {\n        text-align: right;\n    }\n</style>\n<table border=\"1\" class=\"dataframe\">\n  <thead>\n    <tr style=\"text-align: right;\">\n      <th></th>\n      <th>Customer</th>\n      <th>State</th>\n      <th>Customer Lifetime Value</th>\n      <th>Response</th>\n      <th>Coverage</th>\n      <th>Education</th>\n      <th>Effective To Date</th>\n      <th>EmploymentStatus</th>\n      <th>Gender</th>\n      <th>Income</th>\n      <th>...</th>\n      <th>Months Since Policy Inception</th>\n      <th>Number of Open Complaints</th>\n      <th>Number of Policies</th>\n      <th>Policy Type</th>\n      <th>Policy</th>\n      <th>Renew Offer Type</th>\n      <th>Sales Channel</th>\n      <th>Total Claim Amount</th>\n      <th>Vehicle Class</th>\n      <th>Vehicle Size</th>\n    </tr>\n  </thead>\n  <tbody>\n    <tr>\n      <th>0</th>\n      <td>BU79786</td>\n      <td>Washington</td>\n      <td>2763.519279</td>\n      <td>No</td>\n      <td>Basic</td>\n      <td>Bachelor</td>\n      <td>2/24/11</td>\n      <td>Employed</td>\n      <td>F</td>\n      <td>56274</td>\n      <td>...</td>\n      <td>5</td>\n      <td>0</td>\n      <td>1</td>\n      <td>Corporate Auto</td>\n      <td>Corporate L3</td>\n      <td>Offer1</td>\n      <td>Agent</td>\n      <td>384.811147</td>\n      <td>Two-Door Car</td>\n      <td>Medsize</td>\n    </tr>\n    <tr>\n      <th>1</th>\n      <td>QZ44356</td>\n      <td>Arizona</td>\n      <td>6979.535903</td>\n      <td>No</td>\n      <td>Extended</td>\n      <td>Bachelor</td>\n      <td>1/31/11</td>\n      <td>Unemployed</td>\n      <td>F</td>\n      <td>0</td>\n      <td>...</td>\n      <td>42</td>\n      <td>0</td>\n      <td>8</td>\n      <td>Personal Auto</td>\n      <td>Personal L3</td>\n      <td>Offer3</td>\n      <td>Agent</td>\n      <td>1131.464935</td>\n      <td>Four-Door Car</td>\n      <td>Medsize</td>\n    </tr>\n    <tr>\n      <th>2</th>\n      <td>AI49188</td>\n      <td>Nevada</td>\n      <td>12887.431650</td>\n      <td>No</td>\n      <td>Premium</td>\n      <td>Bachelor</td>\n      <td>2/19/11</td>\n      <td>Employed</td>\n      <td>F</td>\n      <td>48767</td>\n      <td>...</td>\n      <td>38</td>\n      <td>0</td>\n      <td>2</td>\n      <td>Personal Auto</td>\n      <td>Personal L3</td>\n      <td>Offer1</td>\n      <td>Agent</td>\n      <td>566.472247</td>\n      <td>Two-Door Car</td>\n      <td>Medsize</td>\n    </tr>\n    <tr>\n      <th>3</th>\n      <td>WW63253</td>\n      <td>California</td>\n      <td>7645.861827</td>\n      <td>No</td>\n      <td>Basic</td>\n      <td>Bachelor</td>\n      <td>1/20/11</td>\n      <td>Unemployed</td>\n      <td>M</td>\n      <td>0</td>\n      <td>...</td>\n      <td>65</td>\n      <td>0</td>\n      <td>7</td>\n      <td>Corporate Auto</td>\n      <td>Corporate L2</td>\n      <td>Offer1</td>\n      <td>Call Center</td>\n      <td>529.881344</td>\n      <td>SUV</td>\n      <td>Medsize</td>\n    </tr>\n    <tr>\n      <th>4</th>\n      <td>HB64268</td>\n      <td>Washington</td>\n      <td>2813.692575</td>\n      <td>No</td>\n      <td>Basic</td>\n      <td>Bachelor</td>\n      <td>2/3/11</td>\n      <td>Employed</td>\n      <td>M</td>\n      <td>43836</td>\n      <td>...</td>\n      <td>44</td>\n      <td>0</td>\n      <td>1</td>\n      <td>Personal Auto</td>\n      <td>Personal L1</td>\n      <td>Offer1</td>\n      <td>Agent</td>\n      <td>138.130879</td>\n      <td>Four-Door Car</td>\n      <td>Medsize</td>\n    </tr>\n  </tbody>\n</table>\n<p>5 rows × 24 columns</p>\n</div>"
     },
     "metadata": {}
    }
   ]
  },
  {
   "cell_type": "code",
   "metadata": {
    "tags": [],
    "cell_id": "00004-67078e4c-58ab-481e-8bd3-44655b4bec39",
    "deepnote_to_be_reexecuted": false,
    "source_hash": "f88152d9",
    "execution_start": 1639648914111,
    "execution_millis": 279,
    "deepnote_cell_type": "code"
   },
   "source": "df.describe()",
   "execution_count": 5,
   "outputs": [
    {
     "output_type": "execute_result",
     "execution_count": 5,
     "data": {
      "application/vnd.deepnote.dataframe.v3+json": {
       "column_count": 8,
       "row_count": 8,
       "columns": [
        {
         "name": "Customer Lifetime Value",
         "dtype": "float64",
         "stats": {
          "unique_count": 8,
          "nan_count": 0,
          "min": "1898.007675",
          "max": "83325.38119",
          "histogram": [
           {
            "bin_start": 1898.007675,
            "bin_end": 10040.7450265,
            "count": 7
           },
           {
            "bin_start": 10040.7450265,
            "bin_end": 18183.482378,
            "count": 0
           },
           {
            "bin_start": 18183.482378,
            "bin_end": 26326.2197295,
            "count": 0
           },
           {
            "bin_start": 26326.2197295,
            "bin_end": 34468.957081,
            "count": 0
           },
           {
            "bin_start": 34468.957081,
            "bin_end": 42611.6944325,
            "count": 0
           },
           {
            "bin_start": 42611.6944325,
            "bin_end": 50754.431784,
            "count": 0
           },
           {
            "bin_start": 50754.431784,
            "bin_end": 58897.1691355,
            "count": 0
           },
           {
            "bin_start": 58897.1691355,
            "bin_end": 67039.906487,
            "count": 0
           },
           {
            "bin_start": 67039.906487,
            "bin_end": 75182.6438385,
            "count": 0
           },
           {
            "bin_start": 75182.6438385,
            "bin_end": 83325.38119,
            "count": 1
           }
          ]
         }
        },
        {
         "name": "Income",
         "dtype": "float64",
         "stats": {
          "unique_count": 7,
          "nan_count": 0,
          "min": "0.0",
          "max": "99981.0",
          "histogram": [
           {
            "bin_start": 0,
            "bin_end": 9998.1,
            "count": 3
           },
           {
            "bin_start": 9998.1,
            "bin_end": 19996.2,
            "count": 0
           },
           {
            "bin_start": 19996.2,
            "bin_end": 29994.300000000003,
            "count": 0
           },
           {
            "bin_start": 29994.300000000003,
            "bin_end": 39992.4,
            "count": 3
           },
           {
            "bin_start": 39992.4,
            "bin_end": 49990.5,
            "count": 0
           },
           {
            "bin_start": 49990.5,
            "bin_end": 59988.600000000006,
            "count": 0
           },
           {
            "bin_start": 59988.600000000006,
            "bin_end": 69986.7,
            "count": 1
           },
           {
            "bin_start": 69986.7,
            "bin_end": 79984.8,
            "count": 0
           },
           {
            "bin_start": 79984.8,
            "bin_end": 89982.90000000001,
            "count": 0
           },
           {
            "bin_start": 89982.90000000001,
            "bin_end": 99981,
            "count": 1
           }
          ]
         }
        },
        {
         "name": "Monthly Premium Auto",
         "dtype": "float64",
         "stats": {
          "unique_count": 8,
          "nan_count": 0,
          "min": "34.40796737178653",
          "max": "9134.0",
          "histogram": [
           {
            "bin_start": 34.40796737178653,
            "bin_end": 944.3671706346079,
            "count": 7
           },
           {
            "bin_start": 944.3671706346079,
            "bin_end": 1854.3263738974292,
            "count": 0
           },
           {
            "bin_start": 1854.3263738974292,
            "bin_end": 2764.2855771602503,
            "count": 0
           },
           {
            "bin_start": 2764.2855771602503,
            "bin_end": 3674.244780423072,
            "count": 0
           },
           {
            "bin_start": 3674.244780423072,
            "bin_end": 4584.203983685894,
            "count": 0
           },
           {
            "bin_start": 4584.203983685894,
            "bin_end": 5494.163186948715,
            "count": 0
           },
           {
            "bin_start": 5494.163186948715,
            "bin_end": 6404.122390211536,
            "count": 0
           },
           {
            "bin_start": 6404.122390211536,
            "bin_end": 7314.081593474358,
            "count": 0
           },
           {
            "bin_start": 7314.081593474358,
            "bin_end": 8224.04079673718,
            "count": 0
           },
           {
            "bin_start": 8224.04079673718,
            "bin_end": 9134,
            "count": 1
           }
          ]
         }
        },
        {
         "name": "Months Since Last Claim",
         "dtype": "float64",
         "stats": {
          "unique_count": 8,
          "nan_count": 0,
          "min": "0.0",
          "max": "9134.0",
          "histogram": [
           {
            "bin_start": 0,
            "bin_end": 913.4,
            "count": 7
           },
           {
            "bin_start": 913.4,
            "bin_end": 1826.8,
            "count": 0
           },
           {
            "bin_start": 1826.8,
            "bin_end": 2740.2,
            "count": 0
           },
           {
            "bin_start": 2740.2,
            "bin_end": 3653.6,
            "count": 0
           },
           {
            "bin_start": 3653.6,
            "bin_end": 4567,
            "count": 0
           },
           {
            "bin_start": 4567,
            "bin_end": 5480.4,
            "count": 0
           },
           {
            "bin_start": 5480.4,
            "bin_end": 6393.8,
            "count": 0
           },
           {
            "bin_start": 6393.8,
            "bin_end": 7307.2,
            "count": 0
           },
           {
            "bin_start": 7307.2,
            "bin_end": 8220.6,
            "count": 0
           },
           {
            "bin_start": 8220.6,
            "bin_end": 9134,
            "count": 1
           }
          ]
         }
        },
        {
         "name": "Months Since Policy Inception",
         "dtype": "float64",
         "stats": {
          "unique_count": 8,
          "nan_count": 0,
          "min": "0.0",
          "max": "9134.0",
          "histogram": [
           {
            "bin_start": 0,
            "bin_end": 913.4,
            "count": 7
           },
           {
            "bin_start": 913.4,
            "bin_end": 1826.8,
            "count": 0
           },
           {
            "bin_start": 1826.8,
            "bin_end": 2740.2,
            "count": 0
           },
           {
            "bin_start": 2740.2,
            "bin_end": 3653.6,
            "count": 0
           },
           {
            "bin_start": 3653.6,
            "bin_end": 4567,
            "count": 0
           },
           {
            "bin_start": 4567,
            "bin_end": 5480.4,
            "count": 0
           },
           {
            "bin_start": 5480.4,
            "bin_end": 6393.8,
            "count": 0
           },
           {
            "bin_start": 6393.8,
            "bin_end": 7307.2,
            "count": 0
           },
           {
            "bin_start": 7307.2,
            "bin_end": 8220.6,
            "count": 0
           },
           {
            "bin_start": 8220.6,
            "bin_end": 9134,
            "count": 1
           }
          ]
         }
        },
        {
         "name": "Number of Open Complaints",
         "dtype": "float64",
         "stats": {
          "unique_count": 5,
          "nan_count": 0,
          "min": "0.0",
          "max": "9134.0",
          "histogram": [
           {
            "bin_start": 0,
            "bin_end": 913.4,
            "count": 7
           },
           {
            "bin_start": 913.4,
            "bin_end": 1826.8,
            "count": 0
           },
           {
            "bin_start": 1826.8,
            "bin_end": 2740.2,
            "count": 0
           },
           {
            "bin_start": 2740.2,
            "bin_end": 3653.6,
            "count": 0
           },
           {
            "bin_start": 3653.6,
            "bin_end": 4567,
            "count": 0
           },
           {
            "bin_start": 4567,
            "bin_end": 5480.4,
            "count": 0
           },
           {
            "bin_start": 5480.4,
            "bin_end": 6393.8,
            "count": 0
           },
           {
            "bin_start": 6393.8,
            "bin_end": 7307.2,
            "count": 0
           },
           {
            "bin_start": 7307.2,
            "bin_end": 8220.6,
            "count": 0
           },
           {
            "bin_start": 8220.6,
            "bin_end": 9134,
            "count": 1
           }
          ]
         }
        },
        {
         "name": "Number of Policies",
         "dtype": "float64",
         "stats": {
          "unique_count": 7,
          "nan_count": 0,
          "min": "1.0",
          "max": "9134.0",
          "histogram": [
           {
            "bin_start": 1,
            "bin_end": 914.3,
            "count": 7
           },
           {
            "bin_start": 914.3,
            "bin_end": 1827.6,
            "count": 0
           },
           {
            "bin_start": 1827.6,
            "bin_end": 2740.8999999999996,
            "count": 0
           },
           {
            "bin_start": 2740.8999999999996,
            "bin_end": 3654.2,
            "count": 0
           },
           {
            "bin_start": 3654.2,
            "bin_end": 4567.5,
            "count": 0
           },
           {
            "bin_start": 4567.5,
            "bin_end": 5480.799999999999,
            "count": 0
           },
           {
            "bin_start": 5480.799999999999,
            "bin_end": 6394.099999999999,
            "count": 0
           },
           {
            "bin_start": 6394.099999999999,
            "bin_end": 7307.4,
            "count": 0
           },
           {
            "bin_start": 7307.4,
            "bin_end": 8220.699999999999,
            "count": 0
           },
           {
            "bin_start": 8220.699999999999,
            "bin_end": 9134,
            "count": 1
           }
          ]
         }
        },
        {
         "name": "Total Claim Amount",
         "dtype": "float64",
         "stats": {
          "unique_count": 8,
          "nan_count": 0,
          "min": "0.099007",
          "max": "9134.0",
          "histogram": [
           {
            "bin_start": 0.099007,
            "bin_end": 913.4891063,
            "count": 6
           },
           {
            "bin_start": 913.4891063,
            "bin_end": 1826.8792056,
            "count": 0
           },
           {
            "bin_start": 1826.8792056,
            "bin_end": 2740.2693049,
            "count": 0
           },
           {
            "bin_start": 2740.2693049,
            "bin_end": 3653.6594041999997,
            "count": 1
           },
           {
            "bin_start": 3653.6594041999997,
            "bin_end": 4567.049503499999,
            "count": 0
           },
           {
            "bin_start": 4567.049503499999,
            "bin_end": 5480.4396028,
            "count": 0
           },
           {
            "bin_start": 5480.4396028,
            "bin_end": 6393.8297021,
            "count": 0
           },
           {
            "bin_start": 6393.8297021,
            "bin_end": 7307.2198014,
            "count": 0
           },
           {
            "bin_start": 7307.2198014,
            "bin_end": 8220.609900700001,
            "count": 0
           },
           {
            "bin_start": 8220.609900700001,
            "bin_end": 9134,
            "count": 1
           }
          ]
         }
        },
        {
         "name": "_deepnote_index_column",
         "dtype": "object"
        }
       ],
       "rows": [
        {
         "Customer Lifetime Value": 9134,
         "Income": 9134,
         "Monthly Premium Auto": 9134,
         "Months Since Last Claim": 9134,
         "Months Since Policy Inception": 9134,
         "Number of Open Complaints": 9134,
         "Number of Policies": 9134,
         "Total Claim Amount": 9134,
         "_deepnote_index_column": "count"
        },
        {
         "Customer Lifetime Value": 8004.940474987081,
         "Income": 37657.38000875848,
         "Monthly Premium Auto": 93.21929056273265,
         "Months Since Last Claim": 15.097000218962119,
         "Months Since Policy Inception": 48.064593825268226,
         "Number of Open Complaints": 0.38438800087584846,
         "Number of Policies": 2.9661703525290126,
         "Total Claim Amount": 434.0887943128969,
         "_deepnote_index_column": "mean"
        },
        {
         "Customer Lifetime Value": 6870.9676083569375,
         "Income": 30379.9047338463,
         "Monthly Premium Auto": 34.40796737178653,
         "Months Since Last Claim": 10.073256571394225,
         "Months Since Policy Inception": 27.90599078426519,
         "Number of Open Complaints": 0.910383531613565,
         "Number of Policies": 2.3901818097011365,
         "Total Claim Amount": 290.5000918031134,
         "_deepnote_index_column": "std"
        },
        {
         "Customer Lifetime Value": 1898.007675,
         "Income": 0,
         "Monthly Premium Auto": 61,
         "Months Since Last Claim": 0,
         "Months Since Policy Inception": 0,
         "Number of Open Complaints": 0,
         "Number of Policies": 1,
         "Total Claim Amount": 0.099007,
         "_deepnote_index_column": "min"
        },
        {
         "Customer Lifetime Value": 3994.25179425,
         "Income": 0,
         "Monthly Premium Auto": 68,
         "Months Since Last Claim": 6,
         "Months Since Policy Inception": 24,
         "Number of Open Complaints": 0,
         "Number of Policies": 1,
         "Total Claim Amount": 272.2582445,
         "_deepnote_index_column": "25%"
        },
        {
         "Customer Lifetime Value": 5780.182197,
         "Income": 33889.5,
         "Monthly Premium Auto": 83,
         "Months Since Last Claim": 14,
         "Months Since Policy Inception": 48,
         "Number of Open Complaints": 0,
         "Number of Policies": 2,
         "Total Claim Amount": 383.94543350000004,
         "_deepnote_index_column": "50%"
        },
        {
         "Customer Lifetime Value": 8962.16704125,
         "Income": 62320,
         "Monthly Premium Auto": 109,
         "Months Since Last Claim": 23,
         "Months Since Policy Inception": 71,
         "Number of Open Complaints": 0,
         "Number of Policies": 4,
         "Total Claim Amount": 547.5148387500001,
         "_deepnote_index_column": "75%"
        },
        {
         "Customer Lifetime Value": 83325.38119,
         "Income": 99981,
         "Monthly Premium Auto": 298,
         "Months Since Last Claim": 35,
         "Months Since Policy Inception": 99,
         "Number of Open Complaints": 5,
         "Number of Policies": 9,
         "Total Claim Amount": 2893.239678,
         "_deepnote_index_column": "max"
        }
       ]
      },
      "text/plain": "       Customer Lifetime Value        Income  Monthly Premium Auto  \\\ncount              9134.000000   9134.000000           9134.000000   \nmean               8004.940475  37657.380009             93.219291   \nstd                6870.967608  30379.904734             34.407967   \nmin                1898.007675      0.000000             61.000000   \n25%                3994.251794      0.000000             68.000000   \n50%                5780.182197  33889.500000             83.000000   \n75%                8962.167041  62320.000000            109.000000   \nmax               83325.381190  99981.000000            298.000000   \n\n       Months Since Last Claim  Months Since Policy Inception  \\\ncount              9134.000000                    9134.000000   \nmean                 15.097000                      48.064594   \nstd                  10.073257                      27.905991   \nmin                   0.000000                       0.000000   \n25%                   6.000000                      24.000000   \n50%                  14.000000                      48.000000   \n75%                  23.000000                      71.000000   \nmax                  35.000000                      99.000000   \n\n       Number of Open Complaints  Number of Policies  Total Claim Amount  \ncount                9134.000000         9134.000000         9134.000000  \nmean                    0.384388            2.966170          434.088794  \nstd                     0.910384            2.390182          290.500092  \nmin                     0.000000            1.000000            0.099007  \n25%                     0.000000            1.000000          272.258244  \n50%                     0.000000            2.000000          383.945434  \n75%                     0.000000            4.000000          547.514839  \nmax                     5.000000            9.000000         2893.239678  ",
      "text/html": "<div>\n<style scoped>\n    .dataframe tbody tr th:only-of-type {\n        vertical-align: middle;\n    }\n\n    .dataframe tbody tr th {\n        vertical-align: top;\n    }\n\n    .dataframe thead th {\n        text-align: right;\n    }\n</style>\n<table border=\"1\" class=\"dataframe\">\n  <thead>\n    <tr style=\"text-align: right;\">\n      <th></th>\n      <th>Customer Lifetime Value</th>\n      <th>Income</th>\n      <th>Monthly Premium Auto</th>\n      <th>Months Since Last Claim</th>\n      <th>Months Since Policy Inception</th>\n      <th>Number of Open Complaints</th>\n      <th>Number of Policies</th>\n      <th>Total Claim Amount</th>\n    </tr>\n  </thead>\n  <tbody>\n    <tr>\n      <th>count</th>\n      <td>9134.000000</td>\n      <td>9134.000000</td>\n      <td>9134.000000</td>\n      <td>9134.000000</td>\n      <td>9134.000000</td>\n      <td>9134.000000</td>\n      <td>9134.000000</td>\n      <td>9134.000000</td>\n    </tr>\n    <tr>\n      <th>mean</th>\n      <td>8004.940475</td>\n      <td>37657.380009</td>\n      <td>93.219291</td>\n      <td>15.097000</td>\n      <td>48.064594</td>\n      <td>0.384388</td>\n      <td>2.966170</td>\n      <td>434.088794</td>\n    </tr>\n    <tr>\n      <th>std</th>\n      <td>6870.967608</td>\n      <td>30379.904734</td>\n      <td>34.407967</td>\n      <td>10.073257</td>\n      <td>27.905991</td>\n      <td>0.910384</td>\n      <td>2.390182</td>\n      <td>290.500092</td>\n    </tr>\n    <tr>\n      <th>min</th>\n      <td>1898.007675</td>\n      <td>0.000000</td>\n      <td>61.000000</td>\n      <td>0.000000</td>\n      <td>0.000000</td>\n      <td>0.000000</td>\n      <td>1.000000</td>\n      <td>0.099007</td>\n    </tr>\n    <tr>\n      <th>25%</th>\n      <td>3994.251794</td>\n      <td>0.000000</td>\n      <td>68.000000</td>\n      <td>6.000000</td>\n      <td>24.000000</td>\n      <td>0.000000</td>\n      <td>1.000000</td>\n      <td>272.258244</td>\n    </tr>\n    <tr>\n      <th>50%</th>\n      <td>5780.182197</td>\n      <td>33889.500000</td>\n      <td>83.000000</td>\n      <td>14.000000</td>\n      <td>48.000000</td>\n      <td>0.000000</td>\n      <td>2.000000</td>\n      <td>383.945434</td>\n    </tr>\n    <tr>\n      <th>75%</th>\n      <td>8962.167041</td>\n      <td>62320.000000</td>\n      <td>109.000000</td>\n      <td>23.000000</td>\n      <td>71.000000</td>\n      <td>0.000000</td>\n      <td>4.000000</td>\n      <td>547.514839</td>\n    </tr>\n    <tr>\n      <th>max</th>\n      <td>83325.381190</td>\n      <td>99981.000000</td>\n      <td>298.000000</td>\n      <td>35.000000</td>\n      <td>99.000000</td>\n      <td>5.000000</td>\n      <td>9.000000</td>\n      <td>2893.239678</td>\n    </tr>\n  </tbody>\n</table>\n</div>"
     },
     "metadata": {}
    }
   ]
  },
  {
   "cell_type": "code",
   "metadata": {
    "tags": [],
    "cell_id": "00008-323cf614-211b-4f51-8640-74154898c2c9",
    "deepnote_to_be_reexecuted": false,
    "source_hash": "ac30784",
    "execution_start": 1639648914403,
    "execution_millis": 37,
    "deepnote_cell_type": "code"
   },
   "source": "df['Effective To Date'] = pd.to_datetime(df['Effective To Date'])\ndf['effective_to_month'] = df['Effective To Date'].dt.month\ndf['effective_to_year'] = df['Effective To Date'].dt.year",
   "execution_count": 6,
   "outputs": []
  },
  {
   "cell_type": "code",
   "metadata": {
    "tags": [],
    "cell_id": "00009-a18ca1df-a8e7-4a3a-a7f3-3a19f17259eb",
    "deepnote_to_be_reexecuted": false,
    "source_hash": "7904c94d",
    "execution_start": 1639648914449,
    "execution_millis": 67,
    "deepnote_cell_type": "code"
   },
   "source": "## Making date features categorical\n\ndf['effective_to_month'] = df['effective_to_month'].astype('string')\ndf['effective_to_year'] = df['effective_to_year'].astype('string')",
   "execution_count": 7,
   "outputs": []
  },
  {
   "cell_type": "code",
   "metadata": {
    "tags": [],
    "cell_id": "00006-41a36606-09b3-40ab-bff7-ce2407f70132",
    "deepnote_to_be_reexecuted": false,
    "source_hash": "1b4e3787",
    "execution_start": 1639648914529,
    "execution_millis": 30,
    "deepnote_cell_type": "code"
   },
   "source": "categorical = df[['State', 'Response', 'Coverage', 'Education', 'EmploymentStatus', 'Gender', 'Marital Status', 'Location Code', 'Policy', 'Policy Type', 'Renew Offer Type', 'Sales Channel', 'Vehicle Class', 'Vehicle Size', 'effective_to_month', 'effective_to_year']].copy()",
   "execution_count": 8,
   "outputs": []
  },
  {
   "cell_type": "code",
   "metadata": {
    "tags": [],
    "cell_id": "00009-42feeb24-2cd6-497d-8402-781f81f9edcc",
    "deepnote_to_be_reexecuted": false,
    "source_hash": "cefb844",
    "execution_start": 1639648914571,
    "execution_millis": 236,
    "deepnote_cell_type": "code"
   },
   "source": "categorical.head()",
   "execution_count": 9,
   "outputs": [
    {
     "output_type": "execute_result",
     "execution_count": 9,
     "data": {
      "application/vnd.deepnote.dataframe.v3+json": {
       "column_count": 16,
       "row_count": 5,
       "columns": [
        {
         "name": "State",
         "dtype": "object",
         "stats": {
          "unique_count": 4,
          "nan_count": 0,
          "categories": [
           {
            "name": "Washington",
            "count": 2
           },
           {
            "name": "Arizona",
            "count": 1
           },
           {
            "name": "2 others",
            "count": 2
           }
          ]
         }
        },
        {
         "name": "Response",
         "dtype": "object",
         "stats": {
          "unique_count": 1,
          "nan_count": 0,
          "categories": [
           {
            "name": "No",
            "count": 5
           }
          ]
         }
        },
        {
         "name": "Coverage",
         "dtype": "object",
         "stats": {
          "unique_count": 3,
          "nan_count": 0,
          "categories": [
           {
            "name": "Basic",
            "count": 3
           },
           {
            "name": "Extended",
            "count": 1
           },
           {
            "name": "Premium",
            "count": 1
           }
          ]
         }
        },
        {
         "name": "Education",
         "dtype": "object",
         "stats": {
          "unique_count": 1,
          "nan_count": 0,
          "categories": [
           {
            "name": "Bachelor",
            "count": 5
           }
          ]
         }
        },
        {
         "name": "EmploymentStatus",
         "dtype": "object",
         "stats": {
          "unique_count": 2,
          "nan_count": 0,
          "categories": [
           {
            "name": "Employed",
            "count": 3
           },
           {
            "name": "Unemployed",
            "count": 2
           }
          ]
         }
        },
        {
         "name": "Gender",
         "dtype": "object",
         "stats": {
          "unique_count": 2,
          "nan_count": 0,
          "categories": [
           {
            "name": "F",
            "count": 3
           },
           {
            "name": "M",
            "count": 2
           }
          ]
         }
        },
        {
         "name": "Marital Status",
         "dtype": "object",
         "stats": {
          "unique_count": 2,
          "nan_count": 0,
          "categories": [
           {
            "name": "Married",
            "count": 3
           },
           {
            "name": "Single",
            "count": 2
           }
          ]
         }
        },
        {
         "name": "Location Code",
         "dtype": "object",
         "stats": {
          "unique_count": 2,
          "nan_count": 0,
          "categories": [
           {
            "name": "Suburban",
            "count": 4
           },
           {
            "name": "Rural",
            "count": 1
           }
          ]
         }
        },
        {
         "name": "Policy",
         "dtype": "object",
         "stats": {
          "unique_count": 4,
          "nan_count": 0,
          "categories": [
           {
            "name": "Personal L3",
            "count": 2
           },
           {
            "name": "Corporate L3",
            "count": 1
           },
           {
            "name": "2 others",
            "count": 2
           }
          ]
         }
        },
        {
         "name": "Policy Type",
         "dtype": "object",
         "stats": {
          "unique_count": 2,
          "nan_count": 0,
          "categories": [
           {
            "name": "Personal Auto",
            "count": 3
           },
           {
            "name": "Corporate Auto",
            "count": 2
           }
          ]
         }
        },
        {
         "name": "Renew Offer Type",
         "dtype": "object",
         "stats": {
          "unique_count": 2,
          "nan_count": 0,
          "categories": [
           {
            "name": "Offer1",
            "count": 4
           },
           {
            "name": "Offer3",
            "count": 1
           }
          ]
         }
        },
        {
         "name": "Sales Channel",
         "dtype": "object",
         "stats": {
          "unique_count": 2,
          "nan_count": 0,
          "categories": [
           {
            "name": "Agent",
            "count": 4
           },
           {
            "name": "Call Center",
            "count": 1
           }
          ]
         }
        },
        {
         "name": "Vehicle Class",
         "dtype": "object",
         "stats": {
          "unique_count": 3,
          "nan_count": 0,
          "categories": [
           {
            "name": "Two-Door Car",
            "count": 2
           },
           {
            "name": "Four-Door Car",
            "count": 2
           },
           {
            "name": "SUV",
            "count": 1
           }
          ]
         }
        },
        {
         "name": "Vehicle Size",
         "dtype": "object",
         "stats": {
          "unique_count": 1,
          "nan_count": 0,
          "categories": [
           {
            "name": "Medsize",
            "count": 5
           }
          ]
         }
        },
        {
         "name": "effective_to_month",
         "dtype": "string",
         "stats": {
          "unique_count": 2,
          "nan_count": 0,
          "categories": [
           {
            "name": "2",
            "count": 3
           },
           {
            "name": "1",
            "count": 2
           }
          ]
         }
        },
        {
         "name": "effective_to_year",
         "dtype": "string",
         "stats": {
          "unique_count": 1,
          "nan_count": 0,
          "categories": [
           {
            "name": "2011",
            "count": 5
           }
          ]
         }
        },
        {
         "name": "_deepnote_index_column",
         "dtype": "int64"
        }
       ],
       "rows": [
        {
         "State": "Washington",
         "Response": "No",
         "Coverage": "Basic",
         "Education": "Bachelor",
         "EmploymentStatus": "Employed",
         "Gender": "F",
         "Marital Status": "Married",
         "Location Code": "Suburban",
         "Policy": "Corporate L3",
         "Policy Type": "Corporate Auto",
         "Renew Offer Type": "Offer1",
         "Sales Channel": "Agent",
         "Vehicle Class": "Two-Door Car",
         "Vehicle Size": "Medsize",
         "effective_to_month": "2",
         "effective_to_year": "2011",
         "_deepnote_index_column": 0
        },
        {
         "State": "Arizona",
         "Response": "No",
         "Coverage": "Extended",
         "Education": "Bachelor",
         "EmploymentStatus": "Unemployed",
         "Gender": "F",
         "Marital Status": "Single",
         "Location Code": "Suburban",
         "Policy": "Personal L3",
         "Policy Type": "Personal Auto",
         "Renew Offer Type": "Offer3",
         "Sales Channel": "Agent",
         "Vehicle Class": "Four-Door Car",
         "Vehicle Size": "Medsize",
         "effective_to_month": "1",
         "effective_to_year": "2011",
         "_deepnote_index_column": 1
        },
        {
         "State": "Nevada",
         "Response": "No",
         "Coverage": "Premium",
         "Education": "Bachelor",
         "EmploymentStatus": "Employed",
         "Gender": "F",
         "Marital Status": "Married",
         "Location Code": "Suburban",
         "Policy": "Personal L3",
         "Policy Type": "Personal Auto",
         "Renew Offer Type": "Offer1",
         "Sales Channel": "Agent",
         "Vehicle Class": "Two-Door Car",
         "Vehicle Size": "Medsize",
         "effective_to_month": "2",
         "effective_to_year": "2011",
         "_deepnote_index_column": 2
        },
        {
         "State": "California",
         "Response": "No",
         "Coverage": "Basic",
         "Education": "Bachelor",
         "EmploymentStatus": "Unemployed",
         "Gender": "M",
         "Marital Status": "Married",
         "Location Code": "Suburban",
         "Policy": "Corporate L2",
         "Policy Type": "Corporate Auto",
         "Renew Offer Type": "Offer1",
         "Sales Channel": "Call Center",
         "Vehicle Class": "SUV",
         "Vehicle Size": "Medsize",
         "effective_to_month": "1",
         "effective_to_year": "2011",
         "_deepnote_index_column": 3
        },
        {
         "State": "Washington",
         "Response": "No",
         "Coverage": "Basic",
         "Education": "Bachelor",
         "EmploymentStatus": "Employed",
         "Gender": "M",
         "Marital Status": "Single",
         "Location Code": "Rural",
         "Policy": "Personal L1",
         "Policy Type": "Personal Auto",
         "Renew Offer Type": "Offer1",
         "Sales Channel": "Agent",
         "Vehicle Class": "Four-Door Car",
         "Vehicle Size": "Medsize",
         "effective_to_month": "2",
         "effective_to_year": "2011",
         "_deepnote_index_column": 4
        }
       ]
      },
      "text/plain": "        State Response  Coverage Education EmploymentStatus Gender  \\\n0  Washington       No     Basic  Bachelor         Employed      F   \n1     Arizona       No  Extended  Bachelor       Unemployed      F   \n2      Nevada       No   Premium  Bachelor         Employed      F   \n3  California       No     Basic  Bachelor       Unemployed      M   \n4  Washington       No     Basic  Bachelor         Employed      M   \n\n  Marital Status Location Code        Policy     Policy Type Renew Offer Type  \\\n0        Married      Suburban  Corporate L3  Corporate Auto           Offer1   \n1         Single      Suburban   Personal L3   Personal Auto           Offer3   \n2        Married      Suburban   Personal L3   Personal Auto           Offer1   \n3        Married      Suburban  Corporate L2  Corporate Auto           Offer1   \n4         Single         Rural   Personal L1   Personal Auto           Offer1   \n\n  Sales Channel  Vehicle Class Vehicle Size effective_to_month  \\\n0         Agent   Two-Door Car      Medsize                  2   \n1         Agent  Four-Door Car      Medsize                  1   \n2         Agent   Two-Door Car      Medsize                  2   \n3   Call Center            SUV      Medsize                  1   \n4         Agent  Four-Door Car      Medsize                  2   \n\n  effective_to_year  \n0              2011  \n1              2011  \n2              2011  \n3              2011  \n4              2011  ",
      "text/html": "<div>\n<style scoped>\n    .dataframe tbody tr th:only-of-type {\n        vertical-align: middle;\n    }\n\n    .dataframe tbody tr th {\n        vertical-align: top;\n    }\n\n    .dataframe thead th {\n        text-align: right;\n    }\n</style>\n<table border=\"1\" class=\"dataframe\">\n  <thead>\n    <tr style=\"text-align: right;\">\n      <th></th>\n      <th>State</th>\n      <th>Response</th>\n      <th>Coverage</th>\n      <th>Education</th>\n      <th>EmploymentStatus</th>\n      <th>Gender</th>\n      <th>Marital Status</th>\n      <th>Location Code</th>\n      <th>Policy</th>\n      <th>Policy Type</th>\n      <th>Renew Offer Type</th>\n      <th>Sales Channel</th>\n      <th>Vehicle Class</th>\n      <th>Vehicle Size</th>\n      <th>effective_to_month</th>\n      <th>effective_to_year</th>\n    </tr>\n  </thead>\n  <tbody>\n    <tr>\n      <th>0</th>\n      <td>Washington</td>\n      <td>No</td>\n      <td>Basic</td>\n      <td>Bachelor</td>\n      <td>Employed</td>\n      <td>F</td>\n      <td>Married</td>\n      <td>Suburban</td>\n      <td>Corporate L3</td>\n      <td>Corporate Auto</td>\n      <td>Offer1</td>\n      <td>Agent</td>\n      <td>Two-Door Car</td>\n      <td>Medsize</td>\n      <td>2</td>\n      <td>2011</td>\n    </tr>\n    <tr>\n      <th>1</th>\n      <td>Arizona</td>\n      <td>No</td>\n      <td>Extended</td>\n      <td>Bachelor</td>\n      <td>Unemployed</td>\n      <td>F</td>\n      <td>Single</td>\n      <td>Suburban</td>\n      <td>Personal L3</td>\n      <td>Personal Auto</td>\n      <td>Offer3</td>\n      <td>Agent</td>\n      <td>Four-Door Car</td>\n      <td>Medsize</td>\n      <td>1</td>\n      <td>2011</td>\n    </tr>\n    <tr>\n      <th>2</th>\n      <td>Nevada</td>\n      <td>No</td>\n      <td>Premium</td>\n      <td>Bachelor</td>\n      <td>Employed</td>\n      <td>F</td>\n      <td>Married</td>\n      <td>Suburban</td>\n      <td>Personal L3</td>\n      <td>Personal Auto</td>\n      <td>Offer1</td>\n      <td>Agent</td>\n      <td>Two-Door Car</td>\n      <td>Medsize</td>\n      <td>2</td>\n      <td>2011</td>\n    </tr>\n    <tr>\n      <th>3</th>\n      <td>California</td>\n      <td>No</td>\n      <td>Basic</td>\n      <td>Bachelor</td>\n      <td>Unemployed</td>\n      <td>M</td>\n      <td>Married</td>\n      <td>Suburban</td>\n      <td>Corporate L2</td>\n      <td>Corporate Auto</td>\n      <td>Offer1</td>\n      <td>Call Center</td>\n      <td>SUV</td>\n      <td>Medsize</td>\n      <td>1</td>\n      <td>2011</td>\n    </tr>\n    <tr>\n      <th>4</th>\n      <td>Washington</td>\n      <td>No</td>\n      <td>Basic</td>\n      <td>Bachelor</td>\n      <td>Employed</td>\n      <td>M</td>\n      <td>Single</td>\n      <td>Rural</td>\n      <td>Personal L1</td>\n      <td>Personal Auto</td>\n      <td>Offer1</td>\n      <td>Agent</td>\n      <td>Four-Door Car</td>\n      <td>Medsize</td>\n      <td>2</td>\n      <td>2011</td>\n    </tr>\n  </tbody>\n</table>\n</div>"
     },
     "metadata": {}
    }
   ]
  },
  {
   "cell_type": "code",
   "metadata": {
    "tags": [],
    "cell_id": "00008-e52214e4-f9b4-4635-ad0b-dcfdf706c215",
    "deepnote_to_be_reexecuted": false,
    "source_hash": "1e65e768",
    "execution_start": 1639648914813,
    "execution_millis": 5944,
    "deepnote_output_heights": [
     264,
     482,
     482,
     482,
     482,
     482,
     482,
     482,
     482,
     482,
     482,
     482,
     482,
     482,
     483,
     21.1875,
     483
    ],
    "deepnote_cell_type": "code"
   },
   "source": "for i, col in enumerate(categorical.columns):  \n    plt.figure(figsize=(12,8))\n    plt.figure(i)\n    sns.countplot(x=col, data=categorical)",
   "execution_count": 10,
   "outputs": [
    {
     "data": {
      "text/plain": "<Figure size 432x288 with 1 Axes>",
      "image/png": "[encoded data removed]"
     },
     "metadata": {
      "needs_background": "light",
      "image/png": {
       "width": 395,
       "height": 262
      }
     },
     "output_type": "display_data"
    },
    {
     "data": {
      "text/plain": "<Figure size 864x576 with 1 Axes>",
      "image/png": "[encoded data removed]"
     },
     "metadata": {
      "needs_background": "light",
      "image/png": {
       "width": 730,
       "height": 480
      }
     },
     "output_type": "display_data"
    },
    {
     "data": {
      "text/plain": "<Figure size 864x576 with 1 Axes>",
      "image/png": "[encoded data removed]"
     },
     "metadata": {
      "needs_background": "light",
      "image/png": {
       "width": 730,
       "height": 480
      }
     },
     "output_type": "display_data"
    },
    {
     "data": {
      "text/plain": "<Figure size 864x576 with 1 Axes>",
      "image/png": "[encoded data removed]"
     },
     "metadata": {
      "needs_background": "light",
      "image/png": {
       "width": 730,
       "height": 480
      }
     },
     "output_type": "display_data"
    },
    {
     "data": {
      "text/plain": "<Figure size 864x576 with 1 Axes>",
      "image/png": "[encoded data removed]"
     },
     "metadata": {
      "needs_background": "light",
      "image/png": {
       "width": 730,
       "height": 480
      }
     },
     "output_type": "display_data"
    },
    {
     "data": {
      "text/plain": "<Figure size 864x576 with 1 Axes>",
      "image/png": "[encoded data removed]"
     },
     "metadata": {
      "needs_background": "light",
      "image/png": {
       "width": 730,
       "height": 480
      }
     },
     "output_type": "display_data"
    },
    {
     "data": {
      "text/plain": "<Figure size 864x576 with 1 Axes>",
      "image/png": "[encoded data removed]"
     },
     "metadata": {
      "needs_background": "light",
      "image/png": {
       "width": 730,
       "height": 480
      }
     },
     "output_type": "display_data"
    },
    {
     "data": {
      "text/plain": "<Figure size 864x576 with 1 Axes>",
      "image/png": "[encoded data removed]"
     },
     "metadata": {
      "needs_background": "light",
      "image/png": {
       "width": 730,
       "height": 480
      }
     },
     "output_type": "display_data"
    },
    {
     "data": {
      "text/plain": "<Figure size 864x576 with 1 Axes>",
      "image/png": "[encoded data removed]"
     },
     "metadata": {
      "needs_background": "light",
      "image/png": {
       "width": 730,
       "height": 480
      }
     },
     "output_type": "display_data"
    },
    {
     "data": {
      "text/plain": "<Figure size 864x576 with 1 Axes>",
      "image/png": "[encoded data removed]"
     },
     "metadata": {
      "needs_background": "light",
      "image/png": {
       "width": 730,
       "height": 480
      }
     },
     "output_type": "display_data"
    },
    {
     "data": {
      "text/plain": "<Figure size 864x576 with 1 Axes>",
      "image/png": "[encoded data removed]"
     },
     "metadata": {
      "needs_background": "light",
      "image/png": {
       "width": 730,
       "height": 480
      }
     },
     "output_type": "display_data"
    },
    {
     "data": {
      "text/plain": "<Figure size 864x576 with 1 Axes>",
      "image/png": "[encoded data removed]"
     },
     "metadata": {
      "needs_background": "light",
      "image/png": {
       "width": 730,
       "height": 480
      }
     },
     "output_type": "display_data"
    },
    {
     "data": {
      "text/plain": "<Figure size 864x576 with 1 Axes>",
      "image/png": "[encoded data removed]"
     },
     "metadata": {
      "needs_background": "light",
      "image/png": {
       "width": 730,
       "height": 480
      }
     },
     "output_type": "display_data"
    },
    {
     "data": {
      "text/plain": "<Figure size 864x576 with 1 Axes>",
      "image/png": "[encoded data removed]"
     },
     "metadata": {
      "needs_background": "light",
      "image/png": {
       "width": 730,
       "height": 480
      }
     },
     "output_type": "display_data"
    },
    {
     "data": {
      "text/plain": "<Figure size 864x576 with 1 Axes>",
      "image/png": "[encoded data removed]"
     },
     "metadata": {
      "needs_background": "light",
      "image/png": {
       "width": 730,
       "height": 481
      }
     },
     "output_type": "display_data"
    },
    {
     "data": {
      "text/plain": "<Figure size 864x576 with 0 Axes>"
     },
     "metadata": {},
     "output_type": "display_data"
    },
    {
     "data": {
      "text/plain": "<Figure size 864x576 with 1 Axes>",
      "image/png": "[encoded data removed]"
     },
     "metadata": {
      "needs_background": "light",
      "image/png": {
       "width": 730,
       "height": 481
      }
     },
     "output_type": "display_data"
    }
   ]
  },
  {
   "cell_type": "code",
   "metadata": {
    "tags": [],
    "cell_id": "00011-d8e6dcb4-9f6b-479e-8147-d9e93feb56e2",
    "deepnote_to_be_reexecuted": false,
    "source_hash": "e1cd4aae",
    "execution_start": 1639648920553,
    "execution_millis": 0,
    "deepnote_cell_type": "code"
   },
   "source": "## Create Pred Matrix and Normalize\n\ny = df.pop('Customer Lifetime Value')\n\nX = df.copy()\nX = X.drop('Effective To Date', axis=1)\nX = X.drop('Customer', axis=1)",
   "execution_count": 11,
   "outputs": []
  },
  {
   "cell_type": "code",
   "metadata": {
    "tags": [],
    "cell_id": "00012-e370adda-3550-4892-b1cd-24996c4c2d97",
    "deepnote_to_be_reexecuted": false,
    "source_hash": "e52f4e4c",
    "execution_start": 1639648920598,
    "execution_millis": 163,
    "deepnote_cell_type": "code"
   },
   "source": "X.info()",
   "execution_count": 12,
   "outputs": [
    {
     "name": "stdout",
     "text": "<class 'pandas.core.frame.DataFrame'>\nRangeIndex: 9134 entries, 0 to 9133\nData columns (total 23 columns):\n #   Column                         Non-Null Count  Dtype  \n---  ------                         --------------  -----  \n 0   State                          9134 non-null   object \n 1   Response                       9134 non-null   object \n 2   Coverage                       9134 non-null   object \n 3   Education                      9134 non-null   object \n 4   EmploymentStatus               9134 non-null   object \n 5   Gender                         9134 non-null   object \n 6   Income                         9134 non-null   int64  \n 7   Location Code                  9134 non-null   object \n 8   Marital Status                 9134 non-null   object \n 9   Monthly Premium Auto           9134 non-null   int64  \n 10  Months Since Last Claim        9134 non-null   int64  \n 11  Months Since Policy Inception  9134 non-null   int64  \n 12  Number of Open Complaints      9134 non-null   int64  \n 13  Number of Policies             9134 non-null   int64  \n 14  Policy Type                    9134 non-null   object \n 15  Policy                         9134 non-null   object \n 16  Renew Offer Type               9134 non-null   object \n 17  Sales Channel                  9134 non-null   object \n 18  Total Claim Amount             9134 non-null   float64\n 19  Vehicle Class                  9134 non-null   object \n 20  Vehicle Size                   9134 non-null   object \n 21  effective_to_month             9134 non-null   string \n 22  effective_to_year              9134 non-null   string \ndtypes: float64(1), int64(6), object(14), string(2)\nmemory usage: 1.6+ MB\n",
     "output_type": "stream",
     "data": {}
    }
   ]
  },
  {
   "cell_type": "code",
   "metadata": {
    "tags": [],
    "cell_id": "00013-89a9531e-3449-4f29-9330-9d45b3a7ec9f",
    "deepnote_to_be_reexecuted": false,
    "source_hash": "12f34938",
    "execution_start": 1639648920600,
    "execution_millis": 61840925,
    "deepnote_cell_type": "code"
   },
   "source": "X = X.drop('Monthly Premium Auto', axis=1)",
   "execution_count": 13,
   "outputs": []
  },
  {
   "cell_type": "code",
   "metadata": {
    "tags": [],
    "cell_id": "00014-ce74292f-77ed-4ba6-9849-92057b4ffef3",
    "deepnote_to_be_reexecuted": false,
    "source_hash": "e52f4e4c",
    "execution_start": 1639648920641,
    "execution_millis": 121,
    "deepnote_cell_type": "code"
   },
   "source": "X.info()",
   "execution_count": 14,
   "outputs": [
    {
     "name": "stdout",
     "text": "<class 'pandas.core.frame.DataFrame'>\nRangeIndex: 9134 entries, 0 to 9133\nData columns (total 22 columns):\n #   Column                         Non-Null Count  Dtype  \n---  ------                         --------------  -----  \n 0   State                          9134 non-null   object \n 1   Response                       9134 non-null   object \n 2   Coverage                       9134 non-null   object \n 3   Education                      9134 non-null   object \n 4   EmploymentStatus               9134 non-null   object \n 5   Gender                         9134 non-null   object \n 6   Income                         9134 non-null   int64  \n 7   Location Code                  9134 non-null   object \n 8   Marital Status                 9134 non-null   object \n 9   Months Since Last Claim        9134 non-null   int64  \n 10  Months Since Policy Inception  9134 non-null   int64  \n 11  Number of Open Complaints      9134 non-null   int64  \n 12  Number of Policies             9134 non-null   int64  \n 13  Policy Type                    9134 non-null   object \n 14  Policy                         9134 non-null   object \n 15  Renew Offer Type               9134 non-null   object \n 16  Sales Channel                  9134 non-null   object \n 17  Total Claim Amount             9134 non-null   float64\n 18  Vehicle Class                  9134 non-null   object \n 19  Vehicle Size                   9134 non-null   object \n 20  effective_to_month             9134 non-null   string \n 21  effective_to_year              9134 non-null   string \ndtypes: float64(1), int64(5), object(14), string(2)\nmemory usage: 1.5+ MB\n",
     "output_type": "stream",
     "data": {}
    }
   ]
  },
  {
   "cell_type": "code",
   "metadata": {
    "tags": [],
    "cell_id": "00013-20051698-37ef-4a45-ad29-6dbb9d1da24c",
    "deepnote_to_be_reexecuted": false,
    "source_hash": "182e8ef5",
    "execution_start": 1639648920675,
    "execution_millis": 119,
    "deepnote_cell_type": "code"
   },
   "source": "X = pd.get_dummies(X)",
   "execution_count": 15,
   "outputs": []
  },
  {
   "cell_type": "code",
   "metadata": {
    "tags": [],
    "cell_id": "00013-f1257354-15d0-4953-902a-649095486a04",
    "deepnote_to_be_reexecuted": false,
    "source_hash": "d62d2e70",
    "execution_start": 1639648920802,
    "execution_millis": 24,
    "deepnote_cell_type": "code"
   },
   "source": "X_train, X_test, y_train, y_test = train_test_split(X, y, test_size=0.2, random_state=1)",
   "execution_count": 16,
   "outputs": []
  },
  {
   "cell_type": "code",
   "metadata": {
    "tags": [],
    "cell_id": "00015-515a63db-cda4-4e12-a4cd-508f6ad36a02",
    "deepnote_to_be_reexecuted": false,
    "source_hash": "cc841c4e",
    "execution_start": 1639648920833,
    "execution_millis": 126,
    "deepnote_cell_type": "code"
   },
   "source": "scaler = StandardScaler()\nX_train = scaler.fit_transform(X_train)\nX_test = scaler.transform(X_test)",
   "execution_count": 17,
   "outputs": []
  },
  {
   "cell_type": "markdown",
   "source": "## Colliniarity Check",
   "metadata": {
    "tags": [],
    "is_collapsed": false,
    "cell_id": "00016-8b0b17c8-5c99-413f-8a3d-ee1625bbc2c0",
    "deepnote_cell_type": "text-cell-h2"
   }
  },
  {
   "cell_type": "code",
   "metadata": {
    "tags": [],
    "cell_id": "00018-38061d13-f019-46c0-ba76-d7d438b6d687",
    "deepnote_to_be_reexecuted": false,
    "source_hash": "39c1799c",
    "execution_start": 1639648920966,
    "execution_millis": 232,
    "deepnote_cell_type": "code"
   },
   "source": "X['effective_to_month'] = X['effective_to_month'].astype(int)\nX['effective_to_year'] = X['effective_to_year'].astype(int)",
   "execution_count": 18,
   "outputs": []
  },
  {
   "cell_type": "code",
   "metadata": {
    "tags": [],
    "cell_id": "00018-92d8e295-7605-4fda-ba11-dc389e7fc3aa",
    "deepnote_to_be_reexecuted": false,
    "source_hash": "7a93a74f",
    "execution_start": 1639648921205,
    "execution_millis": 55,
    "deepnote_cell_type": "code"
   },
   "source": "X_vif = add_constant(X)",
   "execution_count": 19,
   "outputs": []
  },
  {
   "cell_type": "code",
   "metadata": {
    "tags": [],
    "cell_id": "00019-a2f53529-96b1-45d9-b14e-dccc4bfe5e9a",
    "deepnote_to_be_reexecuted": false,
    "source_hash": "e8193858",
    "execution_start": 1639648921271,
    "execution_millis": 8731,
    "deepnote_output_heights": [
     null,
     232.25
    ],
    "output_cleared": false,
    "deepnote_cell_type": "code"
   },
   "source": "vif = pd.Series([variance_inflation_factor(X_vif.values, i) for i in range(X_vif.shape[1])], index=X_vif.columns)",
   "execution_count": 20,
   "outputs": [
    {
     "name": "stderr",
     "text": "/root/venv/lib/python3.7/site-packages/statsmodels/regression/linear_model.py:1738: RuntimeWarning: divide by zero encountered in double_scalars\n  return 1 - self.ssr/self.centered_tss\n/root/venv/lib/python3.7/site-packages/statsmodels/stats/outliers_influence.py:195: RuntimeWarning: divide by zero encountered in double_scalars\n  vif = 1. / (1. - r_squared_i)\n",
     "output_type": "stream",
     "data": {}
    }
   ]
  },
  {
   "cell_type": "code",
   "metadata": {
    "tags": [],
    "cell_id": "00021-c900c02f-ce65-479c-be79-1a31db84a4ae",
    "deepnote_to_be_reexecuted": false,
    "source_hash": "f6d893bb",
    "execution_start": 1639648930078,
    "execution_millis": 61840982,
    "deepnote_cell_type": "code"
   },
   "source": "def print_full(x):\n    pd.set_option('display.max_rows', len(x))\n    print(x)\n    pd.reset_option('display.max_rows')",
   "execution_count": 21,
   "outputs": []
  },
  {
   "cell_type": "code",
   "metadata": {
    "tags": [],
    "cell_id": "00021-7a7b6678-927b-44b4-a531-482e5d952d81",
    "deepnote_to_be_reexecuted": false,
    "source_hash": "8cbe0a5e",
    "execution_start": 1639648930122,
    "execution_millis": 61840998,
    "deepnote_output_heights": [
     232.25
    ],
    "deepnote_cell_type": "code"
   },
   "source": "print_full(vif)",
   "execution_count": 22,
   "outputs": [
    {
     "name": "stdout",
     "text": "Income                            3.182668\nMonths Since Last Claim           1.010230\nMonths Since Policy Inception     1.021980\nNumber of Open Complaints         1.009120\nNumber of Policies                1.019271\nTotal Claim Amount                4.137478\neffective_to_month                1.006442\neffective_to_year                 0.000000\nState_Arizona                          inf\nState_California                       inf\nState_Nevada                           inf\nState_Oregon                           inf\nState_Washington                       inf\nResponse_No                            inf\nResponse_Yes                           inf\nCoverage_Basic                         inf\nCoverage_Extended                      inf\nCoverage_Premium                       inf\nEducation_Bachelor                     inf\nEducation_College                      inf\nEducation_Doctor                       inf\nEducation_High School or Below         inf\nEducation_Master                       inf\nEmploymentStatus_Disabled              inf\nEmploymentStatus_Employed              inf\nEmploymentStatus_Medical Leave         inf\nEmploymentStatus_Retired               inf\nEmploymentStatus_Unemployed            inf\nGender_F                               inf\nGender_M                               inf\nLocation Code_Rural                    inf\nLocation Code_Suburban                 inf\nLocation Code_Urban                    inf\nMarital Status_Divorced                inf\nMarital Status_Married                 inf\nMarital Status_Single                  inf\nPolicy Type_Corporate Auto             inf\nPolicy Type_Personal Auto              inf\nPolicy Type_Special Auto               inf\nPolicy_Corporate L1                    inf\nPolicy_Corporate L2                    inf\nPolicy_Corporate L3                    inf\nPolicy_Personal L1                     inf\nPolicy_Personal L2                     inf\nPolicy_Personal L3                     inf\nPolicy_Special L1                      inf\nPolicy_Special L2                      inf\nPolicy_Special L3                      inf\nRenew Offer Type_Offer1                inf\nRenew Offer Type_Offer2                inf\nRenew Offer Type_Offer3                inf\nRenew Offer Type_Offer4                inf\nSales Channel_Agent                    inf\nSales Channel_Branch                   inf\nSales Channel_Call Center              inf\nSales Channel_Web                      inf\nVehicle Class_Four-Door Car            inf\nVehicle Class_Luxury Car               inf\nVehicle Class_Luxury SUV               inf\nVehicle Class_SUV                      inf\nVehicle Class_Sports Car               inf\nVehicle Class_Two-Door Car             inf\nVehicle Size_Large                     inf\nVehicle Size_Medsize                   inf\nVehicle Size_Small                     inf\ndtype: float64\n",
     "output_type": "stream",
     "data": {}
    }
   ]
  },
  {
   "cell_type": "markdown",
   "source": "## Models",
   "metadata": {
    "tags": [],
    "is_collapsed": false,
    "cell_id": "00016-8fb8290d-d20c-4311-8d14-a13ca8758013",
    "deepnote_cell_type": "text-cell-h2"
   }
  },
  {
   "cell_type": "markdown",
   "source": "### Model 1 - Linear Regression",
   "metadata": {
    "tags": [],
    "is_collapsed": false,
    "cell_id": "00017-cc088526-e9aa-4455-a1fb-7c843bf3b027",
    "deepnote_cell_type": "text-cell-h3"
   }
  },
  {
   "cell_type": "code",
   "metadata": {
    "tags": [],
    "cell_id": "00016-419099f9-6ab7-42e8-9ae5-4818d8b230f8",
    "deepnote_to_be_reexecuted": false,
    "source_hash": "54c56013",
    "execution_start": 1639649057235,
    "execution_millis": 197,
    "deepnote_output_heights": [
     21.1875
    ],
    "deepnote_cell_type": "code"
   },
   "source": "from sklearn.linear_model import LinearRegression\nfrom sklearn.model_selection import cross_val_score\n\nreg = LinearRegression().fit(X_train, y_train)\nr2 = reg.score(X_test, y_test)\n\ncv_scores = cross_val_score(reg, X_test, y_test, cv=5)\nprint(\"Your r2 Test Score is: \", r2)\nprint(\"Your CV Scores are: \", cv_scores)\nprint(\"Your Mean CV Score is: \", np.mean(cv_scores))",
   "execution_count": 72,
   "outputs": [
    {
     "name": "stdout",
     "text": "Your r2 Test Score is:  0.16676830934852116\nYour CV Scores are:  [0.07498176 0.14098525 0.06244966 0.14724175 0.16300108]\nYour Mean CV Score is:  0.11773189949152882\n",
     "output_type": "stream",
     "data": {}
    }
   ]
  },
  {
   "cell_type": "code",
   "metadata": {
    "tags": [],
    "cell_id": "00020-2c251a0c-352b-4deb-adbb-c00ce0949a43",
    "deepnote_to_be_reexecuted": false,
    "source_hash": "dec41d2e",
    "execution_start": 1639648930545,
    "execution_millis": 45,
    "deepnote_output_heights": [
     21.1875
    ],
    "deepnote_cell_type": "code"
   },
   "source": "reg.predict(X_test[21].reshape(1, -1))",
   "execution_count": 24,
   "outputs": [
    {
     "output_type": "execute_result",
     "execution_count": 24,
     "data": {
      "text/plain": "array([13675.06405622])"
     },
     "metadata": {}
    }
   ]
  },
  {
   "cell_type": "code",
   "metadata": {
    "tags": [],
    "cell_id": "00021-4f1cdcab-65a2-46a8-b6bd-692df0d29e96",
    "deepnote_to_be_reexecuted": false,
    "source_hash": "ad6de4a6",
    "execution_start": 1639648930590,
    "execution_millis": 117,
    "deepnote_cell_type": "code"
   },
   "source": "Xstd = scaler.fit_transform(X)\nreg_full = LinearRegression().fit(Xstd, y)\nreg_preds = reg_full.predict(Xstd)\ndf['reg_cltv_preds'] = reg_preds",
   "execution_count": 25,
   "outputs": []
  },
  {
   "cell_type": "code",
   "metadata": {
    "tags": [],
    "cell_id": "00021-f90c0284-5b7f-4e5e-b948-4812858dbb34",
    "deepnote_to_be_reexecuted": false,
    "source_hash": "d19cce5a",
    "execution_start": 1639648930731,
    "execution_millis": 2,
    "deepnote_cell_type": "code"
   },
   "source": "df['cltv_ground_truth'] = y",
   "execution_count": 26,
   "outputs": []
  },
  {
   "cell_type": "code",
   "metadata": {
    "tags": [],
    "cell_id": "00022-788d9d4b-f98e-4c7c-b84a-2df319d145d3",
    "deepnote_to_be_reexecuted": false,
    "source_hash": "4d86f29",
    "execution_start": 1639648930797,
    "execution_millis": 2,
    "deepnote_cell_type": "code"
   },
   "source": "y_pred = reg.predict(X_test)\n\nols_mae = mean_absolute_error(y_test, y_pred)\nprint(ols_mae)",
   "execution_count": 27,
   "outputs": [
    {
     "name": "stdout",
     "text": "3824.1491377071357\n",
     "output_type": "stream",
     "data": {}
    }
   ]
  },
  {
   "cell_type": "markdown",
   "source": "### Model 2 - ElasticNet + GridSearch",
   "metadata": {
    "tags": [],
    "is_collapsed": false,
    "cell_id": "00022-386e4b4c-394e-4656-a759-70f76998edf9",
    "deepnote_cell_type": "text-cell-h3"
   }
  },
  {
   "cell_type": "code",
   "metadata": {
    "tags": [],
    "cell_id": "00023-c2fdbe8c-2d8b-4967-b99e-868f32d0df81",
    "deepnote_to_be_reexecuted": false,
    "source_hash": "cf801d52",
    "execution_start": 1639648930841,
    "execution_millis": 61841027,
    "deepnote_cell_type": "code"
   },
   "source": "# Move import up top\n\nfrom sklearn.model_selection import GridSearchCV\nfrom sklearn.linear_model import Ridge, Lasso, ElasticNet, RidgeCV, LassoCV, ElasticNetCV",
   "execution_count": 28,
   "outputs": []
  },
  {
   "cell_type": "code",
   "metadata": {
    "tags": [],
    "cell_id": "00024-be01a7d1-554e-4d09-9a03-e86106d4ee85",
    "deepnote_to_be_reexecuted": false,
    "source_hash": "be582f1f",
    "execution_start": 1639648930884,
    "execution_millis": 9826,
    "deepnote_cell_type": "code"
   },
   "source": "model_enet = ElasticNet(alpha=0.1, l1_ratio=0.9)\n\nmodel_enet.fit(X_train, y_train)\ncv_score = cross_val_score(model_enet, X_train, y_train, cv=5)\nmean_cv = np.mean(cross_val_score(model_enet, X_train, y_train, cv=5))\ntraining_score = model_enet.score(X_train, y_train)\ntest_score = model_enet.score(X_test, y_test)\n\nprint(\"Training Score: \", training_score)\nprint(\"Cross validation scores: \", cv_score)\nprint(\"Your Mean CV Score: \", mean_cv)\nprint(\"Test Score: \", test_score)",
   "execution_count": 29,
   "outputs": [
    {
     "name": "stdout",
     "text": "Training Score:  0.16377685701615585\nCross validation scores:  [0.10168862 0.16918798 0.1347652  0.18552382 0.15900495]\nYour Mean CV Score:  0.15003411374798245\nTest Score:  0.16481718940658285\n",
     "output_type": "stream",
     "data": {}
    }
   ]
  },
  {
   "cell_type": "code",
   "metadata": {
    "tags": [],
    "cell_id": "00025-99e54a8e-7243-4d84-afdf-e8018cfdd66d",
    "deepnote_to_be_reexecuted": false,
    "source_hash": "15d7866b",
    "execution_start": 1639648940764,
    "execution_millis": 28,
    "deepnote_output_heights": [
     21.1875
    ],
    "deepnote_cell_type": "code"
   },
   "source": "model_enet.get_params().keys()",
   "execution_count": 30,
   "outputs": [
    {
     "output_type": "execute_result",
     "execution_count": 30,
     "data": {
      "text/plain": "dict_keys(['alpha', 'copy_X', 'fit_intercept', 'l1_ratio', 'max_iter', 'normalize', 'positive', 'precompute', 'random_state', 'selection', 'tol', 'warm_start'])"
     },
     "metadata": {}
    }
   ]
  },
  {
   "cell_type": "code",
   "metadata": {
    "tags": [],
    "cell_id": "00022-154b5fec-6faa-432e-bb3f-24c8776ee485",
    "deepnote_to_be_reexecuted": false,
    "source_hash": "aa78e936",
    "execution_start": 1639648940826,
    "execution_millis": 61845791,
    "deepnote_cell_type": "code"
   },
   "source": "# fill the dictionary of parameters\ngs_params = {'l1_ratio': np.linspace(0, 1, 50), 'alpha': np.linspace(0, 1, 50)}\n\ngridsearch = GridSearchCV(model_enet, gs_params, n_jobs=2, cv=5, verbose=2)",
   "execution_count": 31,
   "outputs": []
  },
  {
   "cell_type": "code",
   "metadata": {
    "tags": [],
    "cell_id": "00024-30d1506d-dd8b-469a-9d03-5ae5524c81b2",
    "deepnote_to_be_reexecuted": false,
    "source_hash": "1b336fca",
    "execution_start": 1639648940858,
    "execution_millis": 61845794,
    "deepnote_output_heights": [
     null,
     270.625
    ],
    "deepnote_cell_type": "code"
   },
   "source": "# Run gridsearch\n\n#gridsearch.fit(X_train, y_train)",
   "execution_count": 32,
   "outputs": []
  },
  {
   "cell_type": "code",
   "metadata": {
    "tags": [],
    "cell_id": "00028-3dad65c2-fcfb-4d5d-b7e8-933b54fc2a95",
    "deepnote_to_be_reexecuted": false,
    "source_hash": "7675c93e",
    "execution_start": 1639648940918,
    "execution_millis": 61845770,
    "deepnote_cell_type": "code"
   },
   "source": "#print(\"The best parameters are %s with a score of %0.2f\" % (gridsearch.best_params_, gridsearch.best_score_))",
   "execution_count": 33,
   "outputs": []
  },
  {
   "cell_type": "code",
   "metadata": {
    "tags": [],
    "cell_id": "00029-e680b2d0-4927-44c3-8df9-62a9f303416d",
    "deepnote_to_be_reexecuted": false,
    "source_hash": "6a74f05e",
    "execution_start": 1639648940919,
    "execution_millis": 19683,
    "deepnote_cell_type": "code"
   },
   "source": "model_enet2 = ElasticNet(alpha=1.0, l1_ratio=1.0)\n\nmodel_enet2.fit(X_train, y_train)\ncv_score = cross_val_score(model_enet2, X_train, y_train, cv=5)\nmean_cv = np.mean(cross_val_score(model_enet2, X_train, y_train, cv=5))\ntraining_score = model_enet2.score(X_train, y_train)\ntest_score = model_enet2.score(X_test, y_test)\n\nprint(\"Training Score: \", training_score)\nprint(\"Cross validation scores: \", cv_score)\nprint(\"Your Mean CV Score: \", mean_cv)\nprint(\"Test Score: \", test_score)",
   "execution_count": 34,
   "outputs": [
    {
     "name": "stderr",
     "text": "/shared-libs/python3.7/py/lib/python3.7/site-packages/sklearn/linear_model/_coordinate_descent.py:648: ConvergenceWarning: Objective did not converge. You might want to increase the number of iterations, check the scale of the features or consider increasing regularisation. Duality gap: 1.828e+08, tolerance: 3.490e+07\n  coef_, l1_reg, l2_reg, X, y, max_iter, tol, rng, random, positive\n/shared-libs/python3.7/py/lib/python3.7/site-packages/sklearn/linear_model/_coordinate_descent.py:648: ConvergenceWarning: Objective did not converge. You might want to increase the number of iterations, check the scale of the features or consider increasing regularisation. Duality gap: 1.468e+08, tolerance: 2.881e+07\n  coef_, l1_reg, l2_reg, X, y, max_iter, tol, rng, random, positive\n/shared-libs/python3.7/py/lib/python3.7/site-packages/sklearn/linear_model/_coordinate_descent.py:648: ConvergenceWarning: Objective did not converge. You might want to increase the number of iterations, check the scale of the features or consider increasing regularisation. Duality gap: 1.464e+08, tolerance: 2.795e+07\n  coef_, l1_reg, l2_reg, X, y, max_iter, tol, rng, random, positive\n/shared-libs/python3.7/py/lib/python3.7/site-packages/sklearn/linear_model/_coordinate_descent.py:648: ConvergenceWarning: Objective did not converge. You might want to increase the number of iterations, check the scale of the features or consider increasing regularisation. Duality gap: 1.413e+08, tolerance: 2.713e+07\n  coef_, l1_reg, l2_reg, X, y, max_iter, tol, rng, random, positive\n/shared-libs/python3.7/py/lib/python3.7/site-packages/sklearn/linear_model/_coordinate_descent.py:648: ConvergenceWarning: Objective did not converge. You might want to increase the number of iterations, check the scale of the features or consider increasing regularisation. Duality gap: 1.522e+08, tolerance: 2.838e+07\n  coef_, l1_reg, l2_reg, X, y, max_iter, tol, rng, random, positive\n/shared-libs/python3.7/py/lib/python3.7/site-packages/sklearn/linear_model/_coordinate_descent.py:648: ConvergenceWarning: Objective did not converge. You might want to increase the number of iterations, check the scale of the features or consider increasing regularisation. Duality gap: 1.432e+08, tolerance: 2.732e+07\n  coef_, l1_reg, l2_reg, X, y, max_iter, tol, rng, random, positive\n/shared-libs/python3.7/py/lib/python3.7/site-packages/sklearn/linear_model/_coordinate_descent.py:648: ConvergenceWarning: Objective did not converge. You might want to increase the number of iterations, check the scale of the features or consider increasing regularisation. Duality gap: 1.468e+08, tolerance: 2.881e+07\n  coef_, l1_reg, l2_reg, X, y, max_iter, tol, rng, random, positive\n/shared-libs/python3.7/py/lib/python3.7/site-packages/sklearn/linear_model/_coordinate_descent.py:648: ConvergenceWarning: Objective did not converge. You might want to increase the number of iterations, check the scale of the features or consider increasing regularisation. Duality gap: 1.464e+08, tolerance: 2.795e+07\n  coef_, l1_reg, l2_reg, X, y, max_iter, tol, rng, random, positive\n/shared-libs/python3.7/py/lib/python3.7/site-packages/sklearn/linear_model/_coordinate_descent.py:648: ConvergenceWarning: Objective did not converge. You might want to increase the number of iterations, check the scale of the features or consider increasing regularisation. Duality gap: 1.413e+08, tolerance: 2.713e+07\n  coef_, l1_reg, l2_reg, X, y, max_iter, tol, rng, random, positive\n/shared-libs/python3.7/py/lib/python3.7/site-packages/sklearn/linear_model/_coordinate_descent.py:648: ConvergenceWarning: Objective did not converge. You might want to increase the number of iterations, check the scale of the features or consider increasing regularisation. Duality gap: 1.522e+08, tolerance: 2.838e+07\n  coef_, l1_reg, l2_reg, X, y, max_iter, tol, rng, random, positive\nTraining Score:  0.16379219049343752\nCross validation scores:  [0.10129466 0.16897372 0.13449573 0.18568617 0.15942548]\nYour Mean CV Score:  0.14997515235196507\nTest Score:  0.16485179636626413\n/shared-libs/python3.7/py/lib/python3.7/site-packages/sklearn/linear_model/_coordinate_descent.py:648: ConvergenceWarning: Objective did not converge. You might want to increase the number of iterations, check the scale of the features or consider increasing regularisation. Duality gap: 1.432e+08, tolerance: 2.732e+07\n  coef_, l1_reg, l2_reg, X, y, max_iter, tol, rng, random, positive\n",
     "output_type": "stream",
     "data": {}
    }
   ]
  },
  {
   "cell_type": "code",
   "metadata": {
    "tags": [],
    "cell_id": "00030-8f30dc51-b2af-4a3a-a2e5-42e579251bc4",
    "deepnote_to_be_reexecuted": false,
    "source_hash": "f4a43611",
    "execution_start": 1639648960601,
    "execution_millis": 24,
    "deepnote_cell_type": "code"
   },
   "source": "y_pred = model_enet2.predict(X_test)\n\nmodel_enet_mae = mean_absolute_error(y_test, y_pred)\nprint(model_enet_mae)",
   "execution_count": 35,
   "outputs": [
    {
     "name": "stdout",
     "text": "3836.033104882058\n",
     "output_type": "stream",
     "data": {}
    }
   ]
  },
  {
   "cell_type": "markdown",
   "source": "## Model 3 - Bayesian Ridge Regression",
   "metadata": {
    "tags": [],
    "is_collapsed": false,
    "cell_id": "00030-1768bb8f-046f-4f6f-8317-a0f1a7aba0a9",
    "deepnote_cell_type": "text-cell-h2"
   }
  },
  {
   "cell_type": "code",
   "metadata": {
    "tags": [],
    "cell_id": "00031-27fbaaf9-0d08-4892-9f27-6fe47a2f3502",
    "deepnote_to_be_reexecuted": false,
    "source_hash": "94dcb477",
    "execution_start": 1639648960646,
    "execution_millis": 54,
    "deepnote_cell_type": "code"
   },
   "source": "from sklearn import linear_model\n\nbayreg = linear_model.BayesianRidge()",
   "execution_count": 36,
   "outputs": []
  },
  {
   "cell_type": "code",
   "metadata": {
    "tags": [],
    "cell_id": "00032-b1c08c63-22de-4f33-8fa4-a5f4598e9b84",
    "deepnote_to_be_reexecuted": false,
    "source_hash": "7ae39f0b",
    "execution_start": 1639648960714,
    "execution_millis": 2511,
    "deepnote_cell_type": "code"
   },
   "source": "bayreg.fit(X_train, y_train)\ncv_score = cross_val_score(bayreg, X_train, y_train, cv=5)\nmean_cv = np.mean(cross_val_score(bayreg, X_train, y_train, cv=5))\ntraining_score = bayreg.score(X_train, y_train)\ntest_score = bayreg.score(X_test, y_test)\n\nprint(\"Training Score: \", training_score)\nprint(\"Cross validation scores: \", cv_score)\nprint(\"Your Mean CV Score: \", mean_cv)\nprint(\"Test Score: \", test_score)",
   "execution_count": 37,
   "outputs": [
    {
     "name": "stdout",
     "text": "Training Score:  0.16347129959945628\nCross validation scores:  [0.10407927 0.16955618 0.13606169 0.18459057 0.15725699]\nYour Mean CV Score:  0.15030893775331694\nTest Score:  0.1644809742186435\n",
     "output_type": "stream",
     "data": {}
    }
   ]
  },
  {
   "cell_type": "code",
   "metadata": {
    "tags": [],
    "cell_id": "00033-ea26382b-0c66-43fb-bd59-06f05e8acc7b",
    "deepnote_to_be_reexecuted": false,
    "source_hash": "d1580779",
    "execution_start": 1639648963272,
    "execution_millis": 70,
    "deepnote_output_heights": [
     21.1875
    ],
    "deepnote_cell_type": "code"
   },
   "source": "bayreg.get_params().keys()",
   "execution_count": 38,
   "outputs": [
    {
     "output_type": "execute_result",
     "execution_count": 38,
     "data": {
      "text/plain": "dict_keys(['alpha_1', 'alpha_2', 'alpha_init', 'compute_score', 'copy_X', 'fit_intercept', 'lambda_1', 'lambda_2', 'lambda_init', 'n_iter', 'normalize', 'tol', 'verbose'])"
     },
     "metadata": {}
    }
   ]
  },
  {
   "cell_type": "code",
   "metadata": {
    "tags": [],
    "cell_id": "00034-552f74e7-5f6c-473c-923f-c33b86e8bd8b",
    "deepnote_to_be_reexecuted": false,
    "source_hash": "c76b8508",
    "execution_start": 1639648963360,
    "execution_millis": 61860097,
    "deepnote_cell_type": "code"
   },
   "source": "# fill the dictionary of parameters\ngs_params = {'alpha_1': np.linspace(0, 1, 20), 'alpha_2': np.linspace(0, 1, 20), 'lambda_1': np.linspace(0, 1, 20), 'lambda_2': np.linspace(0, 1, 20)}\n\ngridsearch = GridSearchCV(bayreg, gs_params, n_jobs=-1, cv=5, verbose=2)",
   "execution_count": 39,
   "outputs": []
  },
  {
   "cell_type": "code",
   "metadata": {
    "tags": [],
    "cell_id": "00035-d84cd5d3-ff83-42f8-ad12-444a29300a0b",
    "deepnote_to_be_reexecuted": false,
    "source_hash": "89317615",
    "execution_start": 1639648963372,
    "execution_millis": 61860084,
    "deepnote_output_heights": [
     null,
     270.625
    ],
    "deepnote_cell_type": "code"
   },
   "source": "#gridsearch.fit(X_train, y_train)",
   "execution_count": 40,
   "outputs": []
  },
  {
   "cell_type": "markdown",
   "source": "https://scikit-learn.org/stable/modules/linear_model.html#orthogonal-matching-pursuit-omp",
   "metadata": {
    "tags": [],
    "cell_id": "00036-805a7b8e-cac6-45f2-a353-fe49bbaaf13f",
    "deepnote_cell_type": "markdown"
   }
  },
  {
   "cell_type": "code",
   "metadata": {
    "tags": [],
    "cell_id": "00037-545a622f-436d-4cf2-9e36-1756e45cbe2f",
    "deepnote_to_be_reexecuted": false,
    "source_hash": "70787c49",
    "execution_start": 1639648963437,
    "execution_millis": 44,
    "deepnote_output_heights": [
     21.1875
    ],
    "deepnote_cell_type": "code"
   },
   "source": "y_pred = bayreg.predict(X_test)\n\nbayreg_mae = mean_absolute_error(y_test, y_pred)",
   "execution_count": 41,
   "outputs": []
  },
  {
   "cell_type": "code",
   "metadata": {
    "tags": [],
    "cell_id": "00038-bf180545-968b-4c53-960d-ad17038fe60f",
    "deepnote_to_be_reexecuted": false,
    "source_hash": "a306b2b4",
    "execution_start": 1639648963482,
    "execution_millis": 61860123,
    "deepnote_cell_type": "code"
   },
   "source": "print(bayreg_mae)",
   "execution_count": 42,
   "outputs": [
    {
     "name": "stdout",
     "text": "3835.565190070002\n",
     "output_type": "stream",
     "data": {}
    }
   ]
  },
  {
   "cell_type": "markdown",
   "source": "## Model 4 - Passive Aggressive Regressor",
   "metadata": {
    "tags": [],
    "is_collapsed": false,
    "cell_id": "00037-ea3d0dbd-0bf7-4ef2-9369-13e442740b5f",
    "deepnote_cell_type": "text-cell-h2"
   }
  },
  {
   "cell_type": "code",
   "metadata": {
    "tags": [],
    "cell_id": "00038-466e8ffc-abb4-4b90-bcb9-7bd2eda284aa",
    "deepnote_to_be_reexecuted": false,
    "source_hash": "eb3d14ed",
    "execution_start": 1639648963526,
    "execution_millis": 1,
    "deepnote_cell_type": "code"
   },
   "source": "from sklearn.linear_model import PassiveAggressiveRegressor",
   "execution_count": 43,
   "outputs": []
  },
  {
   "cell_type": "code",
   "metadata": {
    "tags": [],
    "cell_id": "00039-e5e4c74a-2b75-4d72-9087-3e6b16b6fe55",
    "deepnote_to_be_reexecuted": false,
    "source_hash": "3b74fdfe",
    "execution_start": 1639648963535,
    "execution_millis": 157,
    "deepnote_output_heights": [
     21.1875
    ],
    "deepnote_cell_type": "code"
   },
   "source": "pass_regr = PassiveAggressiveRegressor(max_iter=1000, random_state=0, tol=1e-7, C=1.0)\npass_regr.fit(X_train, y_train)\n",
   "execution_count": 44,
   "outputs": [
    {
     "output_type": "execute_result",
     "execution_count": 44,
     "data": {
      "text/plain": "PassiveAggressiveRegressor(random_state=0, tol=1e-07)"
     },
     "metadata": {}
    }
   ]
  },
  {
   "cell_type": "code",
   "metadata": {
    "tags": [],
    "cell_id": "00040-cb2a0c01-f4e3-4f9a-bd56-d037681f1bb0",
    "deepnote_to_be_reexecuted": false,
    "source_hash": "e840a321",
    "execution_start": 1639648963698,
    "execution_millis": 40,
    "deepnote_cell_type": "code"
   },
   "source": "print(pass_regr.coef_)",
   "execution_count": 45,
   "outputs": [
    {
     "name": "stdout",
     "text": "[  70.70511843  -48.17857962  -44.77852763 -113.25323214  933.57032949\n   49.25440474  -18.99603143    0.          -12.67912267   68.49377355\n  -43.93027664   26.52819403  -94.04773502   22.97032505  -22.97032505\n -449.93498096   89.53343054  622.23697569  -34.697457    -25.06946565\n    1.54262709   64.13245329   -6.82109095   30.47292945   77.9421261\n   -9.89029546    5.75975519  -98.89459497  -40.52990888   40.52990888\n  -16.17728368   12.16181063    1.4048155    88.02192292   38.67118685\n -113.74244172    9.95701033   -3.47631721  -12.7944082    53.65133699\n  -59.15437179   26.21453493   14.12573385   13.33771924  -25.01376575\n   30.6758888   -21.53442565  -18.6803118   219.64026209 -159.77794004\n   32.14628507 -142.3187043   -69.50896532    9.55257274   78.74648344\n   -4.87211319 -701.84652855  904.47293051  916.92668792  692.67405659\n  258.06706817 -573.54365883  -29.24744188   32.02783533  -14.53309868]\n",
     "output_type": "stream",
     "data": {}
    }
   ]
  },
  {
   "cell_type": "code",
   "metadata": {
    "tags": [],
    "cell_id": "00043-3b736bc9-1a07-4459-bae3-009f3313cee7",
    "deepnote_to_be_reexecuted": false,
    "source_hash": "23e1e932",
    "execution_start": 1639648963750,
    "execution_millis": 1862,
    "deepnote_cell_type": "code"
   },
   "source": "cv_score = cross_val_score(pass_regr, X_train, y_train, cv=5)\nmean_cv = np.mean(cross_val_score(pass_regr, X_train, y_train, cv=5))\ntraining_score = pass_regr.score(X_train, y_train)\ntest_score = pass_regr.score(X_test, y_test)\n\nprint(\"Training Score: \", training_score)\nprint(\"Cross validation scores: \", cv_score)\nprint(\"Your Mean CV Score: \", mean_cv)\nprint(\"Test Score: \", test_score)",
   "execution_count": 46,
   "outputs": [
    {
     "name": "stdout",
     "text": "Training Score:  0.04403169320171274\nCross validation scores:  [-0.01215483  0.06023318  0.03263171  0.07383318  0.05674465]\nYour Mean CV Score:  0.04225757822806171\nTest Score:  0.05404936433343843\n",
     "output_type": "stream",
     "data": {}
    }
   ]
  },
  {
   "cell_type": "code",
   "metadata": {
    "tags": [],
    "cell_id": "00043-4c6a24d3-4059-4f3f-b7e8-69e877273e28",
    "deepnote_to_be_reexecuted": false,
    "source_hash": "af404c1f",
    "execution_start": 1639648965630,
    "execution_millis": 54,
    "deepnote_output_heights": [
     21.1875
    ],
    "deepnote_cell_type": "code"
   },
   "source": "y_pred = pass_regr.predict(X_test)\n\npassreg_mae = mean_absolute_error(y_test, y_pred)\nprint(passreg_mae)",
   "execution_count": 47,
   "outputs": [
    {
     "name": "stdout",
     "text": "3379.461901587401\n",
     "output_type": "stream",
     "data": {}
    }
   ]
  },
  {
   "cell_type": "markdown",
   "source": "## Model 5 - Huber Regressor",
   "metadata": {
    "tags": [],
    "is_collapsed": false,
    "cell_id": "00047-11f727c2-d3ce-4b29-b5b2-dd6cb1067ea2",
    "deepnote_cell_type": "text-cell-h2"
   }
  },
  {
   "cell_type": "code",
   "metadata": {
    "tags": [],
    "cell_id": "00048-c21f6016-1425-4412-b2be-36171c3775d1",
    "deepnote_to_be_reexecuted": false,
    "source_hash": "cc4f292",
    "execution_start": 1639648965742,
    "execution_millis": 61861534,
    "deepnote_cell_type": "code"
   },
   "source": "from sklearn.linear_model import HuberRegressor",
   "execution_count": 48,
   "outputs": []
  },
  {
   "cell_type": "code",
   "metadata": {
    "tags": [],
    "cell_id": "00049-45fa132d-c557-4d02-b3ba-6a94692f5c50",
    "deepnote_to_be_reexecuted": false,
    "source_hash": "b61e33c5",
    "execution_start": 1639648965818,
    "execution_millis": 61861549,
    "deepnote_cell_type": "code"
   },
   "source": "# Huber works very well with Outliers. This is the leading model - provide more context to Huber.",
   "execution_count": 49,
   "outputs": []
  },
  {
   "cell_type": "code",
   "metadata": {
    "tags": [],
    "cell_id": "00050-3470f542-9b9a-49b9-b8af-ec5eb2e74f71",
    "deepnote_to_be_reexecuted": false,
    "source_hash": "4fbf8d9c",
    "execution_start": 1639648965853,
    "execution_millis": 344,
    "deepnote_cell_type": "code"
   },
   "source": "huber = HuberRegressor().fit(X_train, y_train)\n\ny_pred = huber.predict(X_test)\n\nhuber_mae = mean_absolute_error(y_test, y_pred)\nprint(huber_mae)",
   "execution_count": 50,
   "outputs": [
    {
     "name": "stdout",
     "text": "3396.6306325112305\n",
     "output_type": "stream",
     "data": {}
    }
   ]
  },
  {
   "cell_type": "code",
   "metadata": {
    "tags": [],
    "cell_id": "00059-6983fba8-9e73-4703-ac0f-2201d878735c",
    "deepnote_to_be_reexecuted": false,
    "source_hash": "6695c145",
    "execution_start": 1639648966252,
    "execution_millis": 4766,
    "deepnote_cell_type": "code"
   },
   "source": "cv_score = cross_val_score(huber, X_train, y_train, cv=5)\nmean_cv = np.mean(cross_val_score(huber, X_train, y_train, cv=5))\ntraining_score = huber.score(X_train, y_train)\ntest_score = huber.score(X_test, y_test)\n\nprint(\"Training Score: \", training_score)\nprint(\"Cross validation scores: \", cv_score)\nprint(\"Your Mean CV Score: \", mean_cv)\nprint(\"Test Score: \", test_score)",
   "execution_count": 51,
   "outputs": [
    {
     "name": "stdout",
     "text": "Training Score:  0.06665627437570965\nCross validation scores:  [0.01736002 0.07586983 0.04979067 0.09275529 0.07107316]\nYour Mean CV Score:  0.06136979502027342\nTest Score:  0.07501080372960467\n",
     "output_type": "stream",
     "data": {}
    }
   ]
  },
  {
   "cell_type": "markdown",
   "source": "## Model 6 - Random Sample Consensus Regressor",
   "metadata": {
    "tags": [],
    "is_collapsed": false,
    "cell_id": "00051-43df967c-b14c-4ca0-a359-367d36b85391",
    "deepnote_cell_type": "text-cell-h2"
   }
  },
  {
   "cell_type": "code",
   "metadata": {
    "tags": [],
    "cell_id": "00052-e4d2f254-6537-4880-a972-4059490e9478",
    "deepnote_to_be_reexecuted": false,
    "source_hash": "b0d42b52",
    "execution_start": 1639648971043,
    "execution_millis": 39,
    "deepnote_cell_type": "code"
   },
   "source": "from sklearn.linear_model import RANSACRegressor",
   "execution_count": 52,
   "outputs": []
  },
  {
   "cell_type": "markdown",
   "source": "https://scikit-learn.org/stable/modules/generated/sklearn.linear_model.RANSACRegressor.html#sklearn.linear_model.RANSACRegressor",
   "metadata": {
    "tags": [],
    "cell_id": "00053-f085a775-8fcb-4098-aeb2-67c91809ac52",
    "deepnote_cell_type": "markdown"
   }
  },
  {
   "cell_type": "code",
   "metadata": {
    "tags": [],
    "cell_id": "00053-942f5c22-7faa-4733-81cf-ab2992778a35",
    "deepnote_to_be_reexecuted": false,
    "source_hash": "61cee48e",
    "execution_start": 1639648971099,
    "execution_millis": 32691,
    "deepnote_cell_type": "code"
   },
   "source": "ransac_reg = RANSACRegressor(random_state=0, max_trials=1100).fit(X_train, y_train)\n\ny_pred = ransac_reg.predict(X_test)\n\nransac_mae = mean_absolute_error(y_test, y_pred)\nprint(ransac_mae)",
   "execution_count": 53,
   "outputs": [
    {
     "name": "stdout",
     "text": "819418158859644.9\n",
     "output_type": "stream",
     "data": {}
    }
   ]
  },
  {
   "cell_type": "markdown",
   "source": "## Model 7 - SGD Regressor",
   "metadata": {
    "tags": [],
    "is_collapsed": false,
    "cell_id": "00055-26a16005-05d4-4bde-8fdb-98f81c126cee",
    "deepnote_cell_type": "text-cell-h2"
   }
  },
  {
   "cell_type": "code",
   "metadata": {
    "tags": [],
    "cell_id": "00056-3a7038dd-5557-4834-9992-1ce5ac675e55",
    "deepnote_to_be_reexecuted": false,
    "source_hash": "636fff7d",
    "execution_start": 1639649003790,
    "execution_millis": 1,
    "deepnote_cell_type": "code"
   },
   "source": "from sklearn.linear_model import SGDRegressor",
   "execution_count": 54,
   "outputs": []
  },
  {
   "cell_type": "code",
   "metadata": {
    "tags": [],
    "cell_id": "00057-246101b7-4707-4f11-b470-0b2253752f42",
    "deepnote_to_be_reexecuted": false,
    "source_hash": "670618f8",
    "execution_start": 1639649003813,
    "execution_millis": 23870,
    "deepnote_cell_type": "code"
   },
   "source": "sgd_reg = SGDRegressor(max_iter=3000, tol=None, penalty='elasticnet', l1_ratio=1, learning_rate='invscaling').fit(X_train, y_train)\n\ny_pred = sgd_reg.predict(X_test)\n\nsgd_mae = mean_absolute_error(y_test, y_pred)\nprint(sgd_mae)",
   "execution_count": 55,
   "outputs": [
    {
     "name": "stdout",
     "text": "3828.2554242544484\n",
     "output_type": "stream",
     "data": {}
    }
   ]
  },
  {
   "cell_type": "markdown",
   "source": "## Tensorflow Regressor",
   "metadata": {
    "tags": [],
    "is_collapsed": false,
    "cell_id": "00058-838c7305-20b8-4470-a815-5e9fe7c86084",
    "deepnote_cell_type": "text-cell-h2"
   }
  },
  {
   "cell_type": "code",
   "metadata": {
    "tags": [],
    "cell_id": "00059-81e8a363-900e-4ee5-85b5-7cb0b42507c8",
    "deepnote_to_be_reexecuted": false,
    "source_hash": "cf2557ff",
    "execution_start": 1639649027690,
    "execution_millis": 4213,
    "deepnote_cell_type": "code"
   },
   "source": "import tensorflow as tf\nfrom tensorflow import keras\nfrom tensorflow.keras.layers import Input, Dense\nfrom tensorflow.keras.models import Model",
   "execution_count": 56,
   "outputs": []
  },
  {
   "cell_type": "code",
   "metadata": {
    "tags": [],
    "cell_id": "00060-1d264a85-006c-41a6-9626-7e35a3765bb5",
    "deepnote_to_be_reexecuted": false,
    "source_hash": "1f5d64ed",
    "execution_start": 1639649031919,
    "execution_millis": 18,
    "deepnote_output_heights": [
     21.1875
    ],
    "deepnote_cell_type": "code"
   },
   "source": "X_train[2].shape",
   "execution_count": 57,
   "outputs": [
    {
     "output_type": "execute_result",
     "execution_count": 57,
     "data": {
      "text/plain": "(65,)"
     },
     "metadata": {}
    }
   ]
  },
  {
   "cell_type": "code",
   "metadata": {
    "tags": [],
    "cell_id": "00060-70f4d72d-b71e-43a0-b8ed-906b8f667751",
    "deepnote_to_be_reexecuted": false,
    "source_hash": "f296355a",
    "execution_start": 1639649031943,
    "execution_millis": 131,
    "deepnote_cell_type": "code"
   },
   "source": "input_layer = Input(shape=(66,))\nx1 = Dense(500, activation='linear')(input_layer)\nx2 = Dense(500, activation='linear')(x1)\noutput = Dense(1, activation='linear')(x2)\n\nregr_tf = Model(inputs=input_layer, outputs=output)",
   "execution_count": 58,
   "outputs": []
  },
  {
   "cell_type": "code",
   "metadata": {
    "tags": [],
    "cell_id": "00062-7eaae06d-2205-4e62-84b7-1c594335b431",
    "deepnote_to_be_reexecuted": false,
    "source_hash": "412effb1",
    "execution_start": 1639649032079,
    "execution_millis": 95,
    "deepnote_cell_type": "code"
   },
   "source": "# Trying different model topologies to see which achieves better results\n\ninput_layer = Input(shape=(66,))\nx1 = Dense(1000, activation='linear')(input_layer)\nx2 = Dense(1000, activation='linear')(x1)\nx3 = Dense(1000, activation='linear')(x2)\noutput = Dense(1, activation='linear')(x3)\n\nregr_tf = Model(inputs=input_layer, outputs=output)",
   "execution_count": 59,
   "outputs": []
  },
  {
   "cell_type": "code",
   "metadata": {
    "tags": [],
    "cell_id": "00063-58e8e11a-6b47-4c37-ac99-a82d29823589",
    "deepnote_to_be_reexecuted": false,
    "source_hash": "4b7447ab",
    "execution_start": 1639649032181,
    "execution_millis": 27,
    "deepnote_cell_type": "code"
   },
   "source": "# Worth trying reduce_lr_on_plateau callback as well\n\nopt = tf.keras.optimizers.Adam(learning_rate=0.0001)",
   "execution_count": 60,
   "outputs": []
  },
  {
   "cell_type": "code",
   "metadata": {
    "tags": [],
    "cell_id": "00062-4cd4547e-7cb3-48e4-92fc-6ace78cad8c2",
    "deepnote_to_be_reexecuted": false,
    "source_hash": "481f1e54",
    "execution_start": 1639649032226,
    "execution_millis": 46,
    "deepnote_cell_type": "code"
   },
   "source": "regr_tf.compile(optimizer=opt, loss='mse', metrics=[tf.keras.metrics.MeanAbsoluteError()])",
   "execution_count": 61,
   "outputs": []
  },
  {
   "cell_type": "code",
   "metadata": {
    "tags": [],
    "cell_id": "00063-106be957-9157-46a7-9c0a-18cd9fba4276",
    "deepnote_to_be_reexecuted": false,
    "source_hash": "45a0457",
    "execution_start": 1639649032278,
    "execution_millis": 12,
    "deepnote_output_heights": [
     null,
     21.1875
    ],
    "deepnote_cell_type": "code"
   },
   "source": "#regr_tf.fit(X_train, y_train, epochs=100, batch_size=10, validation_data=(X_test, y_test))",
   "execution_count": 62,
   "outputs": []
  },
  {
   "cell_type": "markdown",
   "source": "## Model Analysis",
   "metadata": {
    "tags": [],
    "is_collapsed": false,
    "cell_id": "00066-d42550df-27cb-42f1-88c5-6c68cfda43df",
    "deepnote_cell_type": "text-cell-h2"
   }
  },
  {
   "cell_type": "code",
   "metadata": {
    "tags": [],
    "cell_id": "00067-d628c559-ebd5-480d-ba11-844d8be1cca9",
    "deepnote_to_be_reexecuted": false,
    "source_hash": "d1e5dc2e",
    "execution_start": 1639649032296,
    "execution_millis": 12,
    "deepnote_cell_type": "code"
   },
   "source": "test_scores = pd.DataFrame({'ols': ols_mae,\n'elasticnet': model_enet_mae,\n'bayesian_reg': bayreg_mae,\n'pass_agg': passreg_mae,\n'huber': huber_mae,\n'ransac' : ransac_mae,\n'sgd' : sgd_mae},\nindex=['Mean_Absolute_Errors'])",
   "execution_count": 63,
   "outputs": []
  },
  {
   "cell_type": "code",
   "metadata": {
    "tags": [],
    "cell_id": "00068-17b27485-97be-40db-9dd9-9b3470137555",
    "deepnote_to_be_reexecuted": false,
    "source_hash": "c0908902",
    "execution_start": 1639649032316,
    "execution_millis": 103,
    "deepnote_cell_type": "code"
   },
   "source": "test_scores",
   "execution_count": 64,
   "outputs": [
    {
     "output_type": "execute_result",
     "execution_count": 64,
     "data": {
      "application/vnd.deepnote.dataframe.v3+json": {
       "column_count": 7,
       "row_count": 1,
       "columns": [
        {
         "name": "ols",
         "dtype": "float64",
         "stats": {
          "unique_count": 1,
          "nan_count": 0,
          "min": "3824.1491377071357",
          "max": "3824.1491377071357",
          "histogram": [
           {
            "bin_start": 3823.6491377071357,
            "bin_end": 3823.7491377071356,
            "count": 0
           },
           {
            "bin_start": 3823.7491377071356,
            "bin_end": 3823.8491377071355,
            "count": 0
           },
           {
            "bin_start": 3823.8491377071355,
            "bin_end": 3823.949137707136,
            "count": 0
           },
           {
            "bin_start": 3823.949137707136,
            "bin_end": 3824.0491377071357,
            "count": 0
           },
           {
            "bin_start": 3824.0491377071357,
            "bin_end": 3824.1491377071357,
            "count": 0
           },
           {
            "bin_start": 3824.1491377071357,
            "bin_end": 3824.2491377071356,
            "count": 1
           },
           {
            "bin_start": 3824.2491377071356,
            "bin_end": 3824.3491377071355,
            "count": 0
           },
           {
            "bin_start": 3824.3491377071355,
            "bin_end": 3824.449137707136,
            "count": 0
           },
           {
            "bin_start": 3824.449137707136,
            "bin_end": 3824.5491377071357,
            "count": 0
           },
           {
            "bin_start": 3824.5491377071357,
            "bin_end": 3824.6491377071357,
            "count": 0
           }
          ]
         }
        },
        {
         "name": "elasticnet",
         "dtype": "float64",
         "stats": {
          "unique_count": 1,
          "nan_count": 0,
          "min": "3836.033104882058",
          "max": "3836.033104882058",
          "histogram": [
           {
            "bin_start": 3835.533104882058,
            "bin_end": 3835.633104882058,
            "count": 0
           },
           {
            "bin_start": 3835.633104882058,
            "bin_end": 3835.733104882058,
            "count": 0
           },
           {
            "bin_start": 3835.733104882058,
            "bin_end": 3835.8331048820583,
            "count": 0
           },
           {
            "bin_start": 3835.8331048820583,
            "bin_end": 3835.933104882058,
            "count": 0
           },
           {
            "bin_start": 3835.933104882058,
            "bin_end": 3836.033104882058,
            "count": 0
           },
           {
            "bin_start": 3836.033104882058,
            "bin_end": 3836.133104882058,
            "count": 1
           },
           {
            "bin_start": 3836.133104882058,
            "bin_end": 3836.233104882058,
            "count": 0
           },
           {
            "bin_start": 3836.233104882058,
            "bin_end": 3836.3331048820583,
            "count": 0
           },
           {
            "bin_start": 3836.3331048820583,
            "bin_end": 3836.433104882058,
            "count": 0
           },
           {
            "bin_start": 3836.433104882058,
            "bin_end": 3836.533104882058,
            "count": 0
           }
          ]
         }
        },
        {
         "name": "bayesian_reg",
         "dtype": "float64",
         "stats": {
          "unique_count": 1,
          "nan_count": 0,
          "min": "3835.565190070002",
          "max": "3835.565190070002",
          "histogram": [
           {
            "bin_start": 3835.065190070002,
            "bin_end": 3835.1651900700017,
            "count": 0
           },
           {
            "bin_start": 3835.1651900700017,
            "bin_end": 3835.2651900700016,
            "count": 0
           },
           {
            "bin_start": 3835.2651900700016,
            "bin_end": 3835.365190070002,
            "count": 0
           },
           {
            "bin_start": 3835.365190070002,
            "bin_end": 3835.465190070002,
            "count": 0
           },
           {
            "bin_start": 3835.465190070002,
            "bin_end": 3835.565190070002,
            "count": 0
           },
           {
            "bin_start": 3835.565190070002,
            "bin_end": 3835.6651900700017,
            "count": 1
           },
           {
            "bin_start": 3835.6651900700017,
            "bin_end": 3835.7651900700016,
            "count": 0
           },
           {
            "bin_start": 3835.7651900700016,
            "bin_end": 3835.865190070002,
            "count": 0
           },
           {
            "bin_start": 3835.865190070002,
            "bin_end": 3835.965190070002,
            "count": 0
           },
           {
            "bin_start": 3835.965190070002,
            "bin_end": 3836.065190070002,
            "count": 0
           }
          ]
         }
        },
        {
         "name": "pass_agg",
         "dtype": "float64",
         "stats": {
          "unique_count": 1,
          "nan_count": 0,
          "min": "3379.461901587401",
          "max": "3379.461901587401",
          "histogram": [
           {
            "bin_start": 3378.961901587401,
            "bin_end": 3379.061901587401,
            "count": 0
           },
           {
            "bin_start": 3379.061901587401,
            "bin_end": 3379.1619015874007,
            "count": 0
           },
           {
            "bin_start": 3379.1619015874007,
            "bin_end": 3379.261901587401,
            "count": 0
           },
           {
            "bin_start": 3379.261901587401,
            "bin_end": 3379.361901587401,
            "count": 0
           },
           {
            "bin_start": 3379.361901587401,
            "bin_end": 3379.461901587401,
            "count": 0
           },
           {
            "bin_start": 3379.461901587401,
            "bin_end": 3379.561901587401,
            "count": 1
           },
           {
            "bin_start": 3379.561901587401,
            "bin_end": 3379.6619015874007,
            "count": 0
           },
           {
            "bin_start": 3379.6619015874007,
            "bin_end": 3379.761901587401,
            "count": 0
           },
           {
            "bin_start": 3379.761901587401,
            "bin_end": 3379.861901587401,
            "count": 0
           },
           {
            "bin_start": 3379.861901587401,
            "bin_end": 3379.961901587401,
            "count": 0
           }
          ]
         }
        },
        {
         "name": "huber",
         "dtype": "float64",
         "stats": {
          "unique_count": 1,
          "nan_count": 0,
          "min": "3396.6306325112305",
          "max": "3396.6306325112305",
          "histogram": [
           {
            "bin_start": 3396.1306325112305,
            "bin_end": 3396.2306325112304,
            "count": 0
           },
           {
            "bin_start": 3396.2306325112304,
            "bin_end": 3396.3306325112303,
            "count": 0
           },
           {
            "bin_start": 3396.3306325112303,
            "bin_end": 3396.4306325112307,
            "count": 0
           },
           {
            "bin_start": 3396.4306325112307,
            "bin_end": 3396.5306325112306,
            "count": 0
           },
           {
            "bin_start": 3396.5306325112306,
            "bin_end": 3396.6306325112305,
            "count": 0
           },
           {
            "bin_start": 3396.6306325112305,
            "bin_end": 3396.7306325112304,
            "count": 1
           },
           {
            "bin_start": 3396.7306325112304,
            "bin_end": 3396.8306325112303,
            "count": 0
           },
           {
            "bin_start": 3396.8306325112303,
            "bin_end": 3396.9306325112307,
            "count": 0
           },
           {
            "bin_start": 3396.9306325112307,
            "bin_end": 3397.0306325112306,
            "count": 0
           },
           {
            "bin_start": 3397.0306325112306,
            "bin_end": 3397.1306325112305,
            "count": 0
           }
          ]
         }
        },
        {
         "name": "ransac",
         "dtype": "float64",
         "stats": {
          "unique_count": 1,
          "nan_count": 0,
          "min": "819418158859644.9",
          "max": "819418158859644.9",
          "histogram": [
           {
            "bin_start": 819418158859644.4,
            "bin_end": 819418158859644.5,
            "count": 0
           },
           {
            "bin_start": 819418158859644.5,
            "bin_end": 819418158859644.6,
            "count": 0
           },
           {
            "bin_start": 819418158859644.6,
            "bin_end": 819418158859644.6,
            "count": 0
           },
           {
            "bin_start": 819418158859644.6,
            "bin_end": 819418158859644.8,
            "count": 0
           },
           {
            "bin_start": 819418158859644.8,
            "bin_end": 819418158859644.9,
            "count": 0
           },
           {
            "bin_start": 819418158859644.9,
            "bin_end": 819418158859645,
            "count": 1
           },
           {
            "bin_start": 819418158859645,
            "bin_end": 819418158859645.1,
            "count": 0
           },
           {
            "bin_start": 819418158859645.1,
            "bin_end": 819418158859645.1,
            "count": 0
           },
           {
            "bin_start": 819418158859645.1,
            "bin_end": 819418158859645.2,
            "count": 0
           },
           {
            "bin_start": 819418158859645.2,
            "bin_end": 819418158859645.4,
            "count": 0
           }
          ]
         }
        },
        {
         "name": "sgd",
         "dtype": "float64",
         "stats": {
          "unique_count": 1,
          "nan_count": 0,
          "min": "3828.2554242544484",
          "max": "3828.2554242544484",
          "histogram": [
           {
            "bin_start": 3827.7554242544484,
            "bin_end": 3827.8554242544483,
            "count": 0
           },
           {
            "bin_start": 3827.8554242544483,
            "bin_end": 3827.955424254448,
            "count": 0
           },
           {
            "bin_start": 3827.955424254448,
            "bin_end": 3828.0554242544486,
            "count": 0
           },
           {
            "bin_start": 3828.0554242544486,
            "bin_end": 3828.1554242544485,
            "count": 0
           },
           {
            "bin_start": 3828.1554242544485,
            "bin_end": 3828.2554242544484,
            "count": 0
           },
           {
            "bin_start": 3828.2554242544484,
            "bin_end": 3828.3554242544483,
            "count": 1
           },
           {
            "bin_start": 3828.3554242544483,
            "bin_end": 3828.455424254448,
            "count": 0
           },
           {
            "bin_start": 3828.455424254448,
            "bin_end": 3828.5554242544486,
            "count": 0
           },
           {
            "bin_start": 3828.5554242544486,
            "bin_end": 3828.6554242544485,
            "count": 0
           },
           {
            "bin_start": 3828.6554242544485,
            "bin_end": 3828.7554242544484,
            "count": 0
           }
          ]
         }
        },
        {
         "name": "_deepnote_index_column",
         "dtype": "object"
        }
       ],
       "rows": [
        {
         "ols": 3824.1491377071357,
         "elasticnet": 3836.033104882058,
         "bayesian_reg": 3835.565190070002,
         "pass_agg": 3379.461901587401,
         "huber": 3396.6306325112305,
         "ransac": 819418158859644.9,
         "sgd": 3828.2554242544484,
         "_deepnote_index_column": "Mean_Absolute_Errors"
        }
       ]
      },
      "text/plain": "                              ols   elasticnet  bayesian_reg     pass_agg  \\\nMean_Absolute_Errors  3824.149138  3836.033105    3835.56519  3379.461902   \n\n                            huber        ransac          sgd  \nMean_Absolute_Errors  3396.630633  8.194182e+14  3828.255424  ",
      "text/html": "<div>\n<style scoped>\n    .dataframe tbody tr th:only-of-type {\n        vertical-align: middle;\n    }\n\n    .dataframe tbody tr th {\n        vertical-align: top;\n    }\n\n    .dataframe thead th {\n        text-align: right;\n    }\n</style>\n<table border=\"1\" class=\"dataframe\">\n  <thead>\n    <tr style=\"text-align: right;\">\n      <th></th>\n      <th>ols</th>\n      <th>elasticnet</th>\n      <th>bayesian_reg</th>\n      <th>pass_agg</th>\n      <th>huber</th>\n      <th>ransac</th>\n      <th>sgd</th>\n    </tr>\n  </thead>\n  <tbody>\n    <tr>\n      <th>Mean_Absolute_Errors</th>\n      <td>3824.149138</td>\n      <td>3836.033105</td>\n      <td>3835.56519</td>\n      <td>3379.461902</td>\n      <td>3396.630633</td>\n      <td>8.194182e+14</td>\n      <td>3828.255424</td>\n    </tr>\n  </tbody>\n</table>\n</div>"
     },
     "metadata": {}
    }
   ]
  },
  {
   "cell_type": "code",
   "metadata": {
    "tags": [],
    "cell_id": "00068-3d9c8fcb-963b-4aac-93c3-916275a19e94",
    "deepnote_to_be_reexecuted": false,
    "source_hash": "8c6e94f5",
    "execution_start": 1639649032427,
    "execution_millis": 13,
    "deepnote_cell_type": "code"
   },
   "source": "test_scores = test_scores.T",
   "execution_count": 65,
   "outputs": []
  },
  {
   "cell_type": "code",
   "metadata": {
    "tags": [],
    "cell_id": "00069-66c6939b-ed8e-48d7-be9c-2cc3ea6857cf",
    "deepnote_to_be_reexecuted": false,
    "source_hash": "73ae9091",
    "execution_start": 1639649032459,
    "execution_millis": 479,
    "deepnote_output_heights": [
     298
    ],
    "deepnote_cell_type": "code"
   },
   "source": "test_scores.plot()\nplt.xticks(rotation=35)\nplt.show()",
   "execution_count": 66,
   "outputs": [
    {
     "data": {
      "text/plain": "<Figure size 432x288 with 1 Axes>",
      "image/png": "[encoded data removed]"
     },
     "metadata": {
      "needs_background": "light",
      "image/png": {
       "width": 362,
       "height": 296
      }
     },
     "output_type": "display_data"
    }
   ]
  },
  {
   "cell_type": "code",
   "metadata": {
    "tags": [],
    "cell_id": "00070-98efa6de-db6e-4b4b-b4b2-e9231f70a63d",
    "deepnote_to_be_reexecuted": false,
    "source_hash": "8916460e",
    "execution_start": 1639649032956,
    "execution_millis": 19,
    "deepnote_output_heights": [
     328.1875
    ],
    "deepnote_cell_type": "code"
   },
   "source": "pass_regr.coef_",
   "execution_count": 67,
   "outputs": [
    {
     "output_type": "execute_result",
     "execution_count": 67,
     "data": {
      "text/plain": "array([  70.70511843,  -48.17857962,  -44.77852763, -113.25323214,\n        933.57032949,   49.25440474,  -18.99603143,    0.        ,\n        -12.67912267,   68.49377355,  -43.93027664,   26.52819403,\n        -94.04773502,   22.97032505,  -22.97032505, -449.93498096,\n         89.53343054,  622.23697569,  -34.697457  ,  -25.06946565,\n          1.54262709,   64.13245329,   -6.82109095,   30.47292945,\n         77.9421261 ,   -9.89029546,    5.75975519,  -98.89459497,\n        -40.52990888,   40.52990888,  -16.17728368,   12.16181063,\n          1.4048155 ,   88.02192292,   38.67118685, -113.74244172,\n          9.95701033,   -3.47631721,  -12.7944082 ,   53.65133699,\n        -59.15437179,   26.21453493,   14.12573385,   13.33771924,\n        -25.01376575,   30.6758888 ,  -21.53442565,  -18.6803118 ,\n        219.64026209, -159.77794004,   32.14628507, -142.3187043 ,\n        -69.50896532,    9.55257274,   78.74648344,   -4.87211319,\n       -701.84652855,  904.47293051,  916.92668792,  692.67405659,\n        258.06706817, -573.54365883,  -29.24744188,   32.02783533,\n        -14.53309868])"
     },
     "metadata": {}
    }
   ]
  },
  {
   "cell_type": "code",
   "metadata": {
    "tags": [],
    "cell_id": "00071-d01a5245-849f-4bf9-87b1-3804d8e1787b",
    "deepnote_to_be_reexecuted": false,
    "source_hash": "30b36ead",
    "execution_start": 1639649032982,
    "execution_millis": 10,
    "deepnote_cell_type": "code"
   },
   "source": "pass_agg_feat_imp = pd.DataFrame(data=pass_regr.coef_, index=X.columns, columns=[\"feature_importance\"])",
   "execution_count": 68,
   "outputs": []
  },
  {
   "cell_type": "code",
   "metadata": {
    "tags": [],
    "cell_id": "00073-cf7b260f-212c-498a-850b-ecb1422358d0",
    "deepnote_to_be_reexecuted": false,
    "source_hash": "56b1b565",
    "execution_start": 1639649033005,
    "execution_millis": 54,
    "deepnote_output_heights": [
     382.1875
    ],
    "deepnote_cell_type": "code"
   },
   "source": "pass_agg_feat_imp.sort_values(by=\"feature_importance\")",
   "execution_count": 69,
   "outputs": [
    {
     "output_type": "execute_result",
     "execution_count": 69,
     "data": {
      "application/vnd.deepnote.dataframe.v3+json": {
       "column_count": 1,
       "row_count": 65,
       "columns": [
        {
         "name": "feature_importance",
         "dtype": "float64",
         "stats": {
          "unique_count": 65,
          "nan_count": 0,
          "min": "-701.8465285511569",
          "max": "933.5703294852613",
          "histogram": [
           {
            "bin_start": -701.8465285511569,
            "bin_end": -538.3048427475151,
            "count": 2
           },
           {
            "bin_start": -538.3048427475151,
            "bin_end": -374.7631569438733,
            "count": 1
           },
           {
            "bin_start": -374.7631569438733,
            "bin_end": -211.22147114023153,
            "count": 0
           },
           {
            "bin_start": -211.22147114023153,
            "bin_end": -47.6797853365897,
            "count": 9
           },
           {
            "bin_start": -47.6797853365897,
            "bin_end": 115.86190046705212,
            "count": 46
           },
           {
            "bin_start": 115.86190046705212,
            "bin_end": 279.40358627069384,
            "count": 2
           },
           {
            "bin_start": 279.40358627069384,
            "bin_end": 442.9452720743358,
            "count": 0
           },
           {
            "bin_start": 442.9452720743358,
            "bin_end": 606.4869578779775,
            "count": 0
           },
           {
            "bin_start": 606.4869578779775,
            "bin_end": 770.0286436816192,
            "count": 2
           },
           {
            "bin_start": 770.0286436816192,
            "bin_end": 933.5703294852613,
            "count": 3
           }
          ]
         }
        },
        {
         "name": "_deepnote_index_column",
         "dtype": "object"
        }
       ],
       "rows": [
        {
         "feature_importance": -701.8465285511569,
         "_deepnote_index_column": "Vehicle Class_Four-Door Car"
        },
        {
         "feature_importance": -573.543658825633,
         "_deepnote_index_column": "Vehicle Class_Two-Door Car"
        },
        {
         "feature_importance": -449.93498095724897,
         "_deepnote_index_column": "Coverage_Basic"
        },
        {
         "feature_importance": -159.77794004004983,
         "_deepnote_index_column": "Renew Offer Type_Offer2"
        },
        {
         "feature_importance": -142.31870429992645,
         "_deepnote_index_column": "Renew Offer Type_Offer4"
        },
        {
         "feature_importance": -113.74244172244588,
         "_deepnote_index_column": "Marital Status_Single"
        },
        {
         "feature_importance": -113.25323214368588,
         "_deepnote_index_column": "Number of Open Complaints"
        },
        {
         "feature_importance": -98.89459497236079,
         "_deepnote_index_column": "EmploymentStatus_Unemployed"
        },
        {
         "feature_importance": -94.04773501683216,
         "_deepnote_index_column": "State_Washington"
        },
        {
         "feature_importance": -69.50896532140953,
         "_deepnote_index_column": "Sales Channel_Agent"
        }
       ]
      },
      "text/plain": "                             feature_importance\nVehicle Class_Four-Door Car         -701.846529\nVehicle Class_Two-Door Car          -573.543659\nCoverage_Basic                      -449.934981\nRenew Offer Type_Offer2             -159.777940\nRenew Offer Type_Offer4             -142.318704\n...                                         ...\nCoverage_Premium                     622.236976\nVehicle Class_SUV                    692.674057\nVehicle Class_Luxury Car             904.472931\nVehicle Class_Luxury SUV             916.926688\nNumber of Policies                   933.570329\n\n[65 rows x 1 columns]",
      "text/html": "<div>\n<style scoped>\n    .dataframe tbody tr th:only-of-type {\n        vertical-align: middle;\n    }\n\n    .dataframe tbody tr th {\n        vertical-align: top;\n    }\n\n    .dataframe thead th {\n        text-align: right;\n    }\n</style>\n<table border=\"1\" class=\"dataframe\">\n  <thead>\n    <tr style=\"text-align: right;\">\n      <th></th>\n      <th>feature_importance</th>\n    </tr>\n  </thead>\n  <tbody>\n    <tr>\n      <th>Vehicle Class_Four-Door Car</th>\n      <td>-701.846529</td>\n    </tr>\n    <tr>\n      <th>Vehicle Class_Two-Door Car</th>\n      <td>-573.543659</td>\n    </tr>\n    <tr>\n      <th>Coverage_Basic</th>\n      <td>-449.934981</td>\n    </tr>\n    <tr>\n      <th>Renew Offer Type_Offer2</th>\n      <td>-159.777940</td>\n    </tr>\n    <tr>\n      <th>Renew Offer Type_Offer4</th>\n      <td>-142.318704</td>\n    </tr>\n    <tr>\n      <th>...</th>\n      <td>...</td>\n    </tr>\n    <tr>\n      <th>Coverage_Premium</th>\n      <td>622.236976</td>\n    </tr>\n    <tr>\n      <th>Vehicle Class_SUV</th>\n      <td>692.674057</td>\n    </tr>\n    <tr>\n      <th>Vehicle Class_Luxury Car</th>\n      <td>904.472931</td>\n    </tr>\n    <tr>\n      <th>Vehicle Class_Luxury SUV</th>\n      <td>916.926688</td>\n    </tr>\n    <tr>\n      <th>Number of Policies</th>\n      <td>933.570329</td>\n    </tr>\n  </tbody>\n</table>\n<p>65 rows × 1 columns</p>\n</div>"
     },
     "metadata": {}
    }
   ]
  },
  {
   "cell_type": "markdown",
   "source": "<a style='text-decoration:none;line-height:16px;display:flex;color:#5B5B62;padding:10px;justify-content:end;' href='https://deepnote.com?utm_source=created-in-deepnote-cell&projectId=8fd894ed-7cb5-4f70-9097-b20c180a3837' target=\"_blank\">\n<img alt='Created in deepnote.com' style='display:inline;max-height:16px;margin:0px;margin-right:7.5px;' src='data:image/svg+xml;base64,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' > </img>\nCreated in <span style='font-weight:600;margin-left:4px;'>Deepnote</span></a>",
   "metadata": {
    "tags": [],
    "created_in_deepnote_cell": true,
    "deepnote_cell_type": "markdown"
   }
  }
 ],
 "nbformat": 4,
 "nbformat_minor": 2,
 "metadata": {
  "orig_nbformat": 2,
  "deepnote": {
   "is_reactive": false
  },
  "deepnote_notebook_id": "ab1ee90e-bda7-4613-b8e9-e77af90673b6",
  "deepnote_execution_queue": []
 }
}